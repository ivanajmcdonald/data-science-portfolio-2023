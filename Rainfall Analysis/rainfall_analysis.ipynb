{
 "cells": [
  {
   "cell_type": "markdown",
   "id": "afc8ea9d",
   "metadata": {},
   "source": [
    "# LA NIÑA RAINFALL EVENT ANALYSIS: AUCKLAND, NEW ZEALAND JANUARY 2023\n",
    "### Data Science using Python"
   ]
  },
  {
   "cell_type": "markdown",
   "id": "71e6f15a",
   "metadata": {},
   "source": [
    "###### Ivana J. Mc Donald"
   ]
  },
  {
   "cell_type": "markdown",
   "id": "a618888e",
   "metadata": {},
   "source": [
    "2023/2024 Data Analyst Project"
   ]
  },
  {
   "cell_type": "markdown",
   "id": "a41f8df6",
   "metadata": {},
   "source": [
    "**************************************************************************************************"
   ]
  },
  {
   "cell_type": "markdown",
   "id": "795603b3",
   "metadata": {},
   "source": [
    "### Rainfall Dataset\n",
    "National Institute of Water and Atmospheric Research (NIWA). (2023). \"CliFlo: The National Climate Database\" Retrieved from [ https://cliflo.niwa.co.nz/pls/niwp/wgenf.genform1 ]."
   ]
  },
  {
   "cell_type": "markdown",
   "id": "58173a86",
   "metadata": {},
   "source": [
    "**************************************************************************************************"
   ]
  },
  {
   "cell_type": "markdown",
   "id": "845b675c",
   "metadata": {},
   "source": [
    "### DataFrame Descriptions\n",
    "###### rainfall_data_df\n",
    "_Section 2.1.5 displays 'rainfall_data_df'_\n",
    "\n",
    "rainfall_data_df is a historical record of daily rainfall in Auckland from July 1, 1962, to June 30, 2023, with columns for Station, Date, and Rainfall.\n",
    "###### year_month_df\n",
    "_Section 3.1.6 displays 'year_month_df'_\n",
    "\n",
    "year_month_df contains data with two columns: 'Year and Month' and 'Monthly Rainfall (mm)', showing the total rainfall recorded for each month over multiple years.\n",
    "###### monthly_rainfall_df\n",
    "_Section 3.2.17 displays 'monthly_rainfall_df'_\n",
    "\n",
    "monthly_rainfall_df is a dataset showing the total monthly and annual rainfall in corresponding years. It contains columns for Year, January to December, and Annual Rainfall.\n",
    "###### monthly_stats_df\n",
    "_Section 3.3.8 displays 'monthly_stats_df'_\n",
    "\n",
    "monthly_stats_df presents monthly statistics (Min, Max, Average, Std Deviation, and Mean) calculated from data recorded between July 1, 1962, and June 30, 2023, for each month.\n",
    "###### seasonal_rainfall_df\n",
    "_Section 3.4.8 displays 'seasonal_rainfall_df'_\n",
    "\n",
    "seasonal_rainfall_df shows the total rainfall for each season (Summer, Autumn, Winter, and Spring) corresponding to the years listed in the 'Year' column.\n",
    "###### seasonal_stats_df\n",
    "_Section 3.5.8 displays 'seasonal_stats_df'_\n",
    "\n",
    "seasonal_stats_df presents seasonal statistics (Min, Max, Average, Std Deviation, and Mean) calculated from data recorded between July 1, 1962, and June 30, 2023, for each season.\n",
    "###### gumbel_est_calculations_df\n",
    "_Section 4.1.11 displays 'gumbel_est_calculations_df'_\n",
    "\n",
    "gumbel_est_calculations_df contains Gumbel estimates, return periods, and relevant variables (Max One-Day Rainfall, Observations, Rank, Exceedance, Non-Exceedance, Gumbel Est. Return Period, Reduced Variable) for rainfall data analysis. \n",
    "###### gumbel_variables_df\n",
    "_Section 4.2.5 displays 'gumbel_variables_df'_\n",
    "\n",
    "gumbel_variables_df shows the variables, their corresponding equations, and the calculated values used in Gumbel Estimate calculations. Useful for understanding the process and results of the analysis. \n",
    "###### gumbel_est_df\n",
    "_Section 4.3.6 displays 'gumbel_est_df'_\n",
    "\n",
    "gumbel_est_df contains Gumbel Estimate results for various return periods, based on corresponding Gumbel Estimate Return Period and Reduced Variable values. Useful for analyzing extreme event probabilities.\n",
    "###### january_2023_stats_df\n",
    "_Section 4.4.6 displays 'january_2023_stats_df'_\n",
    "\n",
    "january_2023_stats_df presents a comparison of statistical rainfall data for January between 1963 and 2022 and January 2023. It includes Min, Max, Average, Mean, and Standard Deviation values."
   ]
  },
  {
   "cell_type": "markdown",
   "id": "719955a5",
   "metadata": {},
   "source": [
    "**************************************************************************************************\n",
    "**************************************************************************************************"
   ]
  },
  {
   "cell_type": "markdown",
   "id": "f5c417e6",
   "metadata": {},
   "source": [
    "# 1. Import Modules & Libraries"
   ]
  },
  {
   "cell_type": "code",
   "execution_count": 1,
   "id": "33ff0928",
   "metadata": {},
   "outputs": [],
   "source": [
    "import math\n",
    "import statistics\n",
    "import time\n",
    "import warnings\n",
    "import numpy as np\n",
    "import openpyxl\n",
    "import pandas as pd\n",
    "import plotly.graph_objects as go\n",
    "import plotly.offline as pyo\n",
    "from IPython.display import Image\n",
    "from openpyxl import load_workbook\n",
    "from openpyxl.chart import BarChart, LineChart\n",
    "from openpyxl.chart import Reference\n",
    "from openpyxl.styles import PatternFill\n",
    "warnings.simplefilter('ignore') # filter some warning messages\n",
    "import dataframe_image as dfi\n",
    "import os"
   ]
  },
  {
   "cell_type": "markdown",
   "id": "993c57ae",
   "metadata": {},
   "source": [
    "**************************************************************************************************\n",
    "**************************************************************************************************"
   ]
  },
  {
   "cell_type": "markdown",
   "id": "485d24cd",
   "metadata": {},
   "source": [
    "# 2. Data Manipulation"
   ]
  },
  {
   "cell_type": "markdown",
   "id": "79be5fcb",
   "metadata": {},
   "source": [
    "## 2.1 Create 'rainfall_data_df' Dataframe"
   ]
  },
  {
   "cell_type": "markdown",
   "id": "e9daacd5",
   "metadata": {},
   "source": [
    "### 2.1.1 Read 'original_auckland_rainfall.xlsx' Excel File"
   ]
  },
  {
   "cell_type": "markdown",
   "id": "6f44cb40",
   "metadata": {},
   "source": [
    "#### Read Excel File"
   ]
  },
  {
   "cell_type": "code",
   "execution_count": 2,
   "id": "0ca5875a",
   "metadata": {},
   "outputs": [],
   "source": [
    "rainfall_data_df = pd.read_excel('original_auckland_rainfall.xlsx')"
   ]
  },
  {
   "cell_type": "markdown",
   "id": "b5aae63f",
   "metadata": {},
   "source": [
    "### 2.1.2 Drop Columns"
   ]
  },
  {
   "cell_type": "code",
   "execution_count": 3,
   "id": "3fb28559",
   "metadata": {},
   "outputs": [],
   "source": [
    "rainfall_data_df = rainfall_data_df.drop(columns=['Time(NZST)', 'Deficit(mm)', 'Runoff(mm)', 'Rel', 'Orig', 'SofG', 'Rel_1', 'Orig_2', 'Period(Hrs)', 'Freq'])"
   ]
  },
  {
   "cell_type": "markdown",
   "id": "81c03fb6",
   "metadata": {},
   "source": [
    "### 2.1.3 Change 'Date (NZST)' Format and Datatype"
   ]
  },
  {
   "cell_type": "markdown",
   "id": "6e3472d9",
   "metadata": {},
   "source": [
    "#### Change Datatype of 'rainfall_data_df['Date(NZST)']'"
   ]
  },
  {
   "cell_type": "code",
   "execution_count": 4,
   "id": "d435bdc5",
   "metadata": {},
   "outputs": [],
   "source": [
    "rainfall_data_df['Date(NZST)'] = rainfall_data_df['Date(NZST)'].astype(str)"
   ]
  },
  {
   "cell_type": "markdown",
   "id": "5844851b",
   "metadata": {},
   "source": [
    "#### Insert 'Date (NZST)' Column"
   ]
  },
  {
   "cell_type": "code",
   "execution_count": 5,
   "id": "2adcf01e",
   "metadata": {},
   "outputs": [],
   "source": [
    "rain_dates_list = []\n",
    "for i in range(len(rainfall_data_df)):\n",
    "    rain_year_list = rainfall_data_df['Date(NZST)'].iloc[i][:4]\n",
    "    rain_month_list = rainfall_data_df['Date(NZST)'].iloc[i][4:6]\n",
    "    rain_day_list = rainfall_data_df['Date(NZST)'].iloc[i][6:8]\n",
    "    rain_dates_list.append(rain_year_list + '/' + rain_month_list + '/' + rain_day_list)"
   ]
  },
  {
   "cell_type": "code",
   "execution_count": 6,
   "id": "45cc5f15",
   "metadata": {},
   "outputs": [],
   "source": [
    "rainfall_data_df.insert(1, 'Date (NZST)', rain_dates_list)"
   ]
  },
  {
   "cell_type": "markdown",
   "id": "dd9903ce",
   "metadata": {},
   "source": [
    "#### Change Datatype of 'rainfall_data_df['Date (NZST)']'"
   ]
  },
  {
   "cell_type": "code",
   "execution_count": 7,
   "id": "956393bc",
   "metadata": {},
   "outputs": [],
   "source": [
    "rainfall_data_df['Date (NZST)'] = pd.to_datetime(rainfall_data_df['Date (NZST)'])"
   ]
  },
  {
   "cell_type": "markdown",
   "id": "1276808b",
   "metadata": {},
   "source": [
    "#### Drop 'Date(NZST)'Column"
   ]
  },
  {
   "cell_type": "code",
   "execution_count": 8,
   "id": "3b18b8ab",
   "metadata": {},
   "outputs": [],
   "source": [
    "rainfall_data_df = rainfall_data_df.drop(columns=['Date(NZST)'])"
   ]
  },
  {
   "cell_type": "markdown",
   "id": "696a1fd0",
   "metadata": {},
   "source": [
    "### 2.1.4 Change Column Names"
   ]
  },
  {
   "cell_type": "code",
   "execution_count": 9,
   "id": "0604eacb",
   "metadata": {},
   "outputs": [],
   "source": [
    "rainfall_data_df.rename(columns = {'Date (NZST)':'Date', 'Amount(mm)':'Rainfall (mm/d)', 'Deficit(mm)':'Deficit (mm/d)', 'Runoff(mm)':'Runoff (mm/d)'}, inplace = True)"
   ]
  },
  {
   "cell_type": "markdown",
   "id": "18ef3c01",
   "metadata": {},
   "source": [
    "### 2.1.5 Display 'rainfall_data_df' Dataframe"
   ]
  },
  {
   "cell_type": "code",
   "execution_count": 10,
   "id": "c91fc53d",
   "metadata": {},
   "outputs": [
    {
     "data": {
      "text/html": [
       "<div>\n",
       "<style scoped>\n",
       "    .dataframe tbody tr th:only-of-type {\n",
       "        vertical-align: middle;\n",
       "    }\n",
       "\n",
       "    .dataframe tbody tr th {\n",
       "        vertical-align: top;\n",
       "    }\n",
       "\n",
       "    .dataframe thead th {\n",
       "        text-align: right;\n",
       "    }\n",
       "</style>\n",
       "<table border=\"1\" class=\"dataframe\">\n",
       "  <thead>\n",
       "    <tr style=\"text-align: right;\">\n",
       "      <th></th>\n",
       "      <th>Station</th>\n",
       "      <th>Date</th>\n",
       "      <th>Rainfall (mm/d)</th>\n",
       "    </tr>\n",
       "  </thead>\n",
       "  <tbody>\n",
       "    <tr>\n",
       "      <th>0</th>\n",
       "      <td>Auckland Aero</td>\n",
       "      <td>1962-07-01</td>\n",
       "      <td>0.0</td>\n",
       "    </tr>\n",
       "    <tr>\n",
       "      <th>1</th>\n",
       "      <td>Auckland Aero</td>\n",
       "      <td>1962-07-02</td>\n",
       "      <td>0.0</td>\n",
       "    </tr>\n",
       "    <tr>\n",
       "      <th>2</th>\n",
       "      <td>Auckland Aero</td>\n",
       "      <td>1962-07-03</td>\n",
       "      <td>7.9</td>\n",
       "    </tr>\n",
       "    <tr>\n",
       "      <th>3</th>\n",
       "      <td>Auckland Aero</td>\n",
       "      <td>1962-07-04</td>\n",
       "      <td>0.0</td>\n",
       "    </tr>\n",
       "    <tr>\n",
       "      <th>4</th>\n",
       "      <td>Auckland Aero</td>\n",
       "      <td>1962-07-05</td>\n",
       "      <td>9.7</td>\n",
       "    </tr>\n",
       "    <tr>\n",
       "      <th>...</th>\n",
       "      <td>...</td>\n",
       "      <td>...</td>\n",
       "      <td>...</td>\n",
       "    </tr>\n",
       "    <tr>\n",
       "      <th>22076</th>\n",
       "      <td>Auckland Aero</td>\n",
       "      <td>2023-06-25</td>\n",
       "      <td>1.4</td>\n",
       "    </tr>\n",
       "    <tr>\n",
       "      <th>22077</th>\n",
       "      <td>Auckland Aero</td>\n",
       "      <td>2023-06-26</td>\n",
       "      <td>0.2</td>\n",
       "    </tr>\n",
       "    <tr>\n",
       "      <th>22078</th>\n",
       "      <td>Auckland Aero</td>\n",
       "      <td>2023-06-27</td>\n",
       "      <td>15.2</td>\n",
       "    </tr>\n",
       "    <tr>\n",
       "      <th>22079</th>\n",
       "      <td>Auckland Aero</td>\n",
       "      <td>2023-06-28</td>\n",
       "      <td>3.2</td>\n",
       "    </tr>\n",
       "    <tr>\n",
       "      <th>22080</th>\n",
       "      <td>Auckland Aero</td>\n",
       "      <td>2023-06-29</td>\n",
       "      <td>4.6</td>\n",
       "    </tr>\n",
       "  </tbody>\n",
       "</table>\n",
       "<p>22081 rows × 3 columns</p>\n",
       "</div>"
      ],
      "text/plain": [
       "             Station       Date  Rainfall (mm/d)\n",
       "0      Auckland Aero 1962-07-01              0.0\n",
       "1      Auckland Aero 1962-07-02              0.0\n",
       "2      Auckland Aero 1962-07-03              7.9\n",
       "3      Auckland Aero 1962-07-04              0.0\n",
       "4      Auckland Aero 1962-07-05              9.7\n",
       "...              ...        ...              ...\n",
       "22076  Auckland Aero 2023-06-25              1.4\n",
       "22077  Auckland Aero 2023-06-26              0.2\n",
       "22078  Auckland Aero 2023-06-27             15.2\n",
       "22079  Auckland Aero 2023-06-28              3.2\n",
       "22080  Auckland Aero 2023-06-29              4.6\n",
       "\n",
       "[22081 rows x 3 columns]"
      ]
     },
     "execution_count": 10,
     "metadata": {},
     "output_type": "execute_result"
    }
   ],
   "source": [
    "rainfall_data_df"
   ]
  },
  {
   "cell_type": "markdown",
   "id": "1b4aad77",
   "metadata": {},
   "source": [
    "**************************************************************************************************\n",
    "**************************************************************************************************"
   ]
  },
  {
   "cell_type": "markdown",
   "id": "d5c5d8ab",
   "metadata": {},
   "source": [
    "# 3. Data Visualisation: Typical Rainfall Patterns in Auckland, New Zealand"
   ]
  },
  {
   "cell_type": "markdown",
   "id": "18db80c0",
   "metadata": {},
   "source": [
    "## 3.1 Create 'year_month_df' Dataframe"
   ]
  },
  {
   "cell_type": "markdown",
   "id": "095eb1a8",
   "metadata": {},
   "source": [
    "### 3.1.1 Create 'yyyy_mm_daily_df' Dataframe"
   ]
  },
  {
   "cell_type": "code",
   "execution_count": 11,
   "id": "88f7fd49",
   "metadata": {},
   "outputs": [],
   "source": [
    "yyyy_mm_daily_df = pd.DataFrame()"
   ]
  },
  {
   "cell_type": "markdown",
   "id": "756862f0",
   "metadata": {},
   "source": [
    "### 3.1.2 Insert 'Year and Month' Column"
   ]
  },
  {
   "cell_type": "code",
   "execution_count": 12,
   "id": "b9beb49f",
   "metadata": {},
   "outputs": [],
   "source": [
    "rainfall_date = pd.Series(rainfall_data_df['Date'], dtype=\"string\")"
   ]
  },
  {
   "cell_type": "code",
   "execution_count": 13,
   "id": "ca077298",
   "metadata": {},
   "outputs": [],
   "source": [
    "year_month_list = []\n",
    "for i in range(len(rainfall_date)):\n",
    "    rainfall_yyyy_mm = rainfall_date[i][:7]\n",
    "    year_month_list.append(rainfall_yyyy_mm)"
   ]
  },
  {
   "cell_type": "code",
   "execution_count": 14,
   "id": "6d924851",
   "metadata": {},
   "outputs": [],
   "source": [
    "yyyy_mm_daily_df.insert(0, 'Year and Month', year_month_list)"
   ]
  },
  {
   "cell_type": "code",
   "execution_count": 15,
   "id": "33847796",
   "metadata": {},
   "outputs": [],
   "source": [
    "yyyy_mm_daily_df.insert(1, 'Rainfall (mm/d)', rainfall_data_df['Rainfall (mm/d)'])"
   ]
  },
  {
   "cell_type": "markdown",
   "id": "91461261",
   "metadata": {},
   "source": [
    "### 3.1.3 Create 'year_month_df' Dataframe"
   ]
  },
  {
   "cell_type": "code",
   "execution_count": 16,
   "id": "83088f45",
   "metadata": {},
   "outputs": [],
   "source": [
    "year_month_df = pd.DataFrame()"
   ]
  },
  {
   "cell_type": "markdown",
   "id": "3c549a52",
   "metadata": {},
   "source": [
    "### 3.1.4 Insert 'Year and Month' Column"
   ]
  },
  {
   "cell_type": "code",
   "execution_count": 17,
   "id": "e50f4299",
   "metadata": {},
   "outputs": [],
   "source": [
    "yyyy_mm = yyyy_mm_daily_df['Year and Month'].drop_duplicates()"
   ]
  },
  {
   "cell_type": "code",
   "execution_count": 18,
   "id": "22b21cdd",
   "metadata": {},
   "outputs": [],
   "source": [
    "yyyy_mm_list = ['1962-01', '1962-02', '1962-03', '1962-04', '1962-05', '1962-06']"
   ]
  },
  {
   "cell_type": "code",
   "execution_count": 19,
   "id": "24dbd5fa",
   "metadata": {},
   "outputs": [],
   "source": [
    "for i in range(len(yyyy_mm)):\n",
    "    yyyy_mm_list.append(yyyy_mm.iloc[i])"
   ]
  },
  {
   "cell_type": "code",
   "execution_count": 20,
   "id": "2f46ce84",
   "metadata": {},
   "outputs": [],
   "source": [
    "yyyy_mm_append = ['2023-07', '2023-08', '2023-09', '2023-10', '2023-11', '2023-12']\n",
    "for i in range(len(yyyy_mm_append)):\n",
    "    yyyy_mm_list.append(yyyy_mm_append[i])"
   ]
  },
  {
   "cell_type": "code",
   "execution_count": 21,
   "id": "f5b357fd",
   "metadata": {},
   "outputs": [],
   "source": [
    "year_month_df.insert(0, 'Year and Month', yyyy_mm_list)"
   ]
  },
  {
   "cell_type": "markdown",
   "id": "f7f64325",
   "metadata": {},
   "source": [
    "### 3.1.5 Insert 'Rainfall (mm)' Column"
   ]
  },
  {
   "cell_type": "code",
   "execution_count": 22,
   "id": "e792307e",
   "metadata": {},
   "outputs": [],
   "source": [
    "monthly_sum = yyyy_mm_daily_df.groupby('Year and Month')['Rainfall (mm/d)'].sum()"
   ]
  },
  {
   "cell_type": "code",
   "execution_count": 23,
   "id": "d8eec5b7",
   "metadata": {},
   "outputs": [],
   "source": [
    "monthly_sum_list = [np.nan, np.nan, np.nan, np.nan, np.nan, np.nan]"
   ]
  },
  {
   "cell_type": "code",
   "execution_count": 24,
   "id": "1682f9d2",
   "metadata": {},
   "outputs": [],
   "source": [
    "for i in range(len(monthly_sum)):\n",
    "    monthly_sum_list.append(monthly_sum.iloc[i])"
   ]
  },
  {
   "cell_type": "code",
   "execution_count": 25,
   "id": "8ee5ed41",
   "metadata": {},
   "outputs": [],
   "source": [
    "monthly_sum_append = [np.nan, np.nan, np.nan, np.nan, np.nan, np.nan]\n",
    "for i in range(len(monthly_sum_append)):\n",
    "    monthly_sum_list.append(monthly_sum_append[i])"
   ]
  },
  {
   "cell_type": "code",
   "execution_count": 26,
   "id": "ba7f5f57",
   "metadata": {},
   "outputs": [],
   "source": [
    "year_month_df.insert(1, 'Monthly Rainfall (mm)', monthly_sum_list)"
   ]
  },
  {
   "cell_type": "markdown",
   "id": "a1cb3b04",
   "metadata": {},
   "source": [
    "### 3.1.6 Display 'year_month_df' Dataframe"
   ]
  },
  {
   "cell_type": "code",
   "execution_count": 27,
   "id": "b51d03c3",
   "metadata": {},
   "outputs": [
    {
     "data": {
      "text/html": [
       "<div>\n",
       "<style scoped>\n",
       "    .dataframe tbody tr th:only-of-type {\n",
       "        vertical-align: middle;\n",
       "    }\n",
       "\n",
       "    .dataframe tbody tr th {\n",
       "        vertical-align: top;\n",
       "    }\n",
       "\n",
       "    .dataframe thead th {\n",
       "        text-align: right;\n",
       "    }\n",
       "</style>\n",
       "<table border=\"1\" class=\"dataframe\">\n",
       "  <thead>\n",
       "    <tr style=\"text-align: right;\">\n",
       "      <th></th>\n",
       "      <th>Year and Month</th>\n",
       "      <th>Monthly Rainfall (mm)</th>\n",
       "    </tr>\n",
       "  </thead>\n",
       "  <tbody>\n",
       "    <tr>\n",
       "      <th>0</th>\n",
       "      <td>1962-01</td>\n",
       "      <td>NaN</td>\n",
       "    </tr>\n",
       "    <tr>\n",
       "      <th>1</th>\n",
       "      <td>1962-02</td>\n",
       "      <td>NaN</td>\n",
       "    </tr>\n",
       "    <tr>\n",
       "      <th>2</th>\n",
       "      <td>1962-03</td>\n",
       "      <td>NaN</td>\n",
       "    </tr>\n",
       "    <tr>\n",
       "      <th>3</th>\n",
       "      <td>1962-04</td>\n",
       "      <td>NaN</td>\n",
       "    </tr>\n",
       "    <tr>\n",
       "      <th>4</th>\n",
       "      <td>1962-05</td>\n",
       "      <td>NaN</td>\n",
       "    </tr>\n",
       "    <tr>\n",
       "      <th>5</th>\n",
       "      <td>1962-06</td>\n",
       "      <td>NaN</td>\n",
       "    </tr>\n",
       "    <tr>\n",
       "      <th>6</th>\n",
       "      <td>1962-07</td>\n",
       "      <td>158.0</td>\n",
       "    </tr>\n",
       "    <tr>\n",
       "      <th>7</th>\n",
       "      <td>1962-08</td>\n",
       "      <td>109.5</td>\n",
       "    </tr>\n",
       "    <tr>\n",
       "      <th>8</th>\n",
       "      <td>1962-09</td>\n",
       "      <td>99.8</td>\n",
       "    </tr>\n",
       "    <tr>\n",
       "      <th>9</th>\n",
       "      <td>1962-10</td>\n",
       "      <td>182.7</td>\n",
       "    </tr>\n",
       "    <tr>\n",
       "      <th>10</th>\n",
       "      <td>1962-11</td>\n",
       "      <td>117.0</td>\n",
       "    </tr>\n",
       "    <tr>\n",
       "      <th>11</th>\n",
       "      <td>1962-12</td>\n",
       "      <td>97.2</td>\n",
       "    </tr>\n",
       "    <tr>\n",
       "      <th>12</th>\n",
       "      <td>1963-01</td>\n",
       "      <td>58.3</td>\n",
       "    </tr>\n",
       "    <tr>\n",
       "      <th>13</th>\n",
       "      <td>1963-02</td>\n",
       "      <td>92.6</td>\n",
       "    </tr>\n",
       "    <tr>\n",
       "      <th>14</th>\n",
       "      <td>1963-03</td>\n",
       "      <td>77.3</td>\n",
       "    </tr>\n",
       "    <tr>\n",
       "      <th>15</th>\n",
       "      <td>1963-04</td>\n",
       "      <td>101.7</td>\n",
       "    </tr>\n",
       "    <tr>\n",
       "      <th>16</th>\n",
       "      <td>1963-05</td>\n",
       "      <td>68.0</td>\n",
       "    </tr>\n",
       "    <tr>\n",
       "      <th>17</th>\n",
       "      <td>1963-06</td>\n",
       "      <td>122.6</td>\n",
       "    </tr>\n",
       "    <tr>\n",
       "      <th>18</th>\n",
       "      <td>1963-07</td>\n",
       "      <td>124.9</td>\n",
       "    </tr>\n",
       "    <tr>\n",
       "      <th>19</th>\n",
       "      <td>1963-08</td>\n",
       "      <td>67.3</td>\n",
       "    </tr>\n",
       "    <tr>\n",
       "      <th>20</th>\n",
       "      <td>1963-09</td>\n",
       "      <td>107.5</td>\n",
       "    </tr>\n",
       "    <tr>\n",
       "      <th>21</th>\n",
       "      <td>1963-10</td>\n",
       "      <td>11.0</td>\n",
       "    </tr>\n",
       "    <tr>\n",
       "      <th>22</th>\n",
       "      <td>1963-11</td>\n",
       "      <td>71.9</td>\n",
       "    </tr>\n",
       "    <tr>\n",
       "      <th>23</th>\n",
       "      <td>1963-12</td>\n",
       "      <td>80.3</td>\n",
       "    </tr>\n",
       "  </tbody>\n",
       "</table>\n",
       "</div>"
      ],
      "text/plain": [
       "   Year and Month  Monthly Rainfall (mm)\n",
       "0         1962-01                    NaN\n",
       "1         1962-02                    NaN\n",
       "2         1962-03                    NaN\n",
       "3         1962-04                    NaN\n",
       "4         1962-05                    NaN\n",
       "5         1962-06                    NaN\n",
       "6         1962-07                  158.0\n",
       "7         1962-08                  109.5\n",
       "8         1962-09                   99.8\n",
       "9         1962-10                  182.7\n",
       "10        1962-11                  117.0\n",
       "11        1962-12                   97.2\n",
       "12        1963-01                   58.3\n",
       "13        1963-02                   92.6\n",
       "14        1963-03                   77.3\n",
       "15        1963-04                  101.7\n",
       "16        1963-05                   68.0\n",
       "17        1963-06                  122.6\n",
       "18        1963-07                  124.9\n",
       "19        1963-08                   67.3\n",
       "20        1963-09                  107.5\n",
       "21        1963-10                   11.0\n",
       "22        1963-11                   71.9\n",
       "23        1963-12                   80.3"
      ]
     },
     "execution_count": 27,
     "metadata": {},
     "output_type": "execute_result"
    }
   ],
   "source": [
    "year_month_df.head(24)"
   ]
  },
  {
   "cell_type": "markdown",
   "id": "4ff44d52",
   "metadata": {},
   "source": [
    "**************************************************************************************************"
   ]
  },
  {
   "cell_type": "markdown",
   "id": "7c438466",
   "metadata": {},
   "source": [
    "## 3.2 Create 'monthly_rainfall_df' Dataframe"
   ]
  },
  {
   "cell_type": "markdown",
   "id": "fa781b33",
   "metadata": {},
   "source": [
    "### 3.2.1 Create 'monthly_rainfall_df' Dataframe"
   ]
  },
  {
   "cell_type": "code",
   "execution_count": 28,
   "id": "98ab9719",
   "metadata": {},
   "outputs": [],
   "source": [
    "monthly_rainfall_df = pd.DataFrame()"
   ]
  },
  {
   "cell_type": "markdown",
   "id": "9c08fce2",
   "metadata": {},
   "source": [
    "### 3.2.2 Insert 'Year' Column"
   ]
  },
  {
   "cell_type": "code",
   "execution_count": 29,
   "id": "fca26757",
   "metadata": {},
   "outputs": [],
   "source": [
    "end_year = rainfall_data_df['Date'].max().year\n",
    "start_year = rainfall_data_df['Date'].min().year\n",
    "n_year = int(end_year) - int(start_year) + 1"
   ]
  },
  {
   "cell_type": "code",
   "execution_count": 30,
   "id": "35fd0be9",
   "metadata": {},
   "outputs": [],
   "source": [
    "year_list = []\n",
    "for i in range(n_year):\n",
    "    year_list.append(start_year + i)"
   ]
  },
  {
   "cell_type": "code",
   "execution_count": 31,
   "id": "218b1536",
   "metadata": {},
   "outputs": [],
   "source": [
    "monthly_rainfall_df.insert(0, 'Year', year_list)"
   ]
  },
  {
   "cell_type": "markdown",
   "id": "8b6a3a5e",
   "metadata": {},
   "source": [
    "### 3.2.3 Insert 'January' Column"
   ]
  },
  {
   "cell_type": "code",
   "execution_count": 32,
   "id": "1f957b47",
   "metadata": {},
   "outputs": [],
   "source": [
    "january = []\n",
    "for i in range(len(year_month_df)):\n",
    "    if year_month_df['Year and Month'].iloc[i][5:]  == '01':\n",
    "        m_date = year_month_df['Year and Month'].iloc[i]\n",
    "        month_rain = (year_month_df['Monthly Rainfall (mm)'][year_month_df['Year and Month'] == m_date])\n",
    "        month_rain = float(month_rain)\n",
    "        january.append(month_rain)"
   ]
  },
  {
   "cell_type": "code",
   "execution_count": 33,
   "id": "30187db2",
   "metadata": {},
   "outputs": [],
   "source": [
    "monthly_rainfall_df.insert(1, 'January', january)"
   ]
  },
  {
   "cell_type": "markdown",
   "id": "8cc78cad",
   "metadata": {},
   "source": [
    "### 3.2.4 Insert 'February' Column"
   ]
  },
  {
   "cell_type": "code",
   "execution_count": 34,
   "id": "e7f91fdb",
   "metadata": {},
   "outputs": [],
   "source": [
    "february = []\n",
    "for i in range(len(year_month_df)):\n",
    "    if year_month_df['Year and Month'].iloc[i][5:]  == '02':\n",
    "        m_date = year_month_df['Year and Month'].iloc[i]\n",
    "        month_rain = (year_month_df['Monthly Rainfall (mm)'][year_month_df['Year and Month'] == m_date])\n",
    "        month_rain = float(month_rain)\n",
    "        february.append(month_rain)"
   ]
  },
  {
   "cell_type": "code",
   "execution_count": 35,
   "id": "090014c9",
   "metadata": {},
   "outputs": [],
   "source": [
    "monthly_rainfall_df.insert(2, 'February', february)"
   ]
  },
  {
   "cell_type": "markdown",
   "id": "102d0740",
   "metadata": {},
   "source": [
    "### 3.2.5 Insert 'March' Column"
   ]
  },
  {
   "cell_type": "code",
   "execution_count": 36,
   "id": "85d9bba3",
   "metadata": {},
   "outputs": [],
   "source": [
    "march = []\n",
    "for i in range(len(year_month_df)):\n",
    "    if year_month_df['Year and Month'].iloc[i][5:]  == '03':\n",
    "        m_date = year_month_df['Year and Month'].iloc[i]\n",
    "        month_rain = (year_month_df['Monthly Rainfall (mm)'][year_month_df['Year and Month'] == m_date])\n",
    "        month_rain = float(month_rain)\n",
    "        march.append(month_rain)"
   ]
  },
  {
   "cell_type": "code",
   "execution_count": 37,
   "id": "9cf813e6",
   "metadata": {},
   "outputs": [],
   "source": [
    "monthly_rainfall_df.insert(3, 'March', march)"
   ]
  },
  {
   "cell_type": "markdown",
   "id": "c46d8b36",
   "metadata": {},
   "source": [
    "### 3.2.6 Insert 'April' Column"
   ]
  },
  {
   "cell_type": "code",
   "execution_count": 38,
   "id": "ce0cf81b",
   "metadata": {},
   "outputs": [],
   "source": [
    "april = []\n",
    "for i in range(len(year_month_df)):\n",
    "    if year_month_df['Year and Month'].iloc[i][5:]  == '04':\n",
    "        m_date = year_month_df['Year and Month'].iloc[i]\n",
    "        month_rain = (year_month_df['Monthly Rainfall (mm)'][year_month_df['Year and Month'] == m_date])\n",
    "        month_rain = float(month_rain)\n",
    "        april.append(month_rain)"
   ]
  },
  {
   "cell_type": "code",
   "execution_count": 39,
   "id": "8c409ad0",
   "metadata": {},
   "outputs": [],
   "source": [
    "monthly_rainfall_df.insert(4, 'April', april)"
   ]
  },
  {
   "cell_type": "markdown",
   "id": "97a5fd76",
   "metadata": {},
   "source": [
    "### 3.2.7 Insert 'May' Column"
   ]
  },
  {
   "cell_type": "code",
   "execution_count": 40,
   "id": "b1588551",
   "metadata": {},
   "outputs": [],
   "source": [
    "may = []\n",
    "for i in range(len(year_month_df)):\n",
    "    if year_month_df['Year and Month'].iloc[i][5:]  == '05':\n",
    "        m_date = year_month_df['Year and Month'].iloc[i]\n",
    "        month_rain = (year_month_df['Monthly Rainfall (mm)'][year_month_df['Year and Month'] == m_date])\n",
    "        month_rain = float(month_rain)\n",
    "        may.append(month_rain)"
   ]
  },
  {
   "cell_type": "code",
   "execution_count": 41,
   "id": "b79c1618",
   "metadata": {},
   "outputs": [],
   "source": [
    "monthly_rainfall_df.insert(5, 'May', may)"
   ]
  },
  {
   "cell_type": "markdown",
   "id": "8eb3f7a2",
   "metadata": {},
   "source": [
    "### 3.2.8 Insert 'June' Column"
   ]
  },
  {
   "cell_type": "code",
   "execution_count": 42,
   "id": "6603d689",
   "metadata": {},
   "outputs": [],
   "source": [
    "june = []\n",
    "for i in range(len(year_month_df)):\n",
    "    if year_month_df['Year and Month'].iloc[i][5:]  == '06':\n",
    "        m_date = year_month_df['Year and Month'].iloc[i]\n",
    "        month_rain = (year_month_df['Monthly Rainfall (mm)'][year_month_df['Year and Month'] == m_date])\n",
    "        month_rain = float(month_rain)\n",
    "        june.append(month_rain)"
   ]
  },
  {
   "cell_type": "code",
   "execution_count": 43,
   "id": "6963e798",
   "metadata": {},
   "outputs": [],
   "source": [
    "monthly_rainfall_df.insert(6, 'June', june)"
   ]
  },
  {
   "cell_type": "markdown",
   "id": "ef68f049",
   "metadata": {},
   "source": [
    "### 3.2.9 Insert 'July' Column"
   ]
  },
  {
   "cell_type": "code",
   "execution_count": 44,
   "id": "b36ebf93",
   "metadata": {},
   "outputs": [],
   "source": [
    "july = []\n",
    "for i in range(len(year_month_df)):\n",
    "    if year_month_df['Year and Month'].iloc[i][5:]  == '07':\n",
    "        m_date = year_month_df['Year and Month'].iloc[i]\n",
    "        month_rain = (year_month_df['Monthly Rainfall (mm)'][year_month_df['Year and Month'] == m_date])\n",
    "        month_rain = float(month_rain)\n",
    "        july.append(month_rain)"
   ]
  },
  {
   "cell_type": "code",
   "execution_count": 45,
   "id": "45cb600f",
   "metadata": {},
   "outputs": [],
   "source": [
    "monthly_rainfall_df.insert(7, 'July', july)"
   ]
  },
  {
   "cell_type": "markdown",
   "id": "3ddfb797",
   "metadata": {},
   "source": [
    "### 3.2.10 Insert 'August' Column"
   ]
  },
  {
   "cell_type": "code",
   "execution_count": 46,
   "id": "7c212cf9",
   "metadata": {},
   "outputs": [],
   "source": [
    "august = []\n",
    "for i in range(len(year_month_df)):\n",
    "    if year_month_df['Year and Month'].iloc[i][5:]  == '08':\n",
    "        m_date = year_month_df['Year and Month'].iloc[i]\n",
    "        month_rain = (year_month_df['Monthly Rainfall (mm)'][year_month_df['Year and Month'] == m_date])\n",
    "        month_rain = float(month_rain)\n",
    "        august.append(month_rain)"
   ]
  },
  {
   "cell_type": "code",
   "execution_count": 47,
   "id": "80ae575b",
   "metadata": {},
   "outputs": [],
   "source": [
    "monthly_rainfall_df.insert(8, 'August', august)"
   ]
  },
  {
   "cell_type": "markdown",
   "id": "a1b0b17e",
   "metadata": {},
   "source": [
    "### 3.2.11 Insert 'September' Column"
   ]
  },
  {
   "cell_type": "code",
   "execution_count": 48,
   "id": "4a8a883b",
   "metadata": {},
   "outputs": [],
   "source": [
    "september = []\n",
    "for i in range(len(year_month_df)):\n",
    "    if year_month_df['Year and Month'].iloc[i][5:]  == '09':\n",
    "        m_date = year_month_df['Year and Month'].iloc[i]\n",
    "        month_rain = (year_month_df['Monthly Rainfall (mm)'][year_month_df['Year and Month'] == m_date])\n",
    "        month_rain = float(month_rain)\n",
    "        september.append(month_rain)"
   ]
  },
  {
   "cell_type": "code",
   "execution_count": 49,
   "id": "62fe51b7",
   "metadata": {},
   "outputs": [],
   "source": [
    "monthly_rainfall_df.insert(9, 'September', september)"
   ]
  },
  {
   "cell_type": "markdown",
   "id": "f9fbfdc2",
   "metadata": {},
   "source": [
    "### 3.2.12 Insert 'October' Column"
   ]
  },
  {
   "cell_type": "code",
   "execution_count": 50,
   "id": "25ae974f",
   "metadata": {},
   "outputs": [],
   "source": [
    "october = []\n",
    "for i in range(len(year_month_df)):\n",
    "    if year_month_df['Year and Month'].iloc[i][5:]  == '10':\n",
    "        m_date = year_month_df['Year and Month'].iloc[i]\n",
    "        month_rain = (year_month_df['Monthly Rainfall (mm)'][year_month_df['Year and Month'] == m_date])\n",
    "        month_rain = float(month_rain)\n",
    "        october.append(month_rain)"
   ]
  },
  {
   "cell_type": "code",
   "execution_count": 51,
   "id": "5204ad89",
   "metadata": {},
   "outputs": [],
   "source": [
    "monthly_rainfall_df.insert(10, 'October', october)"
   ]
  },
  {
   "cell_type": "markdown",
   "id": "3b0aecc9",
   "metadata": {},
   "source": [
    "### 3.2.13 Insert 'November' Column"
   ]
  },
  {
   "cell_type": "code",
   "execution_count": 52,
   "id": "d09c3757",
   "metadata": {},
   "outputs": [],
   "source": [
    "november = []\n",
    "for i in range(len(year_month_df)):\n",
    "    if year_month_df['Year and Month'].iloc[i][5:]  == '11':\n",
    "        m_date = year_month_df['Year and Month'].iloc[i]\n",
    "        month_rain = (year_month_df['Monthly Rainfall (mm)'][year_month_df['Year and Month'] == m_date])\n",
    "        month_rain = float(month_rain)\n",
    "        november.append(month_rain)"
   ]
  },
  {
   "cell_type": "code",
   "execution_count": 53,
   "id": "68a86cbf",
   "metadata": {},
   "outputs": [],
   "source": [
    "monthly_rainfall_df.insert(11, 'November', november)"
   ]
  },
  {
   "cell_type": "markdown",
   "id": "92d609a4",
   "metadata": {},
   "source": [
    "### 3.2.14 Insert 'December' Column"
   ]
  },
  {
   "cell_type": "code",
   "execution_count": 54,
   "id": "ddc975d5",
   "metadata": {},
   "outputs": [],
   "source": [
    "december = []\n",
    "for i in range(len(year_month_df)):\n",
    "    if year_month_df['Year and Month'].iloc[i][5:]  == '12':\n",
    "        m_date = year_month_df['Year and Month'].iloc[i]\n",
    "        month_rain = (year_month_df['Monthly Rainfall (mm)'][year_month_df['Year and Month'] == m_date])\n",
    "        month_rain = float(month_rain)\n",
    "        december.append(month_rain)"
   ]
  },
  {
   "cell_type": "code",
   "execution_count": 55,
   "id": "1f3be7c8",
   "metadata": {},
   "outputs": [],
   "source": [
    "monthly_rainfall_df.insert(12, 'December', december)"
   ]
  },
  {
   "cell_type": "markdown",
   "id": "a544733c",
   "metadata": {},
   "source": [
    "### 3.2.15 Insert 'Annual Rainfall' Column"
   ]
  },
  {
   "cell_type": "code",
   "execution_count": 56,
   "id": "ada9f717",
   "metadata": {},
   "outputs": [],
   "source": [
    "total_rain_year = []\n",
    "for i in range(len(monthly_rainfall_df)):\n",
    "    yearly_sum_rain = (monthly_rainfall_df.iloc[i].sum())-(monthly_rainfall_df['Year'].iloc[i])\n",
    "    total_rain_year.append(yearly_sum_rain)"
   ]
  },
  {
   "cell_type": "code",
   "execution_count": 57,
   "id": "aab9c498",
   "metadata": {},
   "outputs": [],
   "source": [
    "monthly_rainfall_df.insert(13, 'Annual Rainfall', total_rain_year)"
   ]
  },
  {
   "cell_type": "markdown",
   "id": "1e0e0635",
   "metadata": {},
   "source": [
    "### 3.2.16 Change NaN Values"
   ]
  },
  {
   "cell_type": "code",
   "execution_count": 58,
   "id": "5f0b0ed3",
   "metadata": {},
   "outputs": [],
   "source": [
    "monthly_rainfall_df = monthly_rainfall_df.fillna('')"
   ]
  },
  {
   "cell_type": "markdown",
   "id": "647180a0",
   "metadata": {},
   "source": [
    "### 3.2.17 Display 'monthly_rainfall_df' Dataframe"
   ]
  },
  {
   "cell_type": "code",
   "execution_count": 59,
   "id": "306f3f1a",
   "metadata": {},
   "outputs": [],
   "source": [
    "#No data during Jan - June 1962 and July - December 2023. For accurate calculations, change Summer & Autmn 1962 and Winter & Spring values.\n",
    "monthly_rainfall_df['Annual Rainfall'].iloc[0] = 'n/a'\n",
    "monthly_rainfall_df['Annual Rainfall'].iloc[61] = 'n/a'"
   ]
  },
  {
   "cell_type": "code",
   "execution_count": 60,
   "id": "96e76347",
   "metadata": {},
   "outputs": [
    {
     "data": {
      "text/html": [
       "<div>\n",
       "<style scoped>\n",
       "    .dataframe tbody tr th:only-of-type {\n",
       "        vertical-align: middle;\n",
       "    }\n",
       "\n",
       "    .dataframe tbody tr th {\n",
       "        vertical-align: top;\n",
       "    }\n",
       "\n",
       "    .dataframe thead th {\n",
       "        text-align: right;\n",
       "    }\n",
       "</style>\n",
       "<table border=\"1\" class=\"dataframe\">\n",
       "  <thead>\n",
       "    <tr style=\"text-align: right;\">\n",
       "      <th></th>\n",
       "      <th>Year</th>\n",
       "      <th>January</th>\n",
       "      <th>February</th>\n",
       "      <th>March</th>\n",
       "      <th>April</th>\n",
       "      <th>May</th>\n",
       "      <th>June</th>\n",
       "      <th>July</th>\n",
       "      <th>August</th>\n",
       "      <th>September</th>\n",
       "      <th>October</th>\n",
       "      <th>November</th>\n",
       "      <th>December</th>\n",
       "      <th>Annual Rainfall</th>\n",
       "    </tr>\n",
       "  </thead>\n",
       "  <tbody>\n",
       "    <tr>\n",
       "      <th>0</th>\n",
       "      <td>1962</td>\n",
       "      <td></td>\n",
       "      <td></td>\n",
       "      <td></td>\n",
       "      <td></td>\n",
       "      <td></td>\n",
       "      <td></td>\n",
       "      <td>158.0</td>\n",
       "      <td>109.5</td>\n",
       "      <td>99.8</td>\n",
       "      <td>182.7</td>\n",
       "      <td>117.0</td>\n",
       "      <td>97.2</td>\n",
       "      <td>n/a</td>\n",
       "    </tr>\n",
       "    <tr>\n",
       "      <th>1</th>\n",
       "      <td>1963</td>\n",
       "      <td>58.3</td>\n",
       "      <td>92.6</td>\n",
       "      <td>77.3</td>\n",
       "      <td>101.7</td>\n",
       "      <td>68.0</td>\n",
       "      <td>122.6</td>\n",
       "      <td>124.9</td>\n",
       "      <td>67.3</td>\n",
       "      <td>107.5</td>\n",
       "      <td>11.0</td>\n",
       "      <td>71.9</td>\n",
       "      <td>80.3</td>\n",
       "      <td>983.4</td>\n",
       "    </tr>\n",
       "    <tr>\n",
       "      <th>2</th>\n",
       "      <td>1964</td>\n",
       "      <td>64.3</td>\n",
       "      <td>32.5</td>\n",
       "      <td>104.6</td>\n",
       "      <td>21.1</td>\n",
       "      <td>128.6</td>\n",
       "      <td>113.3</td>\n",
       "      <td>175.5</td>\n",
       "      <td>161.2</td>\n",
       "      <td>112.7</td>\n",
       "      <td>142.0</td>\n",
       "      <td>49.6</td>\n",
       "      <td>127.5</td>\n",
       "      <td>1232.9</td>\n",
       "    </tr>\n",
       "    <tr>\n",
       "      <th>3</th>\n",
       "      <td>1965</td>\n",
       "      <td>125.2</td>\n",
       "      <td>144.3</td>\n",
       "      <td>88.1</td>\n",
       "      <td>93.3</td>\n",
       "      <td>103.7</td>\n",
       "      <td>137.8</td>\n",
       "      <td>144.1</td>\n",
       "      <td>220.4</td>\n",
       "      <td>39.3</td>\n",
       "      <td>64.4</td>\n",
       "      <td>98.2</td>\n",
       "      <td>92.8</td>\n",
       "      <td>1351.6</td>\n",
       "    </tr>\n",
       "    <tr>\n",
       "      <th>4</th>\n",
       "      <td>1966</td>\n",
       "      <td>109.2</td>\n",
       "      <td>144.9</td>\n",
       "      <td>133.5</td>\n",
       "      <td>77.6</td>\n",
       "      <td>135.6</td>\n",
       "      <td>129.3</td>\n",
       "      <td>106.9</td>\n",
       "      <td>93.2</td>\n",
       "      <td>93.0</td>\n",
       "      <td>50.1</td>\n",
       "      <td>133.6</td>\n",
       "      <td>89.0</td>\n",
       "      <td>1295.9</td>\n",
       "    </tr>\n",
       "    <tr>\n",
       "      <th>...</th>\n",
       "      <td>...</td>\n",
       "      <td>...</td>\n",
       "      <td>...</td>\n",
       "      <td>...</td>\n",
       "      <td>...</td>\n",
       "      <td>...</td>\n",
       "      <td>...</td>\n",
       "      <td>...</td>\n",
       "      <td>...</td>\n",
       "      <td>...</td>\n",
       "      <td>...</td>\n",
       "      <td>...</td>\n",
       "      <td>...</td>\n",
       "      <td>...</td>\n",
       "    </tr>\n",
       "    <tr>\n",
       "      <th>57</th>\n",
       "      <td>2019</td>\n",
       "      <td>31.6</td>\n",
       "      <td>20.6</td>\n",
       "      <td>40.8</td>\n",
       "      <td>79.6</td>\n",
       "      <td>45.2</td>\n",
       "      <td>103.4</td>\n",
       "      <td>135.6</td>\n",
       "      <td>199.8</td>\n",
       "      <td>122.8</td>\n",
       "      <td>72.2</td>\n",
       "      <td>39.4</td>\n",
       "      <td>51.0</td>\n",
       "      <td>942.0</td>\n",
       "    </tr>\n",
       "    <tr>\n",
       "      <th>58</th>\n",
       "      <td>2020</td>\n",
       "      <td>7.8</td>\n",
       "      <td>14.4</td>\n",
       "      <td>40.2</td>\n",
       "      <td>32.8</td>\n",
       "      <td>97.6</td>\n",
       "      <td>168.8</td>\n",
       "      <td>91.6</td>\n",
       "      <td>121.2</td>\n",
       "      <td>43.8</td>\n",
       "      <td>23.8</td>\n",
       "      <td>107.8</td>\n",
       "      <td>44.0</td>\n",
       "      <td>793.8</td>\n",
       "    </tr>\n",
       "    <tr>\n",
       "      <th>59</th>\n",
       "      <td>2021</td>\n",
       "      <td>40.6</td>\n",
       "      <td>49.2</td>\n",
       "      <td>37.0</td>\n",
       "      <td>77.8</td>\n",
       "      <td>62.8</td>\n",
       "      <td>106.6</td>\n",
       "      <td>87.6</td>\n",
       "      <td>89.8</td>\n",
       "      <td>106.4</td>\n",
       "      <td>110.4</td>\n",
       "      <td>37.8</td>\n",
       "      <td>106.2</td>\n",
       "      <td>912.2</td>\n",
       "    </tr>\n",
       "    <tr>\n",
       "      <th>60</th>\n",
       "      <td>2022</td>\n",
       "      <td>8.8</td>\n",
       "      <td>63.2</td>\n",
       "      <td>121.4</td>\n",
       "      <td>31.4</td>\n",
       "      <td>63.8</td>\n",
       "      <td>158.4</td>\n",
       "      <td>256.0</td>\n",
       "      <td>158.6</td>\n",
       "      <td>95.0</td>\n",
       "      <td>125.6</td>\n",
       "      <td>157.4</td>\n",
       "      <td>114.2</td>\n",
       "      <td>1353.8</td>\n",
       "    </tr>\n",
       "    <tr>\n",
       "      <th>61</th>\n",
       "      <td>2023</td>\n",
       "      <td>389.8</td>\n",
       "      <td>235.8</td>\n",
       "      <td>47.0</td>\n",
       "      <td>57.4</td>\n",
       "      <td>307.8</td>\n",
       "      <td>81.4</td>\n",
       "      <td></td>\n",
       "      <td></td>\n",
       "      <td></td>\n",
       "      <td></td>\n",
       "      <td></td>\n",
       "      <td></td>\n",
       "      <td>n/a</td>\n",
       "    </tr>\n",
       "  </tbody>\n",
       "</table>\n",
       "<p>62 rows × 14 columns</p>\n",
       "</div>"
      ],
      "text/plain": [
       "    Year January February  March  April    May   June   July August September  \\\n",
       "0   1962                                               158.0  109.5      99.8   \n",
       "1   1963    58.3     92.6   77.3  101.7   68.0  122.6  124.9   67.3     107.5   \n",
       "2   1964    64.3     32.5  104.6   21.1  128.6  113.3  175.5  161.2     112.7   \n",
       "3   1965   125.2    144.3   88.1   93.3  103.7  137.8  144.1  220.4      39.3   \n",
       "4   1966   109.2    144.9  133.5   77.6  135.6  129.3  106.9   93.2      93.0   \n",
       "..   ...     ...      ...    ...    ...    ...    ...    ...    ...       ...   \n",
       "57  2019    31.6     20.6   40.8   79.6   45.2  103.4  135.6  199.8     122.8   \n",
       "58  2020     7.8     14.4   40.2   32.8   97.6  168.8   91.6  121.2      43.8   \n",
       "59  2021    40.6     49.2   37.0   77.8   62.8  106.6   87.6   89.8     106.4   \n",
       "60  2022     8.8     63.2  121.4   31.4   63.8  158.4  256.0  158.6      95.0   \n",
       "61  2023   389.8    235.8   47.0   57.4  307.8   81.4                           \n",
       "\n",
       "   October November December Annual Rainfall  \n",
       "0    182.7    117.0     97.2             n/a  \n",
       "1     11.0     71.9     80.3           983.4  \n",
       "2    142.0     49.6    127.5          1232.9  \n",
       "3     64.4     98.2     92.8          1351.6  \n",
       "4     50.1    133.6     89.0          1295.9  \n",
       "..     ...      ...      ...             ...  \n",
       "57    72.2     39.4     51.0           942.0  \n",
       "58    23.8    107.8     44.0           793.8  \n",
       "59   110.4     37.8    106.2           912.2  \n",
       "60   125.6    157.4    114.2          1353.8  \n",
       "61                                       n/a  \n",
       "\n",
       "[62 rows x 14 columns]"
      ]
     },
     "execution_count": 60,
     "metadata": {},
     "output_type": "execute_result"
    }
   ],
   "source": [
    "monthly_rainfall_df"
   ]
  },
  {
   "cell_type": "markdown",
   "id": "0eeb01af",
   "metadata": {},
   "source": [
    "**************************************************************************************************"
   ]
  },
  {
   "cell_type": "markdown",
   "id": "03fdbae6",
   "metadata": {},
   "source": [
    "## 3.3 Create 'monthly_stats_df' Dataframe"
   ]
  },
  {
   "cell_type": "markdown",
   "id": "a83baa39",
   "metadata": {},
   "source": [
    "### 3.3.1 Create 'monthly_stats_df' Dataframe"
   ]
  },
  {
   "cell_type": "code",
   "execution_count": 61,
   "id": "292935ff",
   "metadata": {},
   "outputs": [],
   "source": [
    "monthly_stats_df = pd.DataFrame()"
   ]
  },
  {
   "cell_type": "markdown",
   "id": "3c4d816c",
   "metadata": {},
   "source": [
    "### 3.3.2 Insert 'Month' Column"
   ]
  },
  {
   "cell_type": "code",
   "execution_count": 62,
   "id": "77bafcb9",
   "metadata": {},
   "outputs": [],
   "source": [
    "month_index = ['January', 'February', 'March', 'April', 'May', 'June', 'July', 'August', 'September', 'October', 'November', 'December']"
   ]
  },
  {
   "cell_type": "code",
   "execution_count": 63,
   "id": "08f2c665",
   "metadata": {},
   "outputs": [],
   "source": [
    "monthly_stats_df.insert(0, 'Month', month_index)"
   ]
  },
  {
   "cell_type": "markdown",
   "id": "691a230a",
   "metadata": {},
   "source": [
    "### 3.3.3 Insert 'Min Monthly Rainfall' Column"
   ]
  },
  {
   "cell_type": "code",
   "execution_count": 64,
   "id": "aecfdffd",
   "metadata": {},
   "outputs": [],
   "source": [
    "monthly_len = float(len(monthly_rainfall_df))"
   ]
  },
  {
   "cell_type": "code",
   "execution_count": 65,
   "id": "9d554e24",
   "metadata": {},
   "outputs": [],
   "source": [
    "jan0 = monthly_rainfall_df['January'].iloc[1:62].min()\n",
    "feb0 = monthly_rainfall_df['February'].iloc[1:62].min()\n",
    "mch0 = monthly_rainfall_df['March'].iloc[1:62].min()\n",
    "apr0 = monthly_rainfall_df['April'].iloc[1:62].min()\n",
    "may0 = monthly_rainfall_df['May'].iloc[1:62].min()\n",
    "jun0 = monthly_rainfall_df['June'].iloc[1:62].min()\n",
    "jul0 = monthly_rainfall_df['July'].iloc[0:61].min()\n",
    "aug0 = monthly_rainfall_df['August'].iloc[0:61].min()\n",
    "sep0 = monthly_rainfall_df['September'].iloc[0:61].min()\n",
    "octb0 = monthly_rainfall_df['October'].iloc[0:61].min()\n",
    "nov0 = monthly_rainfall_df['November'].iloc[0:61].min()\n",
    "dec0 = monthly_rainfall_df['December'].iloc[0:61].min()"
   ]
  },
  {
   "cell_type": "code",
   "execution_count": 66,
   "id": "e90088a0",
   "metadata": {},
   "outputs": [],
   "source": [
    "min_one_day = [jan0, feb0, mch0, apr0, may0, jun0, jul0, aug0, sep0, octb0, nov0, dec0]"
   ]
  },
  {
   "cell_type": "code",
   "execution_count": 67,
   "id": "d33031d4",
   "metadata": {},
   "outputs": [],
   "source": [
    "monthly_stats_df.insert(1, 'Min Monthly Rainfall', min_one_day)"
   ]
  },
  {
   "cell_type": "markdown",
   "id": "45a7b5fe",
   "metadata": {},
   "source": [
    "### 3.3.4 Insert 'Max Monthly Rainfall' Column"
   ]
  },
  {
   "cell_type": "code",
   "execution_count": 68,
   "id": "e6eba63e",
   "metadata": {},
   "outputs": [],
   "source": [
    "jan1 = monthly_rainfall_df['January'].iloc[1:62].max()\n",
    "feb1 = monthly_rainfall_df['February'].iloc[1:62].max()\n",
    "mch1 = monthly_rainfall_df['March'].iloc[1:62].max()\n",
    "apr1 = monthly_rainfall_df['April'].iloc[1:62].max()\n",
    "may1 = monthly_rainfall_df['May'].iloc[1:62].max()\n",
    "jun1 = monthly_rainfall_df['June'].iloc[1:62].max()\n",
    "jul1 = monthly_rainfall_df['July'].iloc[0:61].max()\n",
    "aug1 = monthly_rainfall_df['August'].iloc[0:61].max()\n",
    "sep1 = monthly_rainfall_df['September'].iloc[0:61].max()\n",
    "octb1 = monthly_rainfall_df['October'].iloc[0:61].max()\n",
    "nov1 = monthly_rainfall_df['November'].iloc[0:61].max()\n",
    "dec1 = monthly_rainfall_df['December'].iloc[0:61].max()"
   ]
  },
  {
   "cell_type": "code",
   "execution_count": 69,
   "id": "52993e95",
   "metadata": {},
   "outputs": [],
   "source": [
    "max_one_day = [jan1, feb1, mch1, apr1, may1, jun1, jul1, aug1, sep1, octb1, nov1, dec1]"
   ]
  },
  {
   "cell_type": "code",
   "execution_count": 70,
   "id": "d2a3ff0c",
   "metadata": {},
   "outputs": [],
   "source": [
    "monthly_stats_df.insert(2, 'Max Monthly Rainfall', max_one_day)"
   ]
  },
  {
   "cell_type": "markdown",
   "id": "e6d36497",
   "metadata": {},
   "source": [
    "### 3.3.5 Insert 'Average' Column"
   ]
  },
  {
   "cell_type": "code",
   "execution_count": 71,
   "id": "bddc506d",
   "metadata": {},
   "outputs": [],
   "source": [
    "jan2 = ((monthly_rainfall_df['January'].iloc[1:62].sum())/monthly_len)\n",
    "feb2 = ((monthly_rainfall_df['February'].iloc[1:62].sum())/monthly_len)\n",
    "mch2 = ((monthly_rainfall_df['March'].iloc[1:62].sum())/monthly_len)\n",
    "apr2 = ((monthly_rainfall_df['April'].iloc[1:62].sum())/monthly_len)\n",
    "may2 = ((monthly_rainfall_df['May'].iloc[1:62].sum())/monthly_len)\n",
    "jun2 = ((monthly_rainfall_df['June'].iloc[1:62].sum())/monthly_len)\n",
    "jul2 = ((monthly_rainfall_df['July'].iloc[0:61].sum())/monthly_len)\n",
    "aug2 = ((monthly_rainfall_df['August'].iloc[0:61].sum())/monthly_len)\n",
    "sep2 = ((monthly_rainfall_df['September'].iloc[0:61].sum())/monthly_len)\n",
    "octb2 = ((monthly_rainfall_df['October'].iloc[0:61].sum())/monthly_len)\n",
    "nov2 = ((monthly_rainfall_df['November'].iloc[0:61].sum())/monthly_len)\n",
    "dec2 = ((monthly_rainfall_df['December'].iloc[0:61].sum())/monthly_len)"
   ]
  },
  {
   "cell_type": "code",
   "execution_count": 72,
   "id": "fe96ccad",
   "metadata": {},
   "outputs": [],
   "source": [
    "average = [jan2, feb2, mch2, apr2, may2, jun2, jul2, aug2, sep2, octb2, nov2, dec2]"
   ]
  },
  {
   "cell_type": "code",
   "execution_count": 73,
   "id": "6d6fd411",
   "metadata": {},
   "outputs": [],
   "source": [
    "monthly_stats_df.insert(3, 'Average', average)"
   ]
  },
  {
   "cell_type": "markdown",
   "id": "c0c06fe1",
   "metadata": {},
   "source": [
    "### 3.3.6 Insert 'Standard Deviation' Column"
   ]
  },
  {
   "cell_type": "code",
   "execution_count": 74,
   "id": "f3542ee0",
   "metadata": {},
   "outputs": [],
   "source": [
    "jan3 = (statistics.stdev(monthly_rainfall_df['January'].iloc[1:62]))\n",
    "feb3 = (statistics.stdev(monthly_rainfall_df['February'].iloc[1:62]))\n",
    "mch3 = (statistics.stdev(monthly_rainfall_df['March'].iloc[1:62]))\n",
    "apr3 = (statistics.stdev(monthly_rainfall_df['April'].iloc[1:62]))\n",
    "may3 = (statistics.stdev(monthly_rainfall_df['May'].iloc[1:62]))\n",
    "jun3 = (statistics.stdev(monthly_rainfall_df['June'].iloc[1:62]))\n",
    "jul3 = (statistics.stdev(monthly_rainfall_df['July'].iloc[0:61]))\n",
    "aug3 = (statistics.stdev(monthly_rainfall_df['August'].iloc[0:61]))\n",
    "sep3 = (statistics.stdev(monthly_rainfall_df['September'].iloc[0:61]))\n",
    "octb3 = (statistics.stdev(monthly_rainfall_df['October'].iloc[0:61]))\n",
    "nov3 = (statistics.stdev(monthly_rainfall_df['November'].iloc[0:61]))\n",
    "dec3 = (statistics.stdev(monthly_rainfall_df['December'].iloc[0:61]))"
   ]
  },
  {
   "cell_type": "code",
   "execution_count": 75,
   "id": "648257c1",
   "metadata": {},
   "outputs": [],
   "source": [
    "stdep = [jan3, feb3, mch3, apr3, may3, jun3, jul3, aug3, sep3, octb3, nov3, dec3]"
   ]
  },
  {
   "cell_type": "code",
   "execution_count": 76,
   "id": "0e905b93",
   "metadata": {},
   "outputs": [],
   "source": [
    "monthly_stats_df.insert(4, 'Standard Deviation', stdep)"
   ]
  },
  {
   "cell_type": "markdown",
   "id": "fcf8d641",
   "metadata": {},
   "source": [
    "### 3.3.7 Insert 'Mean' Column"
   ]
  },
  {
   "cell_type": "code",
   "execution_count": 77,
   "id": "953a5025",
   "metadata": {},
   "outputs": [],
   "source": [
    "jan4 = (statistics.mean(monthly_rainfall_df['January'].iloc[1:62]))\n",
    "feb4 = (statistics.mean(monthly_rainfall_df['February'].iloc[1:62]))\n",
    "mch4 = (statistics.mean(monthly_rainfall_df['March'].iloc[1:62]))\n",
    "apr4 = (statistics.mean(monthly_rainfall_df['April'].iloc[1:62]))\n",
    "may4 = (statistics.mean(monthly_rainfall_df['May'].iloc[1:62]))\n",
    "jun4 = (statistics.mean(monthly_rainfall_df['June'].iloc[1:62]))\n",
    "jul4 = (statistics.mean(monthly_rainfall_df['July'].iloc[0:61]))\n",
    "aug4 = (statistics.mean(monthly_rainfall_df['August'].iloc[0:61]))\n",
    "sep4 = (statistics.mean(monthly_rainfall_df['September'].iloc[0:61]))\n",
    "octb4 = (statistics.mean(monthly_rainfall_df['October'].iloc[0:61]))\n",
    "nov4 = (statistics.mean(monthly_rainfall_df['November'].iloc[0:61]))\n",
    "dec4 = (statistics.mean(monthly_rainfall_df['December'].iloc[0:61]))"
   ]
  },
  {
   "cell_type": "code",
   "execution_count": 78,
   "id": "9e806d2e",
   "metadata": {},
   "outputs": [],
   "source": [
    "mean = [jan4, feb4, mch4, apr4, may4, jun4, jul4, aug4, sep4, octb4, nov4, dec4]"
   ]
  },
  {
   "cell_type": "code",
   "execution_count": 79,
   "id": "3e872109",
   "metadata": {},
   "outputs": [],
   "source": [
    "monthly_stats_df.insert(5, 'Mean', mean)"
   ]
  },
  {
   "cell_type": "markdown",
   "id": "faa99a1f",
   "metadata": {},
   "source": [
    "### 3.3.8 Display 'monthly_stats_df' Dataframe"
   ]
  },
  {
   "cell_type": "code",
   "execution_count": 80,
   "id": "cabe2540",
   "metadata": {},
   "outputs": [
    {
     "data": {
      "text/html": [
       "<div>\n",
       "<style scoped>\n",
       "    .dataframe tbody tr th:only-of-type {\n",
       "        vertical-align: middle;\n",
       "    }\n",
       "\n",
       "    .dataframe tbody tr th {\n",
       "        vertical-align: top;\n",
       "    }\n",
       "\n",
       "    .dataframe thead th {\n",
       "        text-align: right;\n",
       "    }\n",
       "</style>\n",
       "<table border=\"1\" class=\"dataframe\">\n",
       "  <thead>\n",
       "    <tr style=\"text-align: right;\">\n",
       "      <th></th>\n",
       "      <th>Month</th>\n",
       "      <th>Min Monthly Rainfall</th>\n",
       "      <th>Max Monthly Rainfall</th>\n",
       "      <th>Average</th>\n",
       "      <th>Standard Deviation</th>\n",
       "      <th>Mean</th>\n",
       "    </tr>\n",
       "  </thead>\n",
       "  <tbody>\n",
       "    <tr>\n",
       "      <th>0</th>\n",
       "      <td>January</td>\n",
       "      <td>4.1</td>\n",
       "      <td>389.8</td>\n",
       "      <td>69.146774</td>\n",
       "      <td>63.483843</td>\n",
       "      <td>70.280328</td>\n",
       "    </tr>\n",
       "    <tr>\n",
       "      <th>1</th>\n",
       "      <td>February</td>\n",
       "      <td>8.6</td>\n",
       "      <td>291.6</td>\n",
       "      <td>70.843548</td>\n",
       "      <td>61.864496</td>\n",
       "      <td>72.004918</td>\n",
       "    </tr>\n",
       "    <tr>\n",
       "      <th>2</th>\n",
       "      <td>March</td>\n",
       "      <td>7.6</td>\n",
       "      <td>261.4</td>\n",
       "      <td>77.190323</td>\n",
       "      <td>52.615988</td>\n",
       "      <td>78.455738</td>\n",
       "    </tr>\n",
       "    <tr>\n",
       "      <th>3</th>\n",
       "      <td>April</td>\n",
       "      <td>12.7</td>\n",
       "      <td>221.0</td>\n",
       "      <td>85.251613</td>\n",
       "      <td>44.243804</td>\n",
       "      <td>86.649180</td>\n",
       "    </tr>\n",
       "    <tr>\n",
       "      <th>4</th>\n",
       "      <td>May</td>\n",
       "      <td>23.0</td>\n",
       "      <td>307.8</td>\n",
       "      <td>107.630645</td>\n",
       "      <td>51.977670</td>\n",
       "      <td>109.395082</td>\n",
       "    </tr>\n",
       "    <tr>\n",
       "      <th>5</th>\n",
       "      <td>June</td>\n",
       "      <td>47.0</td>\n",
       "      <td>209.0</td>\n",
       "      <td>113.974194</td>\n",
       "      <td>37.273648</td>\n",
       "      <td>115.842623</td>\n",
       "    </tr>\n",
       "    <tr>\n",
       "      <th>6</th>\n",
       "      <td>July</td>\n",
       "      <td>15.4</td>\n",
       "      <td>308.4</td>\n",
       "      <td>128.287097</td>\n",
       "      <td>53.141057</td>\n",
       "      <td>130.390164</td>\n",
       "    </tr>\n",
       "    <tr>\n",
       "      <th>7</th>\n",
       "      <td>August</td>\n",
       "      <td>36.6</td>\n",
       "      <td>221.1</td>\n",
       "      <td>112.727419</td>\n",
       "      <td>45.592356</td>\n",
       "      <td>114.575410</td>\n",
       "    </tr>\n",
       "    <tr>\n",
       "      <th>8</th>\n",
       "      <td>September</td>\n",
       "      <td>38.0</td>\n",
       "      <td>210.6</td>\n",
       "      <td>93.866129</td>\n",
       "      <td>38.840496</td>\n",
       "      <td>95.404918</td>\n",
       "    </tr>\n",
       "    <tr>\n",
       "      <th>9</th>\n",
       "      <td>October</td>\n",
       "      <td>11.0</td>\n",
       "      <td>182.7</td>\n",
       "      <td>83.019355</td>\n",
       "      <td>39.217164</td>\n",
       "      <td>84.380328</td>\n",
       "    </tr>\n",
       "    <tr>\n",
       "      <th>10</th>\n",
       "      <td>November</td>\n",
       "      <td>10.3</td>\n",
       "      <td>219.7</td>\n",
       "      <td>74.185484</td>\n",
       "      <td>40.661409</td>\n",
       "      <td>75.401639</td>\n",
       "    </tr>\n",
       "    <tr>\n",
       "      <th>11</th>\n",
       "      <td>December</td>\n",
       "      <td>12.8</td>\n",
       "      <td>206.0</td>\n",
       "      <td>84.082258</td>\n",
       "      <td>45.972696</td>\n",
       "      <td>85.460656</td>\n",
       "    </tr>\n",
       "  </tbody>\n",
       "</table>\n",
       "</div>"
      ],
      "text/plain": [
       "        Month  Min Monthly Rainfall  Max Monthly Rainfall     Average  \\\n",
       "0     January                   4.1                 389.8   69.146774   \n",
       "1    February                   8.6                 291.6   70.843548   \n",
       "2       March                   7.6                 261.4   77.190323   \n",
       "3       April                  12.7                 221.0   85.251613   \n",
       "4         May                  23.0                 307.8  107.630645   \n",
       "5        June                  47.0                 209.0  113.974194   \n",
       "6        July                  15.4                 308.4  128.287097   \n",
       "7      August                  36.6                 221.1  112.727419   \n",
       "8   September                  38.0                 210.6   93.866129   \n",
       "9     October                  11.0                 182.7   83.019355   \n",
       "10   November                  10.3                 219.7   74.185484   \n",
       "11   December                  12.8                 206.0   84.082258   \n",
       "\n",
       "    Standard Deviation        Mean  \n",
       "0            63.483843   70.280328  \n",
       "1            61.864496   72.004918  \n",
       "2            52.615988   78.455738  \n",
       "3            44.243804   86.649180  \n",
       "4            51.977670  109.395082  \n",
       "5            37.273648  115.842623  \n",
       "6            53.141057  130.390164  \n",
       "7            45.592356  114.575410  \n",
       "8            38.840496   95.404918  \n",
       "9            39.217164   84.380328  \n",
       "10           40.661409   75.401639  \n",
       "11           45.972696   85.460656  "
      ]
     },
     "execution_count": 80,
     "metadata": {},
     "output_type": "execute_result"
    }
   ],
   "source": [
    "monthly_stats_df"
   ]
  },
  {
   "cell_type": "markdown",
   "id": "32685fcd",
   "metadata": {},
   "source": [
    "**************************************************************************************************"
   ]
  },
  {
   "cell_type": "markdown",
   "id": "dcd36a71",
   "metadata": {},
   "source": [
    "## 3.4 Create 'seasonal_rainfall_df' Dataframe"
   ]
  },
  {
   "cell_type": "markdown",
   "id": "ca4c0f8a",
   "metadata": {},
   "source": [
    "### 3.4.1 Create 'seasonal_rainfall_df' Dataframe"
   ]
  },
  {
   "cell_type": "code",
   "execution_count": 81,
   "id": "a2d28e4d",
   "metadata": {},
   "outputs": [],
   "source": [
    "seasonal_rainfall_df = pd.DataFrame()"
   ]
  },
  {
   "cell_type": "markdown",
   "id": "838f662d",
   "metadata": {},
   "source": [
    "### 3.4.2 Change ' ' values to 0, to do Calculations"
   ]
  },
  {
   "cell_type": "code",
   "execution_count": 82,
   "id": "34cee721",
   "metadata": {},
   "outputs": [],
   "source": [
    "january = monthly_rainfall_df['January'].replace('', 0)\n",
    "february = monthly_rainfall_df['February'].replace('', 0)\n",
    "march = monthly_rainfall_df['March'].replace('', 0)\n",
    "april = monthly_rainfall_df['April'].replace('', 0)\n",
    "may = monthly_rainfall_df['May'].replace('', 0)\n",
    "june = monthly_rainfall_df['June'].replace('', 0)\n",
    "july = monthly_rainfall_df['July'].replace('', 0)\n",
    "august = monthly_rainfall_df['August'].replace('', 0)\n",
    "september = monthly_rainfall_df['September'].replace('', 0)\n",
    "october = monthly_rainfall_df['October'].replace('', 0)\n",
    "november = monthly_rainfall_df['November'].replace('', 0)\n",
    "december = monthly_rainfall_df['December'].replace('', 0)"
   ]
  },
  {
   "cell_type": "markdown",
   "id": "644642d6",
   "metadata": {},
   "source": [
    "### 3.4.3 Insert 'Year' Column"
   ]
  },
  {
   "cell_type": "code",
   "execution_count": 83,
   "id": "20c1df9d",
   "metadata": {},
   "outputs": [],
   "source": [
    "seasonal_rainfall_df.insert(0, 'Year', year_list)"
   ]
  },
  {
   "cell_type": "markdown",
   "id": "d3e10255",
   "metadata": {},
   "source": [
    "### 3.4.4 Insert 'Summer' Column"
   ]
  },
  {
   "cell_type": "markdown",
   "id": "98d84061",
   "metadata": {},
   "source": [
    "###### Summer: December, January & February"
   ]
  },
  {
   "cell_type": "code",
   "execution_count": 84,
   "id": "731bedc0",
   "metadata": {},
   "outputs": [],
   "source": [
    "summer = []\n",
    "for i in range(len(seasonal_rainfall_df)):\n",
    "    summer.append(december[i] + january[i] + february[i])"
   ]
  },
  {
   "cell_type": "code",
   "execution_count": 85,
   "id": "801cbea3",
   "metadata": {},
   "outputs": [],
   "source": [
    "seasonal_rainfall_df.insert(1, 'Summer (Dec - Feb)', summer)"
   ]
  },
  {
   "cell_type": "markdown",
   "id": "d1bfb103",
   "metadata": {},
   "source": [
    "### 3.4.5 Insert 'Autumn' Column"
   ]
  },
  {
   "cell_type": "markdown",
   "id": "3d17751c",
   "metadata": {},
   "source": [
    "###### Autumn: March, April & May"
   ]
  },
  {
   "cell_type": "code",
   "execution_count": 86,
   "id": "84326b1f",
   "metadata": {},
   "outputs": [],
   "source": [
    "autumn = []\n",
    "for i in range(len(seasonal_rainfall_df)):\n",
    "    autumn.append(march[i] + april[i] + may[i])"
   ]
  },
  {
   "cell_type": "code",
   "execution_count": 87,
   "id": "54f7c892",
   "metadata": {},
   "outputs": [],
   "source": [
    "seasonal_rainfall_df.insert(2, 'Autumn (March - May)', autumn)"
   ]
  },
  {
   "cell_type": "markdown",
   "id": "5f436d9f",
   "metadata": {},
   "source": [
    "### 3.4.6 Insert 'Winter' Column"
   ]
  },
  {
   "cell_type": "markdown",
   "id": "6f93521b",
   "metadata": {},
   "source": [
    "###### Winter: June, July & August"
   ]
  },
  {
   "cell_type": "code",
   "execution_count": 88,
   "id": "fbf9d9bc",
   "metadata": {},
   "outputs": [],
   "source": [
    "winter = []\n",
    "for i in range(len(seasonal_rainfall_df)):\n",
    "    winter.append(june[i] + july[i] + august[i])"
   ]
  },
  {
   "cell_type": "code",
   "execution_count": 89,
   "id": "22539698",
   "metadata": {},
   "outputs": [],
   "source": [
    "seasonal_rainfall_df.insert(3, 'Winter (Jun - Aug)', winter)"
   ]
  },
  {
   "cell_type": "markdown",
   "id": "4d9c4c67",
   "metadata": {},
   "source": [
    "### 3.4.7 Insert 'Spring' Column"
   ]
  },
  {
   "cell_type": "markdown",
   "id": "a92c5365",
   "metadata": {},
   "source": [
    "###### Spring: September, October & November"
   ]
  },
  {
   "cell_type": "code",
   "execution_count": 90,
   "id": "3d8d9923",
   "metadata": {},
   "outputs": [],
   "source": [
    "spring = []\n",
    "for i in range(len(seasonal_rainfall_df)):\n",
    "    spring.append(september[i] + october[i] + november[i])"
   ]
  },
  {
   "cell_type": "code",
   "execution_count": 91,
   "id": "92cf6a4e",
   "metadata": {},
   "outputs": [],
   "source": [
    "seasonal_rainfall_df.insert(4, 'Spring (Sep - Nov)', spring)"
   ]
  },
  {
   "cell_type": "markdown",
   "id": "4b43b3fa",
   "metadata": {},
   "source": [
    "### 3.4.8 Display 'seasonal_rainfall_df' Dataframe"
   ]
  },
  {
   "cell_type": "code",
   "execution_count": 92,
   "id": "28e149a2",
   "metadata": {},
   "outputs": [],
   "source": [
    "#No data during Jan - June 1962 and July - December 2023. For accurate calculations, change Summer & Autmn 1962 and Winter & Spring values.\n",
    "seasonal_rainfall_df['Summer (Dec - Feb)'].iloc[0] = ''\n",
    "seasonal_rainfall_df['Autumn (March - May)'].iloc[0] = ''\n",
    "seasonal_rainfall_df['Winter (Jun - Aug)'].iloc[61] = ''\n",
    "seasonal_rainfall_df['Spring (Sep - Nov)'].iloc[61] = ''"
   ]
  },
  {
   "cell_type": "code",
   "execution_count": 93,
   "id": "141857d6",
   "metadata": {},
   "outputs": [
    {
     "data": {
      "text/html": [
       "<div>\n",
       "<style scoped>\n",
       "    .dataframe tbody tr th:only-of-type {\n",
       "        vertical-align: middle;\n",
       "    }\n",
       "\n",
       "    .dataframe tbody tr th {\n",
       "        vertical-align: top;\n",
       "    }\n",
       "\n",
       "    .dataframe thead th {\n",
       "        text-align: right;\n",
       "    }\n",
       "</style>\n",
       "<table border=\"1\" class=\"dataframe\">\n",
       "  <thead>\n",
       "    <tr style=\"text-align: right;\">\n",
       "      <th></th>\n",
       "      <th>Year</th>\n",
       "      <th>Summer (Dec - Feb)</th>\n",
       "      <th>Autumn (March - May)</th>\n",
       "      <th>Winter (Jun - Aug)</th>\n",
       "      <th>Spring (Sep - Nov)</th>\n",
       "    </tr>\n",
       "  </thead>\n",
       "  <tbody>\n",
       "    <tr>\n",
       "      <th>0</th>\n",
       "      <td>1962</td>\n",
       "      <td></td>\n",
       "      <td></td>\n",
       "      <td>267.5</td>\n",
       "      <td>399.5</td>\n",
       "    </tr>\n",
       "    <tr>\n",
       "      <th>1</th>\n",
       "      <td>1963</td>\n",
       "      <td>231.2</td>\n",
       "      <td>247.0</td>\n",
       "      <td>314.8</td>\n",
       "      <td>190.4</td>\n",
       "    </tr>\n",
       "    <tr>\n",
       "      <th>2</th>\n",
       "      <td>1964</td>\n",
       "      <td>224.3</td>\n",
       "      <td>254.3</td>\n",
       "      <td>450.0</td>\n",
       "      <td>304.3</td>\n",
       "    </tr>\n",
       "    <tr>\n",
       "      <th>3</th>\n",
       "      <td>1965</td>\n",
       "      <td>362.3</td>\n",
       "      <td>285.1</td>\n",
       "      <td>502.3</td>\n",
       "      <td>201.9</td>\n",
       "    </tr>\n",
       "    <tr>\n",
       "      <th>4</th>\n",
       "      <td>1966</td>\n",
       "      <td>343.1</td>\n",
       "      <td>346.7</td>\n",
       "      <td>329.4</td>\n",
       "      <td>276.7</td>\n",
       "    </tr>\n",
       "    <tr>\n",
       "      <th>...</th>\n",
       "      <td>...</td>\n",
       "      <td>...</td>\n",
       "      <td>...</td>\n",
       "      <td>...</td>\n",
       "      <td>...</td>\n",
       "    </tr>\n",
       "    <tr>\n",
       "      <th>57</th>\n",
       "      <td>2019</td>\n",
       "      <td>103.2</td>\n",
       "      <td>165.6</td>\n",
       "      <td>438.8</td>\n",
       "      <td>234.4</td>\n",
       "    </tr>\n",
       "    <tr>\n",
       "      <th>58</th>\n",
       "      <td>2020</td>\n",
       "      <td>66.2</td>\n",
       "      <td>170.6</td>\n",
       "      <td>381.6</td>\n",
       "      <td>175.4</td>\n",
       "    </tr>\n",
       "    <tr>\n",
       "      <th>59</th>\n",
       "      <td>2021</td>\n",
       "      <td>196.0</td>\n",
       "      <td>177.6</td>\n",
       "      <td>284.0</td>\n",
       "      <td>254.6</td>\n",
       "    </tr>\n",
       "    <tr>\n",
       "      <th>60</th>\n",
       "      <td>2022</td>\n",
       "      <td>186.2</td>\n",
       "      <td>216.6</td>\n",
       "      <td>573.0</td>\n",
       "      <td>378.0</td>\n",
       "    </tr>\n",
       "    <tr>\n",
       "      <th>61</th>\n",
       "      <td>2023</td>\n",
       "      <td>625.6</td>\n",
       "      <td>412.2</td>\n",
       "      <td></td>\n",
       "      <td></td>\n",
       "    </tr>\n",
       "  </tbody>\n",
       "</table>\n",
       "<p>62 rows × 5 columns</p>\n",
       "</div>"
      ],
      "text/plain": [
       "    Year Summer (Dec - Feb) Autumn (March - May) Winter (Jun - Aug)  \\\n",
       "0   1962                                                      267.5   \n",
       "1   1963              231.2                247.0              314.8   \n",
       "2   1964              224.3                254.3              450.0   \n",
       "3   1965              362.3                285.1              502.3   \n",
       "4   1966              343.1                346.7              329.4   \n",
       "..   ...                ...                  ...                ...   \n",
       "57  2019              103.2                165.6              438.8   \n",
       "58  2020               66.2                170.6              381.6   \n",
       "59  2021              196.0                177.6              284.0   \n",
       "60  2022              186.2                216.6              573.0   \n",
       "61  2023              625.6                412.2                      \n",
       "\n",
       "   Spring (Sep - Nov)  \n",
       "0               399.5  \n",
       "1               190.4  \n",
       "2               304.3  \n",
       "3               201.9  \n",
       "4               276.7  \n",
       "..                ...  \n",
       "57              234.4  \n",
       "58              175.4  \n",
       "59              254.6  \n",
       "60              378.0  \n",
       "61                     \n",
       "\n",
       "[62 rows x 5 columns]"
      ]
     },
     "execution_count": 93,
     "metadata": {},
     "output_type": "execute_result"
    }
   ],
   "source": [
    "seasonal_rainfall_df"
   ]
  },
  {
   "cell_type": "markdown",
   "id": "fe05c23b",
   "metadata": {},
   "source": [
    "**************************************************************************************************"
   ]
  },
  {
   "cell_type": "markdown",
   "id": "5d4a1015",
   "metadata": {},
   "source": [
    "## 3.5 Create 'seasonal_stats_df' Dataframe"
   ]
  },
  {
   "cell_type": "markdown",
   "id": "d863eb0b",
   "metadata": {},
   "source": [
    "### 3.5.1 Create 'seasonal_stats_df' Dataframe"
   ]
  },
  {
   "cell_type": "code",
   "execution_count": 94,
   "id": "6c81215a",
   "metadata": {},
   "outputs": [],
   "source": [
    "seasonal_stats_df = pd.DataFrame()"
   ]
  },
  {
   "cell_type": "markdown",
   "id": "793de8d5",
   "metadata": {},
   "source": [
    "### 3.5.2 Insert 'Seasons' Column"
   ]
  },
  {
   "cell_type": "code",
   "execution_count": 95,
   "id": "a50b639c",
   "metadata": {},
   "outputs": [],
   "source": [
    "seasons_index = ['Summer (Dec - Feb)', 'Autumn (March - May)', 'Winter (Jun - Aug)', 'Spring (Sep - Nov)']"
   ]
  },
  {
   "cell_type": "code",
   "execution_count": 96,
   "id": "0655b606",
   "metadata": {},
   "outputs": [],
   "source": [
    "seasonal_stats_df.insert(0, 'Seasons', seasons_index)"
   ]
  },
  {
   "cell_type": "markdown",
   "id": "87ff55d8",
   "metadata": {},
   "source": [
    "### 3.5.3 Insert 'Min Seasonal Rainfall' Column"
   ]
  },
  {
   "cell_type": "code",
   "execution_count": 97,
   "id": "2b2a7004",
   "metadata": {},
   "outputs": [],
   "source": [
    "sum1 = seasonal_rainfall_df['Summer (Dec - Feb)'].iloc[1:62].min()\n",
    "aut1 = seasonal_rainfall_df['Autumn (March - May)'].iloc[1:62].min()\n",
    "win1 = seasonal_rainfall_df['Winter (Jun - Aug)'].iloc[0:61].min()\n",
    "spr1 = seasonal_rainfall_df['Spring (Sep - Nov)'].iloc[0:61].min()"
   ]
  },
  {
   "cell_type": "code",
   "execution_count": 98,
   "id": "7047d0b7",
   "metadata": {},
   "outputs": [],
   "source": [
    "min_season = [sum1, aut1, win1, spr1]"
   ]
  },
  {
   "cell_type": "code",
   "execution_count": 99,
   "id": "05874765",
   "metadata": {},
   "outputs": [],
   "source": [
    "seasonal_stats_df.insert(1, 'Min Seasonal Rainfall', min_season)"
   ]
  },
  {
   "cell_type": "markdown",
   "id": "01b2a938",
   "metadata": {},
   "source": [
    "### 3.5.4 Insert 'Max Seasonal Rainfall' Column"
   ]
  },
  {
   "cell_type": "code",
   "execution_count": 100,
   "id": "b164daa6",
   "metadata": {},
   "outputs": [],
   "source": [
    "sum2 = seasonal_rainfall_df['Summer (Dec - Feb)'].iloc[1:62].max()\n",
    "aut2 = seasonal_rainfall_df['Autumn (March - May)'].iloc[1:62].max()\n",
    "win2 = seasonal_rainfall_df['Winter (Jun - Aug)'].iloc[0:61].max()\n",
    "spr2 = seasonal_rainfall_df['Spring (Sep - Nov)'].iloc[0:61].max()"
   ]
  },
  {
   "cell_type": "code",
   "execution_count": 101,
   "id": "fe811c2c",
   "metadata": {},
   "outputs": [],
   "source": [
    "max_season = [sum2, aut2, win2, spr2]"
   ]
  },
  {
   "cell_type": "code",
   "execution_count": 102,
   "id": "f5ac70a6",
   "metadata": {},
   "outputs": [],
   "source": [
    "seasonal_stats_df.insert(2, 'Max Seasonal Rainfall', max_season)"
   ]
  },
  {
   "cell_type": "markdown",
   "id": "0c67a0b9",
   "metadata": {},
   "source": [
    "### 3.5.5 Insert 'Average' Column"
   ]
  },
  {
   "cell_type": "code",
   "execution_count": 103,
   "id": "0fb4155c",
   "metadata": {},
   "outputs": [],
   "source": [
    "sum3 = ((seasonal_rainfall_df['Summer (Dec - Feb)'].iloc[1:62].sum())/monthly_len)\n",
    "aut3 = ((seasonal_rainfall_df['Autumn (March - May)'].iloc[1:62].sum())/monthly_len)\n",
    "win3 = ((seasonal_rainfall_df['Winter (Jun - Aug)'].iloc[0:61].sum())/monthly_len)\n",
    "spr3 = ((seasonal_rainfall_df['Spring (Sep - Nov)'].iloc[0:61].sum())/monthly_len)"
   ]
  },
  {
   "cell_type": "code",
   "execution_count": 104,
   "id": "1bf96873",
   "metadata": {},
   "outputs": [],
   "source": [
    "average_season = [sum3, aut3, win3, spr3]"
   ]
  },
  {
   "cell_type": "code",
   "execution_count": 105,
   "id": "95aeba99",
   "metadata": {},
   "outputs": [],
   "source": [
    "seasonal_stats_df.insert(3, 'Average', average_season)"
   ]
  },
  {
   "cell_type": "markdown",
   "id": "9582e558",
   "metadata": {},
   "source": [
    "### 3.5.6 Insert 'Standard Deviation' Column"
   ]
  },
  {
   "cell_type": "code",
   "execution_count": 106,
   "id": "17340f7d",
   "metadata": {},
   "outputs": [],
   "source": [
    "sum4 = (statistics.stdev(seasonal_rainfall_df['Summer (Dec - Feb)'].iloc[1:62]))\n",
    "aut4 = (statistics.stdev(seasonal_rainfall_df['Autumn (March - May)'].iloc[1:62]))\n",
    "win4 = (statistics.stdev(seasonal_rainfall_df['Winter (Jun - Aug)'].iloc[0:61]))\n",
    "spr4 = (statistics.stdev(seasonal_rainfall_df['Spring (Sep - Nov)'].iloc[0:61]))"
   ]
  },
  {
   "cell_type": "code",
   "execution_count": 107,
   "id": "e90a8369",
   "metadata": {},
   "outputs": [],
   "source": [
    "std_season = [sum4, aut4, win4, spr4]"
   ]
  },
  {
   "cell_type": "code",
   "execution_count": 108,
   "id": "66b59225",
   "metadata": {},
   "outputs": [],
   "source": [
    "seasonal_stats_df.insert(4, 'Standard Deviation', std_season)"
   ]
  },
  {
   "cell_type": "markdown",
   "id": "9fead0ae",
   "metadata": {},
   "source": [
    "### 3.5.7 Insert 'Mean' Column"
   ]
  },
  {
   "cell_type": "code",
   "execution_count": 109,
   "id": "f9957bb3",
   "metadata": {},
   "outputs": [],
   "source": [
    "sum5 = (statistics.mean(seasonal_rainfall_df['Summer (Dec - Feb)'].iloc[1:62]))\n",
    "aut5 = (statistics.mean(seasonal_rainfall_df['Autumn (March - May)'].iloc[1:62]))\n",
    "win5 = (statistics.mean(seasonal_rainfall_df['Winter (Jun - Aug)'].iloc[0:61]))\n",
    "spr5 = (statistics.mean(seasonal_rainfall_df['Spring (Sep - Nov)'].iloc[0:61]))"
   ]
  },
  {
   "cell_type": "code",
   "execution_count": 110,
   "id": "85c860b9",
   "metadata": {},
   "outputs": [],
   "source": [
    "mean_season = [sum5, aut5, win5, spr5]"
   ]
  },
  {
   "cell_type": "code",
   "execution_count": 111,
   "id": "04248c24",
   "metadata": {},
   "outputs": [],
   "source": [
    "seasonal_stats_df.insert(5, 'Mean', mean_season)"
   ]
  },
  {
   "cell_type": "markdown",
   "id": "d33cdfc8",
   "metadata": {},
   "source": [
    "### 3.5.8 Display 'seasonal_stats_df' Dataframe"
   ]
  },
  {
   "cell_type": "code",
   "execution_count": 112,
   "id": "333b1e3a",
   "metadata": {},
   "outputs": [
    {
     "data": {
      "text/html": [
       "<div>\n",
       "<style scoped>\n",
       "    .dataframe tbody tr th:only-of-type {\n",
       "        vertical-align: middle;\n",
       "    }\n",
       "\n",
       "    .dataframe tbody tr th {\n",
       "        vertical-align: top;\n",
       "    }\n",
       "\n",
       "    .dataframe thead th {\n",
       "        text-align: right;\n",
       "    }\n",
       "</style>\n",
       "<table border=\"1\" class=\"dataframe\">\n",
       "  <thead>\n",
       "    <tr style=\"text-align: right;\">\n",
       "      <th></th>\n",
       "      <th>Seasons</th>\n",
       "      <th>Min Seasonal Rainfall</th>\n",
       "      <th>Max Seasonal Rainfall</th>\n",
       "      <th>Average</th>\n",
       "      <th>Standard Deviation</th>\n",
       "      <th>Mean</th>\n",
       "    </tr>\n",
       "  </thead>\n",
       "  <tbody>\n",
       "    <tr>\n",
       "      <th>0</th>\n",
       "      <td>Summer (Dec - Feb)</td>\n",
       "      <td>66.2</td>\n",
       "      <td>625.6</td>\n",
       "      <td>222.504839</td>\n",
       "      <td>116.681967</td>\n",
       "      <td>226.152459</td>\n",
       "    </tr>\n",
       "    <tr>\n",
       "      <th>1</th>\n",
       "      <td>Autumn (March - May)</td>\n",
       "      <td>165.6</td>\n",
       "      <td>547.0</td>\n",
       "      <td>270.072581</td>\n",
       "      <td>79.182214</td>\n",
       "      <td>274.500000</td>\n",
       "    </tr>\n",
       "    <tr>\n",
       "      <th>2</th>\n",
       "      <td>Winter (Jun - Aug)</td>\n",
       "      <td>194.2</td>\n",
       "      <td>573.0</td>\n",
       "      <td>353.675806</td>\n",
       "      <td>87.040825</td>\n",
       "      <td>359.473770</td>\n",
       "    </tr>\n",
       "    <tr>\n",
       "      <th>3</th>\n",
       "      <td>Spring (Sep - Nov)</td>\n",
       "      <td>122.7</td>\n",
       "      <td>399.5</td>\n",
       "      <td>251.070968</td>\n",
       "      <td>66.261375</td>\n",
       "      <td>255.186885</td>\n",
       "    </tr>\n",
       "  </tbody>\n",
       "</table>\n",
       "</div>"
      ],
      "text/plain": [
       "                Seasons  Min Seasonal Rainfall  Max Seasonal Rainfall  \\\n",
       "0    Summer (Dec - Feb)                   66.2                  625.6   \n",
       "1  Autumn (March - May)                  165.6                  547.0   \n",
       "2    Winter (Jun - Aug)                  194.2                  573.0   \n",
       "3    Spring (Sep - Nov)                  122.7                  399.5   \n",
       "\n",
       "      Average  Standard Deviation        Mean  \n",
       "0  222.504839          116.681967  226.152459  \n",
       "1  270.072581           79.182214  274.500000  \n",
       "2  353.675806           87.040825  359.473770  \n",
       "3  251.070968           66.261375  255.186885  "
      ]
     },
     "execution_count": 112,
     "metadata": {},
     "output_type": "execute_result"
    }
   ],
   "source": [
    "seasonal_stats_df"
   ]
  },
  {
   "cell_type": "markdown",
   "id": "7e87d50b",
   "metadata": {},
   "source": [
    "**************************************************************************************************\n",
    "**************************************************************************************************"
   ]
  },
  {
   "cell_type": "markdown",
   "id": "f9a5d5c2",
   "metadata": {},
   "source": [
    "# 4. Data Visualisation: Impact of La Niña on Auckland, New Zealand January 2023"
   ]
  },
  {
   "cell_type": "markdown",
   "id": "61af70f5",
   "metadata": {},
   "source": [
    "## 4.1 Create 'gumbel_est_calculations_df' Dataframe"
   ]
  },
  {
   "cell_type": "markdown",
   "id": "7aba665c",
   "metadata": {},
   "source": [
    "### 4.1.1 Create 'gumbel_est_calculations_df' Dataframe"
   ]
  },
  {
   "cell_type": "code",
   "execution_count": 113,
   "id": "f7b2e379",
   "metadata": {},
   "outputs": [],
   "source": [
    "gumbel_est_calculations_df = pd.DataFrame()"
   ]
  },
  {
   "cell_type": "markdown",
   "id": "ca2baba8",
   "metadata": {},
   "source": [
    "### 4.1.2 Insert 'Year' Column"
   ]
  },
  {
   "cell_type": "code",
   "execution_count": 114,
   "id": "77cf70e7",
   "metadata": {},
   "outputs": [],
   "source": [
    "gumbel_est_calculations_df.insert(0, 'Year', year_list)"
   ]
  },
  {
   "cell_type": "markdown",
   "id": "f65f1610",
   "metadata": {},
   "source": [
    "### 4.1.3 Insert 'Max One-Day Rainfall' Column"
   ]
  },
  {
   "cell_type": "markdown",
   "id": "d5aa953f",
   "metadata": {},
   "source": [
    "#### 4.1.3.1 Get Maximum One Day Rainfall (mm)"
   ]
  },
  {
   "cell_type": "markdown",
   "id": "49a4769c",
   "metadata": {},
   "source": [
    "###### Create 'year_rainfall_df' Dataframe"
   ]
  },
  {
   "cell_type": "code",
   "execution_count": 115,
   "id": "69fbd740",
   "metadata": {},
   "outputs": [],
   "source": [
    "year_rainfall_df = pd.DataFrame()"
   ]
  },
  {
   "cell_type": "markdown",
   "id": "53d1160a",
   "metadata": {},
   "source": [
    "###### Insert 'YYYY' Column"
   ]
  },
  {
   "cell_type": "code",
   "execution_count": 116,
   "id": "21d4fbfd",
   "metadata": {},
   "outputs": [],
   "source": [
    "year_date = []\n",
    "for i in range(len(rainfall_data_df)):\n",
    "    yyyy_date = str(rainfall_data_df['Date'].iloc[i])[:4]\n",
    "    year_date.append(int(yyyy_date))\n",
    "\n",
    "year_rainfall_df.insert(0, 'YYYY', year_date)"
   ]
  },
  {
   "cell_type": "markdown",
   "id": "bc6db9c4",
   "metadata": {},
   "source": [
    "###### Insert 'Rainfall (mm/d)' Column"
   ]
  },
  {
   "cell_type": "code",
   "execution_count": 117,
   "id": "f077af3d",
   "metadata": {},
   "outputs": [],
   "source": [
    "year_rainfall_df.insert(1, 'Rainfall (mm/d)', rainfall_data_df['Rainfall (mm/d)'])"
   ]
  },
  {
   "cell_type": "code",
   "execution_count": 118,
   "id": "2afcba45",
   "metadata": {},
   "outputs": [],
   "source": [
    "max_1day_rain = year_rainfall_df.groupby('YYYY')['Rainfall (mm/d)'].max()"
   ]
  },
  {
   "cell_type": "markdown",
   "id": "e5e37f41",
   "metadata": {},
   "source": [
    "#### 4.1.3.2 Insert 'Max One-Day Rainfall' Column"
   ]
  },
  {
   "cell_type": "code",
   "execution_count": 119,
   "id": "033a9254",
   "metadata": {},
   "outputs": [],
   "source": [
    "max_one_day = []\n",
    "for i in range(len(max_1day_rain)):\n",
    "    max_one_day.append(max_1day_rain.iloc[i])"
   ]
  },
  {
   "cell_type": "code",
   "execution_count": 120,
   "id": "642dbef8",
   "metadata": {},
   "outputs": [],
   "source": [
    "gumbel_est_calculations_df.insert(1, 'Max One-Day Rainfall', max_one_day)"
   ]
  },
  {
   "cell_type": "markdown",
   "id": "99381f6e",
   "metadata": {},
   "source": [
    "### 4.1.4 Insert 'Observations (N)' Column"
   ]
  },
  {
   "cell_type": "code",
   "execution_count": 121,
   "id": "9c0dd2de",
   "metadata": {},
   "outputs": [],
   "source": [
    "observation_n = len(gumbel_est_calculations_df)"
   ]
  },
  {
   "cell_type": "code",
   "execution_count": 122,
   "id": "444fa54c",
   "metadata": {},
   "outputs": [],
   "source": [
    "n_obs = []\n",
    "for i in range(len(gumbel_est_calculations_df)):\n",
    "    n_obs.append(observation_n)"
   ]
  },
  {
   "cell_type": "code",
   "execution_count": 123,
   "id": "28509a44",
   "metadata": {},
   "outputs": [],
   "source": [
    "gumbel_est_calculations_df.insert(2, 'Observations (N)', n_obs)"
   ]
  },
  {
   "cell_type": "markdown",
   "id": "0bb1392f",
   "metadata": {},
   "source": [
    "### 4.1.5 Insert 'Rank (i)' Column"
   ]
  },
  {
   "cell_type": "code",
   "execution_count": 124,
   "id": "8945c4b7",
   "metadata": {},
   "outputs": [],
   "source": [
    "rank_i = []\n",
    "for i in range(len(gumbel_est_calculations_df)):\n",
    "    rank_i.append(i+1)"
   ]
  },
  {
   "cell_type": "code",
   "execution_count": 125,
   "id": "943c4666",
   "metadata": {},
   "outputs": [],
   "source": [
    "gumbel_est_calculations_df = gumbel_est_calculations_df.sort_values(['Max One-Day Rainfall'], ascending = [False])"
   ]
  },
  {
   "cell_type": "code",
   "execution_count": 126,
   "id": "6cdcb832",
   "metadata": {},
   "outputs": [],
   "source": [
    "gumbel_est_calculations_df.insert(3, 'Rank (i)', rank_i)"
   ]
  },
  {
   "cell_type": "markdown",
   "id": "a79fe3aa",
   "metadata": {},
   "source": [
    "### 4.1.6 Insert 'Exceedance (P)' Column"
   ]
  },
  {
   "cell_type": "markdown",
   "id": "145116df",
   "metadata": {},
   "source": [
    "###### P=i/(N+1)"
   ]
  },
  {
   "cell_type": "code",
   "execution_count": 127,
   "id": "fed5f81f",
   "metadata": {},
   "outputs": [],
   "source": [
    "p_exceed = []\n",
    "for i in range(len(gumbel_est_calculations_df)):\n",
    "    p_exceed.append((gumbel_est_calculations_df['Rank (i)'].iloc[i])/((gumbel_est_calculations_df['Observations (N)'].iloc[i])+1))"
   ]
  },
  {
   "cell_type": "code",
   "execution_count": 128,
   "id": "d9184e0f",
   "metadata": {},
   "outputs": [],
   "source": [
    "gumbel_est_calculations_df.insert(4, 'Exceedance (P)', p_exceed)"
   ]
  },
  {
   "cell_type": "markdown",
   "id": "b162c590",
   "metadata": {},
   "source": [
    "### 4.1.7 Insert 'Non-Exceedance (Q)' Column"
   ]
  },
  {
   "cell_type": "markdown",
   "id": "61219a31",
   "metadata": {},
   "source": [
    "###### Q = 1 - P"
   ]
  },
  {
   "cell_type": "code",
   "execution_count": 129,
   "id": "11815609",
   "metadata": {},
   "outputs": [],
   "source": [
    "q_non = []\n",
    "for i in range(len(gumbel_est_calculations_df)):\n",
    "    q_non.append(1 - (gumbel_est_calculations_df['Exceedance (P)'].iloc[i]))"
   ]
  },
  {
   "cell_type": "code",
   "execution_count": 130,
   "id": "d12d86a1",
   "metadata": {},
   "outputs": [],
   "source": [
    "gumbel_est_calculations_df.insert(5, 'Non-Exceedance (Q)', q_non)"
   ]
  },
  {
   "cell_type": "markdown",
   "id": "764c50ed",
   "metadata": {},
   "source": [
    "### 4.1.8 Insert 'Gumbel Est. Return Period (T_a)' Column"
   ]
  },
  {
   "cell_type": "markdown",
   "id": "a2bd2201",
   "metadata": {},
   "source": [
    "###### T_a = 1/P"
   ]
  },
  {
   "cell_type": "code",
   "execution_count": 131,
   "id": "20134b7f",
   "metadata": {},
   "outputs": [],
   "source": [
    "t_a = []\n",
    "for i in range(len(gumbel_est_calculations_df)):\n",
    "    t_a.append(1 / (gumbel_est_calculations_df['Exceedance (P)'].iloc[i]))"
   ]
  },
  {
   "cell_type": "code",
   "execution_count": 132,
   "id": "3ffea7d9",
   "metadata": {},
   "outputs": [],
   "source": [
    "gumbel_est_calculations_df.insert(6, 'Gumbel Est. Return Period (T_a)', t_a)"
   ]
  },
  {
   "cell_type": "markdown",
   "id": "ba218a0c",
   "metadata": {},
   "source": [
    "### 4.1.9 Insert 'Reduced Variable (Y)' Column"
   ]
  },
  {
   "cell_type": "markdown",
   "id": "0d5b30bd",
   "metadata": {},
   "source": [
    "###### -ln(-ln(Q))"
   ]
  },
  {
   "cell_type": "code",
   "execution_count": 133,
   "id": "5cc09c93",
   "metadata": {},
   "outputs": [],
   "source": [
    "y_redvar = []\n",
    "for i in range(len(gumbel_est_calculations_df)):\n",
    "    y_redvar.append(-np.log(-np.log(gumbel_est_calculations_df['Non-Exceedance (Q)'].iloc[i])))"
   ]
  },
  {
   "cell_type": "code",
   "execution_count": 134,
   "id": "7abf87a3",
   "metadata": {},
   "outputs": [],
   "source": [
    "gumbel_est_calculations_df.insert(7, 'Reduced Variable (Y)', y_redvar)"
   ]
  },
  {
   "cell_type": "markdown",
   "id": "754b79ea",
   "metadata": {},
   "source": [
    "### 4.1.10 Insert 'Gumble Estimate' Column"
   ]
  },
  {
   "cell_type": "markdown",
   "id": "39a35fe1",
   "metadata": {},
   "source": [
    "###### (Sigma*[Y (Reduced Var)]) + mu"
   ]
  },
  {
   "cell_type": "markdown",
   "id": "3f5f6255",
   "metadata": {},
   "source": [
    "#### 5.1.10.1 Define Variables"
   ]
  },
  {
   "cell_type": "markdown",
   "id": "c3f4723d",
   "metadata": {},
   "source": [
    "######  s_y = Std Dev of Reduced Var (Y)"
   ]
  },
  {
   "cell_type": "code",
   "execution_count": 135,
   "id": "be61a517",
   "metadata": {},
   "outputs": [],
   "source": [
    "s_y = np.std(y_redvar)"
   ]
  },
  {
   "cell_type": "markdown",
   "id": "e2ae999b",
   "metadata": {},
   "source": [
    "###### s_R = Std Dev of Max One-Day Rainfall"
   ]
  },
  {
   "cell_type": "code",
   "execution_count": 136,
   "id": "cf39c1cc",
   "metadata": {},
   "outputs": [],
   "source": [
    "s_R = np.std(gumbel_est_calculations_df['Max One-Day Rainfall'])"
   ]
  },
  {
   "cell_type": "markdown",
   "id": "f3f6f0b3",
   "metadata": {},
   "source": [
    "###### R_max_gem = Average of Max One-Day Rainfall"
   ]
  },
  {
   "cell_type": "code",
   "execution_count": 137,
   "id": "3a29c9c9",
   "metadata": {},
   "outputs": [],
   "source": [
    "R_max_gem = np.average(gumbel_est_calculations_df['Max One-Day Rainfall'])"
   ]
  },
  {
   "cell_type": "markdown",
   "id": "84cc3811",
   "metadata": {},
   "source": [
    "###### y_gem = Average of Reduced Var (Y)"
   ]
  },
  {
   "cell_type": "code",
   "execution_count": 138,
   "id": "b8512ac4",
   "metadata": {},
   "outputs": [],
   "source": [
    "y_gem = np.average(y_redvar)"
   ]
  },
  {
   "cell_type": "markdown",
   "id": "bdfe493a",
   "metadata": {},
   "source": [
    "###### s_y = Std Dev of Reduced Var (Y)"
   ]
  },
  {
   "cell_type": "code",
   "execution_count": 139,
   "id": "7eb468ac",
   "metadata": {},
   "outputs": [],
   "source": [
    "s_y = np.std(y_redvar)"
   ]
  },
  {
   "cell_type": "markdown",
   "id": "5898668f",
   "metadata": {},
   "source": [
    "###### Sigma = s_R / s_y"
   ]
  },
  {
   "cell_type": "code",
   "execution_count": 140,
   "id": "95af3847",
   "metadata": {},
   "outputs": [],
   "source": [
    "sigma = s_R / s_y"
   ]
  },
  {
   "cell_type": "markdown",
   "id": "720ee1b6",
   "metadata": {},
   "source": [
    "###### mu = R_max_gem-((s_R)*(y_gem/s_y))"
   ]
  },
  {
   "cell_type": "code",
   "execution_count": 141,
   "id": "514ff02b",
   "metadata": {},
   "outputs": [],
   "source": [
    "mu = R_max_gem-((s_R)*(y_gem / s_y))"
   ]
  },
  {
   "cell_type": "markdown",
   "id": "2de9b2ee",
   "metadata": {},
   "source": [
    "#### 4.1.10.2 (Sigma*[Y (Reduced Var)]) + mu"
   ]
  },
  {
   "cell_type": "code",
   "execution_count": 142,
   "id": "a80a8922",
   "metadata": {},
   "outputs": [],
   "source": [
    "gumbel_est = []\n",
    "for i in range(len(gumbel_est_calculations_df)):\n",
    "    gumbel_est.append(sigma*(y_redvar[i])+mu)"
   ]
  },
  {
   "cell_type": "code",
   "execution_count": 143,
   "id": "71fec9a2",
   "metadata": {},
   "outputs": [],
   "source": [
    "gumbel_est_calculations_df.insert(8, 'Gumbel Estimate', gumbel_est)"
   ]
  },
  {
   "cell_type": "markdown",
   "id": "3700d190",
   "metadata": {},
   "source": [
    "### 4.1.11 Display 'gumbel_est_calculations_df' Dataframe"
   ]
  },
  {
   "cell_type": "markdown",
   "id": "db238611",
   "metadata": {},
   "source": [
    "###### Sort Dataframe by Year (Ascending)"
   ]
  },
  {
   "cell_type": "code",
   "execution_count": 144,
   "id": "afd055ee",
   "metadata": {},
   "outputs": [],
   "source": [
    "gumbel_est_calculations_df = gumbel_est_calculations_df.sort_values(by='Year', ascending = True) "
   ]
  },
  {
   "cell_type": "markdown",
   "id": "ffc86784",
   "metadata": {},
   "source": [
    "###### Display 'gumbel_est_calculations_df' Dataframe"
   ]
  },
  {
   "cell_type": "code",
   "execution_count": 145,
   "id": "5b93a0f3",
   "metadata": {},
   "outputs": [
    {
     "data": {
      "text/html": [
       "<div>\n",
       "<style scoped>\n",
       "    .dataframe tbody tr th:only-of-type {\n",
       "        vertical-align: middle;\n",
       "    }\n",
       "\n",
       "    .dataframe tbody tr th {\n",
       "        vertical-align: top;\n",
       "    }\n",
       "\n",
       "    .dataframe thead th {\n",
       "        text-align: right;\n",
       "    }\n",
       "</style>\n",
       "<table border=\"1\" class=\"dataframe\">\n",
       "  <thead>\n",
       "    <tr style=\"text-align: right;\">\n",
       "      <th></th>\n",
       "      <th>Year</th>\n",
       "      <th>Max One-Day Rainfall</th>\n",
       "      <th>Observations (N)</th>\n",
       "      <th>Rank (i)</th>\n",
       "      <th>Exceedance (P)</th>\n",
       "      <th>Non-Exceedance (Q)</th>\n",
       "      <th>Gumbel Est. Return Period (T_a)</th>\n",
       "      <th>Reduced Variable (Y)</th>\n",
       "      <th>Gumbel Estimate</th>\n",
       "    </tr>\n",
       "  </thead>\n",
       "  <tbody>\n",
       "    <tr>\n",
       "      <th>0</th>\n",
       "      <td>1962</td>\n",
       "      <td>51.3</td>\n",
       "      <td>62</td>\n",
       "      <td>46</td>\n",
       "      <td>0.730159</td>\n",
       "      <td>0.269841</td>\n",
       "      <td>1.369565</td>\n",
       "      <td>-0.269967</td>\n",
       "      <td>44.330619</td>\n",
       "    </tr>\n",
       "    <tr>\n",
       "      <th>1</th>\n",
       "      <td>1963</td>\n",
       "      <td>56.4</td>\n",
       "      <td>62</td>\n",
       "      <td>40</td>\n",
       "      <td>0.634921</td>\n",
       "      <td>0.365079</td>\n",
       "      <td>1.575000</td>\n",
       "      <td>-0.007611</td>\n",
       "      <td>51.577249</td>\n",
       "    </tr>\n",
       "    <tr>\n",
       "      <th>2</th>\n",
       "      <td>1964</td>\n",
       "      <td>44.7</td>\n",
       "      <td>62</td>\n",
       "      <td>52</td>\n",
       "      <td>0.825397</td>\n",
       "      <td>0.174603</td>\n",
       "      <td>1.211538</td>\n",
       "      <td>-0.556892</td>\n",
       "      <td>36.405358</td>\n",
       "    </tr>\n",
       "    <tr>\n",
       "      <th>3</th>\n",
       "      <td>1965</td>\n",
       "      <td>70.4</td>\n",
       "      <td>62</td>\n",
       "      <td>16</td>\n",
       "      <td>0.253968</td>\n",
       "      <td>0.746032</td>\n",
       "      <td>3.937500</td>\n",
       "      <td>1.227627</td>\n",
       "      <td>85.696256</td>\n",
       "    </tr>\n",
       "    <tr>\n",
       "      <th>4</th>\n",
       "      <td>1966</td>\n",
       "      <td>66.5</td>\n",
       "      <td>62</td>\n",
       "      <td>18</td>\n",
       "      <td>0.285714</td>\n",
       "      <td>0.714286</td>\n",
       "      <td>3.500000</td>\n",
       "      <td>1.089240</td>\n",
       "      <td>81.873814</td>\n",
       "    </tr>\n",
       "    <tr>\n",
       "      <th>...</th>\n",
       "      <td>...</td>\n",
       "      <td>...</td>\n",
       "      <td>...</td>\n",
       "      <td>...</td>\n",
       "      <td>...</td>\n",
       "      <td>...</td>\n",
       "      <td>...</td>\n",
       "      <td>...</td>\n",
       "      <td>...</td>\n",
       "    </tr>\n",
       "    <tr>\n",
       "      <th>57</th>\n",
       "      <td>2019</td>\n",
       "      <td>41.4</td>\n",
       "      <td>62</td>\n",
       "      <td>55</td>\n",
       "      <td>0.873016</td>\n",
       "      <td>0.126984</td>\n",
       "      <td>1.145455</td>\n",
       "      <td>-0.724497</td>\n",
       "      <td>31.775861</td>\n",
       "    </tr>\n",
       "    <tr>\n",
       "      <th>58</th>\n",
       "      <td>2020</td>\n",
       "      <td>65.6</td>\n",
       "      <td>62</td>\n",
       "      <td>21</td>\n",
       "      <td>0.333333</td>\n",
       "      <td>0.666667</td>\n",
       "      <td>3.000000</td>\n",
       "      <td>0.902720</td>\n",
       "      <td>76.721893</td>\n",
       "    </tr>\n",
       "    <tr>\n",
       "      <th>59</th>\n",
       "      <td>2021</td>\n",
       "      <td>42.2</td>\n",
       "      <td>62</td>\n",
       "      <td>54</td>\n",
       "      <td>0.857143</td>\n",
       "      <td>0.142857</td>\n",
       "      <td>1.166667</td>\n",
       "      <td>-0.665730</td>\n",
       "      <td>33.399099</td>\n",
       "    </tr>\n",
       "    <tr>\n",
       "      <th>60</th>\n",
       "      <td>2022</td>\n",
       "      <td>62.8</td>\n",
       "      <td>62</td>\n",
       "      <td>30</td>\n",
       "      <td>0.476190</td>\n",
       "      <td>0.523810</td>\n",
       "      <td>2.100000</td>\n",
       "      <td>0.435985</td>\n",
       "      <td>63.830017</td>\n",
       "    </tr>\n",
       "    <tr>\n",
       "      <th>61</th>\n",
       "      <td>2023</td>\n",
       "      <td>245.0</td>\n",
       "      <td>62</td>\n",
       "      <td>1</td>\n",
       "      <td>0.015873</td>\n",
       "      <td>0.984127</td>\n",
       "      <td>63.000000</td>\n",
       "      <td>4.135145</td>\n",
       "      <td>166.005995</td>\n",
       "    </tr>\n",
       "  </tbody>\n",
       "</table>\n",
       "<p>62 rows × 9 columns</p>\n",
       "</div>"
      ],
      "text/plain": [
       "    Year  Max One-Day Rainfall  Observations (N)  Rank (i)  Exceedance (P)  \\\n",
       "0   1962                  51.3                62        46        0.730159   \n",
       "1   1963                  56.4                62        40        0.634921   \n",
       "2   1964                  44.7                62        52        0.825397   \n",
       "3   1965                  70.4                62        16        0.253968   \n",
       "4   1966                  66.5                62        18        0.285714   \n",
       "..   ...                   ...               ...       ...             ...   \n",
       "57  2019                  41.4                62        55        0.873016   \n",
       "58  2020                  65.6                62        21        0.333333   \n",
       "59  2021                  42.2                62        54        0.857143   \n",
       "60  2022                  62.8                62        30        0.476190   \n",
       "61  2023                 245.0                62         1        0.015873   \n",
       "\n",
       "    Non-Exceedance (Q)  Gumbel Est. Return Period (T_a)  Reduced Variable (Y)  \\\n",
       "0             0.269841                         1.369565             -0.269967   \n",
       "1             0.365079                         1.575000             -0.007611   \n",
       "2             0.174603                         1.211538             -0.556892   \n",
       "3             0.746032                         3.937500              1.227627   \n",
       "4             0.714286                         3.500000              1.089240   \n",
       "..                 ...                              ...                   ...   \n",
       "57            0.126984                         1.145455             -0.724497   \n",
       "58            0.666667                         3.000000              0.902720   \n",
       "59            0.142857                         1.166667             -0.665730   \n",
       "60            0.523810                         2.100000              0.435985   \n",
       "61            0.984127                        63.000000              4.135145   \n",
       "\n",
       "    Gumbel Estimate  \n",
       "0         44.330619  \n",
       "1         51.577249  \n",
       "2         36.405358  \n",
       "3         85.696256  \n",
       "4         81.873814  \n",
       "..              ...  \n",
       "57        31.775861  \n",
       "58        76.721893  \n",
       "59        33.399099  \n",
       "60        63.830017  \n",
       "61       166.005995  \n",
       "\n",
       "[62 rows x 9 columns]"
      ]
     },
     "execution_count": 145,
     "metadata": {},
     "output_type": "execute_result"
    }
   ],
   "source": [
    "gumbel_est_calculations_df"
   ]
  },
  {
   "cell_type": "markdown",
   "id": "01c80c00",
   "metadata": {},
   "source": [
    "**************************************************************************************************"
   ]
  },
  {
   "cell_type": "markdown",
   "id": "ec4e3be7",
   "metadata": {},
   "source": [
    "## 4.2 Create 'gumbel_variables_df' Dataframe"
   ]
  },
  {
   "cell_type": "markdown",
   "id": "a3a3a1b8",
   "metadata": {},
   "source": [
    "### 4.2.1 Create 'gumbel_variables_df' Dataframe"
   ]
  },
  {
   "cell_type": "code",
   "execution_count": 146,
   "id": "49257f03",
   "metadata": {},
   "outputs": [],
   "source": [
    "gumbel_variables_df = pd.DataFrame()"
   ]
  },
  {
   "cell_type": "markdown",
   "id": "03e97108",
   "metadata": {},
   "source": [
    "### 4.2.2 Insert 'Variable' Column"
   ]
  },
  {
   "cell_type": "code",
   "execution_count": 147,
   "id": "6671eb99",
   "metadata": {},
   "outputs": [],
   "source": [
    "variable = ['s_y', 's_R', 'R_max_gem', 'y_gem', 's_y', 'Sigma', 'mu']"
   ]
  },
  {
   "cell_type": "code",
   "execution_count": 148,
   "id": "f857e53c",
   "metadata": {},
   "outputs": [],
   "source": [
    "gumbel_variables_df.insert(0, 'Variable', variable)"
   ]
  },
  {
   "cell_type": "markdown",
   "id": "183cf006",
   "metadata": {},
   "source": [
    "### 4.2.3 Insert 'Equation' Column"
   ]
  },
  {
   "cell_type": "code",
   "execution_count": 149,
   "id": "7dd6f45d",
   "metadata": {},
   "outputs": [],
   "source": [
    "equation = ['s_y = Std Dev of Y (Reduced Var)', 's_R = Std Dev of Max 1-Day Rainfall (mm)', \n",
    "            'R_max_gem = Average of Max 1-Day Rainfall (mm)', 'y_gem = Average of Y (Reduced Var)', \n",
    "            's_y = Std Dev of Y (Reduced Var)', 'Sigma = s_R / s_y', \n",
    "            'mu = R_max_gem-((s_R)*(y_gem/s_y))']"
   ]
  },
  {
   "cell_type": "code",
   "execution_count": 150,
   "id": "da97a130",
   "metadata": {},
   "outputs": [],
   "source": [
    "gumbel_variables_df.insert(1, 'Equation', equation)"
   ]
  },
  {
   "cell_type": "markdown",
   "id": "d3f350d4",
   "metadata": {},
   "source": [
    "### 4.2.4 Insert 'Value' Column"
   ]
  },
  {
   "cell_type": "code",
   "execution_count": 151,
   "id": "00f58f52",
   "metadata": {},
   "outputs": [],
   "source": [
    "value = [s_y, s_R, R_max_gem, y_gem, s_y, sigma, mu]"
   ]
  },
  {
   "cell_type": "code",
   "execution_count": 152,
   "id": "d6b55e6a",
   "metadata": {},
   "outputs": [],
   "source": [
    "gumbel_variables_df.insert(2, 'Value', value)"
   ]
  },
  {
   "cell_type": "markdown",
   "id": "0ad216e6",
   "metadata": {},
   "source": [
    "### 4.2.5 Display 'gumbel_variables_df' Dataframe"
   ]
  },
  {
   "cell_type": "code",
   "execution_count": 153,
   "id": "cc9a4e92",
   "metadata": {},
   "outputs": [
    {
     "data": {
      "text/html": [
       "<div>\n",
       "<style scoped>\n",
       "    .dataframe tbody tr th:only-of-type {\n",
       "        vertical-align: middle;\n",
       "    }\n",
       "\n",
       "    .dataframe tbody tr th {\n",
       "        vertical-align: top;\n",
       "    }\n",
       "\n",
       "    .dataframe thead th {\n",
       "        text-align: right;\n",
       "    }\n",
       "</style>\n",
       "<table border=\"1\" class=\"dataframe\">\n",
       "  <thead>\n",
       "    <tr style=\"text-align: right;\">\n",
       "      <th></th>\n",
       "      <th>Variable</th>\n",
       "      <th>Equation</th>\n",
       "      <th>Value</th>\n",
       "    </tr>\n",
       "  </thead>\n",
       "  <tbody>\n",
       "    <tr>\n",
       "      <th>0</th>\n",
       "      <td>s_y</td>\n",
       "      <td>s_y = Std Dev of Y (Reduced Var)</td>\n",
       "      <td>1.177024</td>\n",
       "    </tr>\n",
       "    <tr>\n",
       "      <th>1</th>\n",
       "      <td>s_R</td>\n",
       "      <td>s_R = Std Dev of Max 1-Day Rainfall (mm)</td>\n",
       "      <td>32.511049</td>\n",
       "    </tr>\n",
       "    <tr>\n",
       "      <th>2</th>\n",
       "      <td>R_max_gem</td>\n",
       "      <td>R_max_gem = Average of Max 1-Day Rainfall (mm)</td>\n",
       "      <td>67.053226</td>\n",
       "    </tr>\n",
       "    <tr>\n",
       "      <th>3</th>\n",
       "      <td>y_gem</td>\n",
       "      <td>y_gem = Average of Y (Reduced Var)</td>\n",
       "      <td>0.552678</td>\n",
       "    </tr>\n",
       "    <tr>\n",
       "      <th>4</th>\n",
       "      <td>s_y</td>\n",
       "      <td>s_y = Std Dev of Y (Reduced Var)</td>\n",
       "      <td>1.177024</td>\n",
       "    </tr>\n",
       "    <tr>\n",
       "      <th>5</th>\n",
       "      <td>Sigma</td>\n",
       "      <td>Sigma = s_R / s_y</td>\n",
       "      <td>27.621401</td>\n",
       "    </tr>\n",
       "    <tr>\n",
       "      <th>6</th>\n",
       "      <td>mu</td>\n",
       "      <td>mu = R_max_gem-((s_R)*(y_gem/s_y))</td>\n",
       "      <td>51.787489</td>\n",
       "    </tr>\n",
       "  </tbody>\n",
       "</table>\n",
       "</div>"
      ],
      "text/plain": [
       "    Variable                                        Equation      Value\n",
       "0        s_y                s_y = Std Dev of Y (Reduced Var)   1.177024\n",
       "1        s_R        s_R = Std Dev of Max 1-Day Rainfall (mm)  32.511049\n",
       "2  R_max_gem  R_max_gem = Average of Max 1-Day Rainfall (mm)  67.053226\n",
       "3      y_gem              y_gem = Average of Y (Reduced Var)   0.552678\n",
       "4        s_y                s_y = Std Dev of Y (Reduced Var)   1.177024\n",
       "5      Sigma                               Sigma = s_R / s_y  27.621401\n",
       "6         mu              mu = R_max_gem-((s_R)*(y_gem/s_y))  51.787489"
      ]
     },
     "execution_count": 153,
     "metadata": {},
     "output_type": "execute_result"
    }
   ],
   "source": [
    "gumbel_variables_df"
   ]
  },
  {
   "cell_type": "markdown",
   "id": "a031ef71",
   "metadata": {},
   "source": [
    "**************************************************************************************************"
   ]
  },
  {
   "cell_type": "markdown",
   "id": "02d4cbfb",
   "metadata": {},
   "source": [
    "## 4.3 Create 'gumbel_est_df' Dataframe"
   ]
  },
  {
   "cell_type": "markdown",
   "id": "42c6a4ca",
   "metadata": {},
   "source": [
    "### 4.3.1 Create 'gumbel_est_df' Dataframe"
   ]
  },
  {
   "cell_type": "code",
   "execution_count": 154,
   "id": "7d9941a7",
   "metadata": {},
   "outputs": [],
   "source": [
    "gumbel_est_df = pd.DataFrame()"
   ]
  },
  {
   "cell_type": "markdown",
   "id": "9406d286",
   "metadata": {},
   "source": [
    "### 4.3.2 Insert 'Return Period (Year)' Column"
   ]
  },
  {
   "cell_type": "code",
   "execution_count": 155,
   "id": "a8abb46a",
   "metadata": {},
   "outputs": [],
   "source": [
    "return_period = [1, 1.5, 2, 5, 10, 20, 35, 50, 60, 100, 200, 500, 1000]"
   ]
  },
  {
   "cell_type": "code",
   "execution_count": 156,
   "id": "3e31894b",
   "metadata": {},
   "outputs": [],
   "source": [
    "gumbel_est_df.insert(0, 'Return Period (Year)', return_period)"
   ]
  },
  {
   "cell_type": "markdown",
   "id": "1d092d52",
   "metadata": {},
   "source": [
    "### 4.3.3 Insert 'Gumbel Est. Return Period (T_a)' Column"
   ]
  },
  {
   "cell_type": "markdown",
   "id": "707d6f4e",
   "metadata": {},
   "source": [
    "###### (1)/(1-e^(-1/['Return Period T (Year)']))"
   ]
  },
  {
   "cell_type": "code",
   "execution_count": 157,
   "id": "1d569884",
   "metadata": {},
   "outputs": [],
   "source": [
    "t_a_gumbel = []\n",
    "for i in range(len(gumbel_est_df)):\n",
    "    t_a_gumbel.append(1 / (1 - (math.exp(float(-1 / (gumbel_est_df['Return Period (Year)'].iloc[i]))))))"
   ]
  },
  {
   "cell_type": "code",
   "execution_count": 158,
   "id": "405a9d0a",
   "metadata": {},
   "outputs": [],
   "source": [
    "gumbel_est_df.insert(1, 'Gumbel Est. Return Period (T_a)', t_a_gumbel)"
   ]
  },
  {
   "cell_type": "markdown",
   "id": "9dc42cec",
   "metadata": {},
   "source": [
    "### 4.3.4 Insert 'Reduced Variable (Y)' Column"
   ]
  },
  {
   "cell_type": "markdown",
   "id": "39a7a626",
   "metadata": {},
   "source": [
    "###### -ln(-ln(1-(1/['Gumbel Est. Return Period (T_a)'])))"
   ]
  },
  {
   "cell_type": "code",
   "execution_count": 159,
   "id": "eedc742d",
   "metadata": {},
   "outputs": [],
   "source": [
    "y_gumbel = []\n",
    "for i in range(len(gumbel_est_df)):\n",
    "    y_gumbel.append(-np.log(-np.log(1 - (1 / (gumbel_est_df['Gumbel Est. Return Period (T_a)'].iloc[i])))))"
   ]
  },
  {
   "cell_type": "code",
   "execution_count": 160,
   "id": "b5bea040",
   "metadata": {},
   "outputs": [],
   "source": [
    "gumbel_est_df.insert(2, 'Reduced Variable (Y)', y_gumbel)"
   ]
  },
  {
   "cell_type": "markdown",
   "id": "d19eb272",
   "metadata": {},
   "source": [
    "### 4.3.5 Insert 'Gumbel Estimate' Column"
   ]
  },
  {
   "cell_type": "markdown",
   "id": "6a3b8a07",
   "metadata": {},
   "source": [
    "###### sigma* y_gumbel[] + mu"
   ]
  },
  {
   "cell_type": "code",
   "execution_count": 161,
   "id": "ded0d46a",
   "metadata": {},
   "outputs": [],
   "source": [
    "est_gumbel = []\n",
    "for i in range(len(gumbel_est_df)):\n",
    "    est_gumbel.append(sigma * (gumbel_est_df['Reduced Variable (Y)'].iloc[i]) + mu)"
   ]
  },
  {
   "cell_type": "code",
   "execution_count": 162,
   "id": "fdcedb25",
   "metadata": {},
   "outputs": [],
   "source": [
    "gumbel_est_df.insert(3, 'Gumbel Estimate', est_gumbel)"
   ]
  },
  {
   "cell_type": "markdown",
   "id": "c6dfcae5",
   "metadata": {},
   "source": [
    "### 4.3.6 Display 'gumbel_est_df' Dataframe"
   ]
  },
  {
   "cell_type": "code",
   "execution_count": 163,
   "id": "9641d422",
   "metadata": {},
   "outputs": [
    {
     "data": {
      "text/html": [
       "<div>\n",
       "<style scoped>\n",
       "    .dataframe tbody tr th:only-of-type {\n",
       "        vertical-align: middle;\n",
       "    }\n",
       "\n",
       "    .dataframe tbody tr th {\n",
       "        vertical-align: top;\n",
       "    }\n",
       "\n",
       "    .dataframe thead th {\n",
       "        text-align: right;\n",
       "    }\n",
       "</style>\n",
       "<table border=\"1\" class=\"dataframe\">\n",
       "  <thead>\n",
       "    <tr style=\"text-align: right;\">\n",
       "      <th></th>\n",
       "      <th>Return Period (Year)</th>\n",
       "      <th>Gumbel Est. Return Period (T_a)</th>\n",
       "      <th>Reduced Variable (Y)</th>\n",
       "      <th>Gumbel Estimate</th>\n",
       "    </tr>\n",
       "  </thead>\n",
       "  <tbody>\n",
       "    <tr>\n",
       "      <th>0</th>\n",
       "      <td>1.0</td>\n",
       "      <td>1.581977</td>\n",
       "      <td>-0.000000</td>\n",
       "      <td>51.787489</td>\n",
       "    </tr>\n",
       "    <tr>\n",
       "      <th>1</th>\n",
       "      <td>1.5</td>\n",
       "      <td>2.055148</td>\n",
       "      <td>0.405465</td>\n",
       "      <td>62.987003</td>\n",
       "    </tr>\n",
       "    <tr>\n",
       "      <th>2</th>\n",
       "      <td>2.0</td>\n",
       "      <td>2.541494</td>\n",
       "      <td>0.693147</td>\n",
       "      <td>70.933185</td>\n",
       "    </tr>\n",
       "    <tr>\n",
       "      <th>3</th>\n",
       "      <td>5.0</td>\n",
       "      <td>5.516656</td>\n",
       "      <td>1.609438</td>\n",
       "      <td>96.242419</td>\n",
       "    </tr>\n",
       "    <tr>\n",
       "      <th>4</th>\n",
       "      <td>10.0</td>\n",
       "      <td>10.508332</td>\n",
       "      <td>2.302585</td>\n",
       "      <td>115.388116</td>\n",
       "    </tr>\n",
       "    <tr>\n",
       "      <th>5</th>\n",
       "      <td>20.0</td>\n",
       "      <td>20.504166</td>\n",
       "      <td>2.995732</td>\n",
       "      <td>134.533812</td>\n",
       "    </tr>\n",
       "    <tr>\n",
       "      <th>6</th>\n",
       "      <td>35.0</td>\n",
       "      <td>35.502381</td>\n",
       "      <td>3.555348</td>\n",
       "      <td>149.991185</td>\n",
       "    </tr>\n",
       "    <tr>\n",
       "      <th>7</th>\n",
       "      <td>50.0</td>\n",
       "      <td>50.501667</td>\n",
       "      <td>3.912023</td>\n",
       "      <td>159.843046</td>\n",
       "    </tr>\n",
       "    <tr>\n",
       "      <th>8</th>\n",
       "      <td>60.0</td>\n",
       "      <td>60.501389</td>\n",
       "      <td>4.094345</td>\n",
       "      <td>164.879023</td>\n",
       "    </tr>\n",
       "    <tr>\n",
       "      <th>9</th>\n",
       "      <td>100.0</td>\n",
       "      <td>100.500833</td>\n",
       "      <td>4.605170</td>\n",
       "      <td>178.988743</td>\n",
       "    </tr>\n",
       "    <tr>\n",
       "      <th>10</th>\n",
       "      <td>200.0</td>\n",
       "      <td>200.500417</td>\n",
       "      <td>5.298317</td>\n",
       "      <td>198.134439</td>\n",
       "    </tr>\n",
       "    <tr>\n",
       "      <th>11</th>\n",
       "      <td>500.0</td>\n",
       "      <td>500.500167</td>\n",
       "      <td>6.214608</td>\n",
       "      <td>223.443673</td>\n",
       "    </tr>\n",
       "    <tr>\n",
       "      <th>12</th>\n",
       "      <td>1000.0</td>\n",
       "      <td>1000.500083</td>\n",
       "      <td>6.907755</td>\n",
       "      <td>242.589370</td>\n",
       "    </tr>\n",
       "  </tbody>\n",
       "</table>\n",
       "</div>"
      ],
      "text/plain": [
       "    Return Period (Year)  Gumbel Est. Return Period (T_a)  \\\n",
       "0                    1.0                         1.581977   \n",
       "1                    1.5                         2.055148   \n",
       "2                    2.0                         2.541494   \n",
       "3                    5.0                         5.516656   \n",
       "4                   10.0                        10.508332   \n",
       "5                   20.0                        20.504166   \n",
       "6                   35.0                        35.502381   \n",
       "7                   50.0                        50.501667   \n",
       "8                   60.0                        60.501389   \n",
       "9                  100.0                       100.500833   \n",
       "10                 200.0                       200.500417   \n",
       "11                 500.0                       500.500167   \n",
       "12                1000.0                      1000.500083   \n",
       "\n",
       "    Reduced Variable (Y)  Gumbel Estimate  \n",
       "0              -0.000000        51.787489  \n",
       "1               0.405465        62.987003  \n",
       "2               0.693147        70.933185  \n",
       "3               1.609438        96.242419  \n",
       "4               2.302585       115.388116  \n",
       "5               2.995732       134.533812  \n",
       "6               3.555348       149.991185  \n",
       "7               3.912023       159.843046  \n",
       "8               4.094345       164.879023  \n",
       "9               4.605170       178.988743  \n",
       "10              5.298317       198.134439  \n",
       "11              6.214608       223.443673  \n",
       "12              6.907755       242.589370  "
      ]
     },
     "execution_count": 163,
     "metadata": {},
     "output_type": "execute_result"
    }
   ],
   "source": [
    "gumbel_est_df"
   ]
  },
  {
   "cell_type": "markdown",
   "id": "8ac12163",
   "metadata": {},
   "source": [
    "**************************************************************************************************"
   ]
  },
  {
   "cell_type": "markdown",
   "id": "218a206f",
   "metadata": {},
   "source": [
    "## 4.4 Create 'january_2023_stats_df' Dataframe"
   ]
  },
  {
   "cell_type": "markdown",
   "id": "9db7a9be",
   "metadata": {},
   "source": [
    "### 4.4.1 Create 'january_2023_stats_df' Dataframe"
   ]
  },
  {
   "cell_type": "code",
   "execution_count": 164,
   "id": "e5df4270",
   "metadata": {},
   "outputs": [],
   "source": [
    "january_2023_stats_df = pd.DataFrame()"
   ]
  },
  {
   "cell_type": "markdown",
   "id": "abe5f9dc",
   "metadata": {},
   "source": [
    "### 4.4.2 Insert 'Statistic Description' Column"
   ]
  },
  {
   "cell_type": "code",
   "execution_count": 165,
   "id": "00d3ae83",
   "metadata": {},
   "outputs": [],
   "source": [
    "stat_description = ['Min One-Day Rainfall', 'Max One-Day Rainfall', \n",
    "                    'Average One-Day Rainfall', 'Mean', 'Standard Deviation']"
   ]
  },
  {
   "cell_type": "code",
   "execution_count": 166,
   "id": "aed574d5",
   "metadata": {},
   "outputs": [],
   "source": [
    "january_2023_stats_df.insert(0, 'Statistic Description', stat_description)"
   ]
  },
  {
   "cell_type": "markdown",
   "id": "e1defaef",
   "metadata": {},
   "source": [
    "### 4.4.3 Create 'jan_2023_daily_df' and 'jan_avg_daily_df' Dataframe"
   ]
  },
  {
   "cell_type": "markdown",
   "id": "f1db4f68",
   "metadata": {},
   "source": [
    "#### 4.4.3.1 Create 'jan_stats_calc_df' Dataframe"
   ]
  },
  {
   "cell_type": "code",
   "execution_count": 167,
   "id": "14931dae",
   "metadata": {},
   "outputs": [],
   "source": [
    "jan_stats_calc_df = rainfall_data_df\n",
    "jan_stats_calc_df = jan_stats_calc_df.drop(columns=['Station'])"
   ]
  },
  {
   "cell_type": "code",
   "execution_count": 168,
   "id": "62949371",
   "metadata": {},
   "outputs": [],
   "source": [
    "for i in range(len(rainfall_data_df)):\n",
    "    if str(rainfall_data_df['Date'].iloc[i])[5:7] != '01':\n",
    "        jan_stats_calc_df = jan_stats_calc_df.drop([i])"
   ]
  },
  {
   "cell_type": "code",
   "execution_count": 169,
   "id": "ccef37fe",
   "metadata": {},
   "outputs": [],
   "source": [
    "index_list = []\n",
    "for i in range(len(jan_stats_calc_df)):\n",
    "    index_list.append(i)\n",
    "jan_stats_calc_df.insert(0, '', index_list)\n",
    "\n",
    "jan_stats_calc_df = jan_stats_calc_df.set_index('')"
   ]
  },
  {
   "cell_type": "markdown",
   "id": "e549db17",
   "metadata": {},
   "source": [
    "#### 4.4.3.2 Create 'jan_2023_daily_df' Dataframe"
   ]
  },
  {
   "cell_type": "code",
   "execution_count": 170,
   "id": "42821803",
   "metadata": {},
   "outputs": [],
   "source": [
    "jan_2023_daily_df = jan_stats_calc_df.iloc[1836:]\n",
    "\n",
    "index_list = []\n",
    "for i in range(len(jan_2023_daily_df)):\n",
    "    index_list.append(i)\n",
    "jan_2023_daily_df.insert(0, '', index_list)\n",
    "\n",
    "jan_2023_daily_df = jan_2023_daily_df.set_index('')"
   ]
  },
  {
   "cell_type": "markdown",
   "id": "bbc03bb5",
   "metadata": {},
   "source": [
    "#### 4.4.3.3 Create 'jan_avg_daily_df' Dataframe"
   ]
  },
  {
   "cell_type": "code",
   "execution_count": 171,
   "id": "5832c5ac",
   "metadata": {},
   "outputs": [],
   "source": [
    "jan_avg_daily_df = jan_stats_calc_df.iloc[:1836]"
   ]
  },
  {
   "cell_type": "markdown",
   "id": "a2d65c9e",
   "metadata": {},
   "source": [
    "### 4.4.4 Insert 'January (1963 - 2022)' Column"
   ]
  },
  {
   "cell_type": "markdown",
   "id": "b50984f0",
   "metadata": {},
   "source": [
    "#### 4.4.4.1 Define Variables"
   ]
  },
  {
   "cell_type": "code",
   "execution_count": 172,
   "id": "5026bb2b",
   "metadata": {},
   "outputs": [],
   "source": [
    "min_1_day_avg = jan_avg_daily_df['Rainfall (mm/d)'].min()"
   ]
  },
  {
   "cell_type": "code",
   "execution_count": 173,
   "id": "0c349d56",
   "metadata": {},
   "outputs": [],
   "source": [
    "max_1_day_avg = jan_avg_daily_df['Rainfall (mm/d)'].max()"
   ]
  },
  {
   "cell_type": "code",
   "execution_count": 174,
   "id": "987b0b35",
   "metadata": {},
   "outputs": [],
   "source": [
    "avg_rainfall = (jan_avg_daily_df['Rainfall (mm/d)'].sum())/(len(jan_avg_daily_df['Rainfall (mm/d)']))"
   ]
  },
  {
   "cell_type": "code",
   "execution_count": 175,
   "id": "383b266e",
   "metadata": {},
   "outputs": [],
   "source": [
    "mean_rainfall = statistics.mean(jan_avg_daily_df['Rainfall (mm/d)'])"
   ]
  },
  {
   "cell_type": "code",
   "execution_count": 176,
   "id": "09466bee",
   "metadata": {},
   "outputs": [],
   "source": [
    "std_rainfall = statistics.stdev(jan_avg_daily_df['Rainfall (mm/d)'])"
   ]
  },
  {
   "cell_type": "markdown",
   "id": "f2d3896c",
   "metadata": {},
   "source": [
    "#### 4.4.4.2 Add Variable to List"
   ]
  },
  {
   "cell_type": "code",
   "execution_count": 177,
   "id": "37e0bcc0",
   "metadata": {},
   "outputs": [],
   "source": [
    "jan_1963_2022 = [min_1_day_avg, max_1_day_avg, avg_rainfall, mean_rainfall, std_rainfall]"
   ]
  },
  {
   "cell_type": "markdown",
   "id": "9cd12482",
   "metadata": {},
   "source": [
    "#### 4.4.4.3 Insert 'January Avg (1963 - 2022)' Column"
   ]
  },
  {
   "cell_type": "code",
   "execution_count": 178,
   "id": "25de9296",
   "metadata": {},
   "outputs": [],
   "source": [
    "january_2023_stats_df.insert(1, 'January (1963 - 2022)', jan_1963_2022)"
   ]
  },
  {
   "cell_type": "markdown",
   "id": "3c75dae2",
   "metadata": {},
   "source": [
    "### 4.4.5 Insert 'January 2023' Column"
   ]
  },
  {
   "cell_type": "markdown",
   "id": "79a55747",
   "metadata": {},
   "source": [
    "#### 4.4.5.1 Define Variables"
   ]
  },
  {
   "cell_type": "code",
   "execution_count": 179,
   "id": "427e5522",
   "metadata": {},
   "outputs": [],
   "source": [
    "min_1_day_2023 = jan_2023_daily_df['Rainfall (mm/d)'].min()"
   ]
  },
  {
   "cell_type": "code",
   "execution_count": 180,
   "id": "28861dc1",
   "metadata": {},
   "outputs": [],
   "source": [
    "max_1_day_2023 = jan_2023_daily_df['Rainfall (mm/d)'].max()"
   ]
  },
  {
   "cell_type": "code",
   "execution_count": 181,
   "id": "88769226",
   "metadata": {},
   "outputs": [],
   "source": [
    "avg_2023 = (jan_2023_daily_df['Rainfall (mm/d)'].sum())/(len(jan_2023_daily_df['Rainfall (mm/d)']))"
   ]
  },
  {
   "cell_type": "code",
   "execution_count": 182,
   "id": "1fe8c0b5",
   "metadata": {},
   "outputs": [],
   "source": [
    "mean_2023 = statistics.mean(jan_2023_daily_df['Rainfall (mm/d)'])"
   ]
  },
  {
   "cell_type": "code",
   "execution_count": 183,
   "id": "bd7ca8a2",
   "metadata": {},
   "outputs": [],
   "source": [
    "std_2023 = statistics.stdev(jan_2023_daily_df['Rainfall (mm/d)'])"
   ]
  },
  {
   "cell_type": "markdown",
   "id": "6e562368",
   "metadata": {},
   "source": [
    "#### 4.4.5.2 Add Variable to List"
   ]
  },
  {
   "cell_type": "code",
   "execution_count": 184,
   "id": "ac60e6be",
   "metadata": {},
   "outputs": [],
   "source": [
    "jan_2023 = [min_1_day_2023, max_1_day_2023, avg_2023, mean_2023, std_2023]"
   ]
  },
  {
   "cell_type": "markdown",
   "id": "25fc8e00",
   "metadata": {},
   "source": [
    "#### 4.4.5.3 Insert 'January 2023' Column"
   ]
  },
  {
   "cell_type": "code",
   "execution_count": 185,
   "id": "64eb5539",
   "metadata": {},
   "outputs": [],
   "source": [
    "january_2023_stats_df.insert(2, 'January 2023', jan_2023)"
   ]
  },
  {
   "cell_type": "markdown",
   "id": "dc86f004",
   "metadata": {},
   "source": [
    "### 4.4.6 Display 'january_2023_stats_df' Dataframe"
   ]
  },
  {
   "cell_type": "code",
   "execution_count": 186,
   "id": "b209e872",
   "metadata": {},
   "outputs": [
    {
     "data": {
      "text/html": [
       "<div>\n",
       "<style scoped>\n",
       "    .dataframe tbody tr th:only-of-type {\n",
       "        vertical-align: middle;\n",
       "    }\n",
       "\n",
       "    .dataframe tbody tr th {\n",
       "        vertical-align: top;\n",
       "    }\n",
       "\n",
       "    .dataframe thead th {\n",
       "        text-align: right;\n",
       "    }\n",
       "</style>\n",
       "<table border=\"1\" class=\"dataframe\">\n",
       "  <thead>\n",
       "    <tr style=\"text-align: right;\">\n",
       "      <th></th>\n",
       "      <th>Statistic Description</th>\n",
       "      <th>January (1963 - 2022)</th>\n",
       "      <th>January 2023</th>\n",
       "    </tr>\n",
       "  </thead>\n",
       "  <tbody>\n",
       "    <tr>\n",
       "      <th>0</th>\n",
       "      <td>Min One-Day Rainfall</td>\n",
       "      <td>0.000000</td>\n",
       "      <td>0.000000</td>\n",
       "    </tr>\n",
       "    <tr>\n",
       "      <th>1</th>\n",
       "      <td>Max One-Day Rainfall</td>\n",
       "      <td>75.700000</td>\n",
       "      <td>245.000000</td>\n",
       "    </tr>\n",
       "    <tr>\n",
       "      <th>2</th>\n",
       "      <td>Average One-Day Rainfall</td>\n",
       "      <td>2.122712</td>\n",
       "      <td>12.574194</td>\n",
       "    </tr>\n",
       "    <tr>\n",
       "      <th>3</th>\n",
       "      <td>Mean</td>\n",
       "      <td>2.122712</td>\n",
       "      <td>12.574194</td>\n",
       "    </tr>\n",
       "    <tr>\n",
       "      <th>4</th>\n",
       "      <td>Standard Deviation</td>\n",
       "      <td>6.839043</td>\n",
       "      <td>43.750771</td>\n",
       "    </tr>\n",
       "  </tbody>\n",
       "</table>\n",
       "</div>"
      ],
      "text/plain": [
       "      Statistic Description  January (1963 - 2022)  January 2023\n",
       "0      Min One-Day Rainfall               0.000000      0.000000\n",
       "1      Max One-Day Rainfall              75.700000    245.000000\n",
       "2  Average One-Day Rainfall               2.122712     12.574194\n",
       "3                      Mean               2.122712     12.574194\n",
       "4        Standard Deviation               6.839043     43.750771"
      ]
     },
     "execution_count": 186,
     "metadata": {},
     "output_type": "execute_result"
    }
   ],
   "source": [
    "january_2023_stats_df"
   ]
  },
  {
   "cell_type": "markdown",
   "id": "f598b71a",
   "metadata": {},
   "source": [
    "**************************************************************************************************\n",
    "**************************************************************************************************"
   ]
  },
  {
   "cell_type": "markdown",
   "id": "991036c5",
   "metadata": {},
   "source": [
    "# 5. Excel Modification"
   ]
  },
  {
   "cell_type": "markdown",
   "id": "6aedf2bf",
   "metadata": {},
   "source": [
    "## 5.1 Save all the DataFrames to an Excel Spreadsheet"
   ]
  },
  {
   "cell_type": "markdown",
   "id": "b538217b",
   "metadata": {},
   "source": [
    "### 5.1.1 Create Empty Dataframe"
   ]
  },
  {
   "cell_type": "code",
   "execution_count": 187,
   "id": "321ca4f9",
   "metadata": {},
   "outputs": [],
   "source": [
    "empty_df = pd.DataFrame()"
   ]
  },
  {
   "cell_type": "markdown",
   "id": "616c4d12",
   "metadata": {},
   "source": [
    "### 5.1.2 Define Dataframes"
   ]
  },
  {
   "cell_type": "code",
   "execution_count": 188,
   "id": "46cdb4ea",
   "metadata": {},
   "outputs": [],
   "source": [
    "dataframe1 = rainfall_data_df\n",
    "dataframe2 = monthly_rainfall_df\n",
    "dataframe3 = monthly_stats_df\n",
    "dataframe4 = seasonal_rainfall_df\n",
    "dataframe5 = seasonal_stats_df\n",
    "dataframe9 = gumbel_est_calculations_df\n",
    "dataframe10 = january_2023_stats_df"
   ]
  },
  {
   "cell_type": "markdown",
   "id": "7b23ec37",
   "metadata": {},
   "source": [
    "### 5.1.3 Create Excel Spreadsheet"
   ]
  },
  {
   "cell_type": "code",
   "execution_count": 189,
   "id": "2fbc995b",
   "metadata": {},
   "outputs": [],
   "source": [
    "with pd.ExcelWriter('output_file.xlsx', engine='xlsxwriter') as writer:\n",
    "    dataframe1.to_excel(writer, sheet_name='Auckland Aero Rainfall Data', index=False)\n",
    "    dataframe2.to_excel(writer, sheet_name='Monthly Rainfall', index=False)\n",
    "    dataframe3.to_excel(writer, sheet_name='Monthly Statistics', index=False)\n",
    "    dataframe4.to_excel(writer, sheet_name='Seasonal Rainfall', index=False)\n",
    "    dataframe5.to_excel(writer, sheet_name='Seasonal Statistics', index=False)\n",
    "    dataframe9.to_excel(writer, sheet_name='Gumbel Estimate', index=False)\n",
    "    dataframe10.to_excel(writer, sheet_name='Auckland Jan 2023 Stats', index=False)"
   ]
  },
  {
   "cell_type": "markdown",
   "id": "6206d6c2",
   "metadata": {},
   "source": [
    "### 5.1.4 Set Excel Spreadsheet Zoom to 60%"
   ]
  },
  {
   "cell_type": "code",
   "execution_count": 190,
   "id": "f8197f87",
   "metadata": {},
   "outputs": [],
   "source": [
    "def is_desired_worksheet(ws):\n",
    "    desired_names = ['Auckland Aero Rainfall Data', 'Monthly Rainfall', 'Monthly Statistics',\n",
    "                     'Seasonal Rainfall', 'Seasonal Statistics', 'Gumbel Estimate', \n",
    "                     'Auckland Jan 2023 Stats']\n",
    "    return ws.title in desired_names"
   ]
  },
  {
   "cell_type": "code",
   "execution_count": 191,
   "id": "51780b2f",
   "metadata": {},
   "outputs": [],
   "source": [
    "wb = load_workbook('output_file.xlsx')\n",
    "for ws in wb.worksheets:\n",
    "    if is_desired_worksheet(ws):\n",
    "        ws.sheet_view.zoomScale = 60\n",
    "wb.save('output_file.xlsx')\n",
    "wb.close()"
   ]
  },
  {
   "cell_type": "markdown",
   "id": "8f44c53c",
   "metadata": {},
   "source": [
    "### 5.1.5 Remove Gridlines"
   ]
  },
  {
   "cell_type": "code",
   "execution_count": 192,
   "id": "c6528d8a",
   "metadata": {},
   "outputs": [],
   "source": [
    "wb = load_workbook('output_file.xlsx')\n",
    "\n",
    "for ws in wb.worksheets:\n",
    "    ws.sheet_view.showGridLines = False\n",
    "\n",
    "for ws in wb.worksheets:\n",
    "    ws.sheet_view.showRowColHeaders = False\n",
    "\n",
    "wb.save('output_file.xlsx')\n",
    "wb.close()"
   ]
  },
  {
   "cell_type": "markdown",
   "id": "2bba0ca6",
   "metadata": {},
   "source": [
    "**************************************************************************************************"
   ]
  },
  {
   "cell_type": "markdown",
   "id": "d4fc5106",
   "metadata": {},
   "source": [
    "## 5.2 Export Tables"
   ]
  },
  {
   "cell_type": "markdown",
   "id": "d722f4b9",
   "metadata": {},
   "source": [
    "###### gumbel_variables_df"
   ]
  },
  {
   "cell_type": "code",
   "execution_count": 193,
   "id": "3872d2c3",
   "metadata": {},
   "outputs": [],
   "source": [
    "table10_1 = gumbel_variables_df\n",
    "dfi.export(table10_1,\"gumbel_variables.png\")"
   ]
  },
  {
   "cell_type": "markdown",
   "id": "c9a1bd64",
   "metadata": {},
   "source": [
    "###### gumbel_est_df"
   ]
  },
  {
   "cell_type": "code",
   "execution_count": 194,
   "id": "01d4f535",
   "metadata": {},
   "outputs": [],
   "source": [
    "table10_2 = gumbel_est_df\n",
    "dfi.export(table10_2,\"gumbel_est.png\")"
   ]
  },
  {
   "cell_type": "code",
   "execution_count": 195,
   "id": "b7933911",
   "metadata": {},
   "outputs": [],
   "source": [
    "time.sleep(2)"
   ]
  },
  {
   "cell_type": "markdown",
   "id": "13498eac",
   "metadata": {},
   "source": [
    "**************************************************************************************************"
   ]
  },
  {
   "cell_type": "markdown",
   "id": "f4cfd648",
   "metadata": {},
   "source": [
    "## 5.3 Modify Excel Spreadsheet"
   ]
  },
  {
   "cell_type": "markdown",
   "id": "cfc6c400",
   "metadata": {},
   "source": [
    "### 5.3.1 Change Data Types"
   ]
  },
  {
   "cell_type": "code",
   "execution_count": 196,
   "id": "e65753d4",
   "metadata": {},
   "outputs": [],
   "source": [
    "wb = load_workbook('output_file.xlsx')\n",
    "ws = wb['Auckland Aero Rainfall Data']\n",
    "\n",
    "date_change = []\n",
    "for i in range(len(rainfall_data_df)+2):\n",
    "    if i != 0:\n",
    "        date_change.append('B' + str(i))\n",
    "        \n",
    "for i in range(len(date_change)):\n",
    "        ws[(date_change[i])].number_format = 'YYYY-MM-DD'\n",
    "\n",
    "wb.save('output_file.xlsx')\n",
    "wb.close()"
   ]
  },
  {
   "cell_type": "markdown",
   "id": "2a2c41dd",
   "metadata": {},
   "source": [
    "### 5.3.2 Change Row width to Fit Contents"
   ]
  },
  {
   "cell_type": "code",
   "execution_count": 197,
   "id": "daad681a",
   "metadata": {},
   "outputs": [],
   "source": [
    "wb = load_workbook('output_file.xlsx')\n",
    "ws = wb['Auckland Aero Rainfall Data']\n",
    "ws.column_dimensions['A'].width = 17\n",
    "ws.column_dimensions['B'].width = 11.5\n",
    "ws.column_dimensions['C'].width = 18.5\n",
    "wb.save('output_file.xlsx')\n",
    "wb.close()"
   ]
  },
  {
   "cell_type": "code",
   "execution_count": 198,
   "id": "fa66f2b2",
   "metadata": {},
   "outputs": [],
   "source": [
    "wb = load_workbook('output_file.xlsx')\n",
    "ws = wb['Monthly Rainfall']\n",
    "ws.column_dimensions['A'].width = 10\n",
    "ws.column_dimensions['B'].width = 12\n",
    "ws.column_dimensions['C'].width = 12\n",
    "ws.column_dimensions['D'].width = 12\n",
    "ws.column_dimensions['E'].width = 12\n",
    "ws.column_dimensions['F'].width = 12\n",
    "ws.column_dimensions['G'].width = 12\n",
    "ws.column_dimensions['H'].width = 12\n",
    "ws.column_dimensions['I'].width = 12\n",
    "ws.column_dimensions['J'].width = 12\n",
    "ws.column_dimensions['K'].width = 12\n",
    "ws.column_dimensions['L'].width = 12\n",
    "ws.column_dimensions['M'].width = 12\n",
    "ws.column_dimensions['N'].width = 18\n",
    "wb.save('output_file.xlsx')\n",
    "wb.close()"
   ]
  },
  {
   "cell_type": "code",
   "execution_count": 199,
   "id": "df54d5c2",
   "metadata": {},
   "outputs": [],
   "source": [
    "wb = load_workbook('output_file.xlsx')\n",
    "ws = wb['Monthly Statistics']\n",
    "ws.column_dimensions['A'].width = 12\n",
    "ws.column_dimensions['B'].width = 27\n",
    "ws.column_dimensions['C'].width = 27\n",
    "ws.column_dimensions['D'].width = 12\n",
    "ws.column_dimensions['E'].width = 24\n",
    "ws.column_dimensions['F'].width = 12\n",
    "wb.save('output_file.xlsx')\n",
    "wb.close()"
   ]
  },
  {
   "cell_type": "code",
   "execution_count": 200,
   "id": "3cdeb536",
   "metadata": {},
   "outputs": [],
   "source": [
    "wb = load_workbook('output_file.xlsx')\n",
    "ws = wb['Seasonal Rainfall']\n",
    "ws.column_dimensions['A'].width = 10\n",
    "ws.column_dimensions['B'].width = 27\n",
    "ws.column_dimensions['C'].width = 27\n",
    "ws.column_dimensions['D'].width = 27\n",
    "ws.column_dimensions['E'].width = 27\n",
    "wb.save('output_file.xlsx')\n",
    "wb.close()"
   ]
  },
  {
   "cell_type": "code",
   "execution_count": 201,
   "id": "6d86c8ac",
   "metadata": {},
   "outputs": [],
   "source": [
    "wb = load_workbook('output_file.xlsx')\n",
    "ws = wb['Seasonal Statistics']\n",
    "ws.column_dimensions['A'].width = 27\n",
    "ws.column_dimensions['B'].width = 27\n",
    "ws.column_dimensions['C'].width = 27\n",
    "ws.column_dimensions['D'].width = 15\n",
    "ws.column_dimensions['E'].width = 27\n",
    "ws.column_dimensions['F'].width = 15\n",
    "wb.save('output_file.xlsx')\n",
    "wb.close()"
   ]
  },
  {
   "cell_type": "code",
   "execution_count": 202,
   "id": "e8ee7527",
   "metadata": {},
   "outputs": [],
   "source": [
    "wb = load_workbook('output_file.xlsx')\n",
    "ws = wb['Gumbel Estimate']\n",
    "ws.column_dimensions['A'].width = 10\n",
    "ws.column_dimensions['B'].width = 30\n",
    "ws.column_dimensions['C'].width = 30\n",
    "ws.column_dimensions['D'].width = 20\n",
    "ws.column_dimensions['E'].width = 30\n",
    "ws.column_dimensions['F'].width = 30\n",
    "ws.column_dimensions['G'].width = 39\n",
    "ws.column_dimensions['H'].width = 30\n",
    "ws.column_dimensions['I'].width = 30\n",
    "wb.save('output_file.xlsx')\n",
    "wb.close()"
   ]
  },
  {
   "cell_type": "code",
   "execution_count": 203,
   "id": "76c8c37c",
   "metadata": {},
   "outputs": [],
   "source": [
    "wb = load_workbook('output_file.xlsx')\n",
    "ws = wb['Auckland Jan 2023 Stats']\n",
    "ws.column_dimensions['A'].width = 27\n",
    "ws.column_dimensions['B'].width = 27\n",
    "ws.column_dimensions['C'].width = 27\n",
    "wb.save('output_file.xlsx')\n",
    "wb.close()"
   ]
  },
  {
   "cell_type": "markdown",
   "id": "8df80e21",
   "metadata": {},
   "source": [
    "### 5.3.3 Change Top Row Colour to Dark Orange (#E76400)"
   ]
  },
  {
   "cell_type": "code",
   "execution_count": 204,
   "id": "1e6578ca",
   "metadata": {},
   "outputs": [],
   "source": [
    "wb = load_workbook('output_file.xlsx')\n",
    "ws = wb['Auckland Aero Rainfall Data']\n",
    "ws['A1'].fill = PatternFill(start_color = 'E76400', end_color = 'E76400', fill_type = 'solid')\n",
    "ws['B1'].fill = PatternFill(start_color = 'E76400', end_color = 'E76400', fill_type = 'solid')\n",
    "ws['C1'].fill = PatternFill(start_color = 'E76400', end_color = 'E76400', fill_type = 'solid')\n",
    "wb.save('output_file.xlsx')\n",
    "wb.close()"
   ]
  },
  {
   "cell_type": "code",
   "execution_count": 205,
   "id": "ed9530b4",
   "metadata": {},
   "outputs": [],
   "source": [
    "wb = load_workbook('output_file.xlsx')\n",
    "ws = wb['Monthly Rainfall']\n",
    "ws['A1'].fill = PatternFill(start_color = 'E76400', end_color = 'E76400', fill_type = 'solid')\n",
    "ws['B1'].fill = PatternFill(start_color = 'E76400', end_color = 'E76400', fill_type = 'solid')\n",
    "ws['C1'].fill = PatternFill(start_color = 'E76400', end_color = 'E76400', fill_type = 'solid')\n",
    "ws['D1'].fill = PatternFill(start_color = 'E76400', end_color = 'E76400', fill_type = 'solid')\n",
    "ws['E1'].fill = PatternFill(start_color = 'E76400', end_color = 'E76400', fill_type = 'solid')\n",
    "ws['F1'].fill = PatternFill(start_color = 'E76400', end_color = 'E76400', fill_type = 'solid')\n",
    "ws['G1'].fill = PatternFill(start_color = 'E76400', end_color = 'E76400', fill_type = 'solid')\n",
    "ws['H1'].fill = PatternFill(start_color = 'E76400', end_color = 'E76400', fill_type = 'solid')\n",
    "ws['I1'].fill = PatternFill(start_color = 'E76400', end_color = 'E76400', fill_type = 'solid')\n",
    "ws['J1'].fill = PatternFill(start_color = 'E76400', end_color = 'E76400', fill_type = 'solid')\n",
    "ws['K1'].fill = PatternFill(start_color = 'E76400', end_color = 'E76400', fill_type = 'solid')\n",
    "ws['L1'].fill = PatternFill(start_color = 'E76400', end_color = 'E76400', fill_type = 'solid')\n",
    "ws['M1'].fill = PatternFill(start_color = 'E76400', end_color = 'E76400', fill_type = 'solid')\n",
    "ws['N1'].fill = PatternFill(start_color = 'E76400', end_color = 'E76400', fill_type = 'solid')\n",
    "wb.save('output_file.xlsx')\n",
    "wb.close()"
   ]
  },
  {
   "cell_type": "code",
   "execution_count": 206,
   "id": "d87ef0ab",
   "metadata": {},
   "outputs": [],
   "source": [
    "wb = load_workbook('output_file.xlsx')\n",
    "ws = wb['Monthly Statistics']\n",
    "ws['A1'].fill = PatternFill(start_color = 'E76400', end_color = 'E76400', fill_type = 'solid')\n",
    "ws['B1'].fill = PatternFill(start_color = 'E76400', end_color = 'E76400', fill_type = 'solid')\n",
    "ws['C1'].fill = PatternFill(start_color = 'E76400', end_color = 'E76400', fill_type = 'solid')\n",
    "ws['D1'].fill = PatternFill(start_color = 'E76400', end_color = 'E76400', fill_type = 'solid')\n",
    "ws['E1'].fill = PatternFill(start_color = 'E76400', end_color = 'E76400', fill_type = 'solid')\n",
    "ws['F1'].fill = PatternFill(start_color = 'E76400', end_color = 'E76400', fill_type = 'solid')\n",
    "wb.save('output_file.xlsx')\n",
    "wb.close()"
   ]
  },
  {
   "cell_type": "code",
   "execution_count": 207,
   "id": "65baa7cc",
   "metadata": {},
   "outputs": [],
   "source": [
    "wb = load_workbook('output_file.xlsx')\n",
    "ws = wb['Seasonal Rainfall']\n",
    "ws['A1'].fill = PatternFill(start_color = 'E76400', end_color = 'E76400', fill_type = 'solid')\n",
    "ws['B1'].fill = PatternFill(start_color = 'E76400', end_color = 'E76400', fill_type = 'solid')\n",
    "ws['C1'].fill = PatternFill(start_color = 'E76400', end_color = 'E76400', fill_type = 'solid')\n",
    "ws['D1'].fill = PatternFill(start_color = 'E76400', end_color = 'E76400', fill_type = 'solid')\n",
    "ws['E1'].fill = PatternFill(start_color = 'E76400', end_color = 'E76400', fill_type = 'solid')\n",
    "wb.save('output_file.xlsx')\n",
    "wb.close()"
   ]
  },
  {
   "cell_type": "code",
   "execution_count": 208,
   "id": "1d815e92",
   "metadata": {},
   "outputs": [],
   "source": [
    "wb = load_workbook('output_file.xlsx')\n",
    "ws = wb['Seasonal Statistics']\n",
    "ws['A1'].fill = PatternFill(start_color = 'E76400', end_color = 'E76400', fill_type = 'solid')\n",
    "ws['B1'].fill = PatternFill(start_color = 'E76400', end_color = 'E76400', fill_type = 'solid')\n",
    "ws['C1'].fill = PatternFill(start_color = 'E76400', end_color = 'E76400', fill_type = 'solid')\n",
    "ws['D1'].fill = PatternFill(start_color = 'E76400', end_color = 'E76400', fill_type = 'solid')\n",
    "ws['E1'].fill = PatternFill(start_color = 'E76400', end_color = 'E76400', fill_type = 'solid')\n",
    "ws['F1'].fill = PatternFill(start_color = 'E76400', end_color = 'E76400', fill_type = 'solid')\n",
    "wb.save('output_file.xlsx')\n",
    "wb.close()"
   ]
  },
  {
   "cell_type": "code",
   "execution_count": 209,
   "id": "9fbbb534",
   "metadata": {},
   "outputs": [],
   "source": [
    "wb = load_workbook('output_file.xlsx')\n",
    "ws = wb['Gumbel Estimate']\n",
    "ws['A1'].fill = PatternFill(start_color = 'E76400', end_color = 'E76400', fill_type = 'solid')\n",
    "ws['B1'].fill = PatternFill(start_color = 'E76400', end_color = 'E76400', fill_type = 'solid')\n",
    "ws['C1'].fill = PatternFill(start_color = 'E76400', end_color = 'E76400', fill_type = 'solid')\n",
    "ws['D1'].fill = PatternFill(start_color = 'E76400', end_color = 'E76400', fill_type = 'solid')\n",
    "ws['E1'].fill = PatternFill(start_color = 'E76400', end_color = 'E76400', fill_type = 'solid')\n",
    "ws['F1'].fill = PatternFill(start_color = 'E76400', end_color = 'E76400', fill_type = 'solid')\n",
    "ws['G1'].fill = PatternFill(start_color = 'E76400', end_color = 'E76400', fill_type = 'solid')\n",
    "ws['H1'].fill = PatternFill(start_color = 'E76400', end_color = 'E76400', fill_type = 'solid')\n",
    "ws['I1'].fill = PatternFill(start_color = 'E76400', end_color = 'E76400', fill_type = 'solid')\n",
    "wb.save('output_file.xlsx')\n",
    "wb.close()"
   ]
  },
  {
   "cell_type": "code",
   "execution_count": 210,
   "id": "d78b19fc",
   "metadata": {},
   "outputs": [],
   "source": [
    "wb = load_workbook('output_file.xlsx')\n",
    "ws = wb['Auckland Jan 2023 Stats']\n",
    "ws['A1'].fill = PatternFill(start_color = 'E76400', end_color = 'E76400', fill_type = 'solid')\n",
    "ws['B1'].fill = PatternFill(start_color = 'E76400', end_color = 'E76400', fill_type = 'solid')\n",
    "ws['C1'].fill = PatternFill(start_color = 'E76400', end_color = 'E76400', fill_type = 'solid')\n",
    "wb.save('output_file.xlsx')\n",
    "wb.close()"
   ]
  },
  {
   "cell_type": "markdown",
   "id": "1a3f8f14",
   "metadata": {},
   "source": [
    "### 5.3.3 Change every second Row Colour to Light Orange (#FCCA88)"
   ]
  },
  {
   "cell_type": "markdown",
   "id": "7282fd2e",
   "metadata": {},
   "source": [
    "###### Auckland Aero Rainfall Data"
   ]
  },
  {
   "cell_type": "code",
   "execution_count": 211,
   "id": "fe428332",
   "metadata": {},
   "outputs": [],
   "source": [
    "colourA = []\n",
    "for i in range(len(rainfall_data_df)+2):\n",
    "    if i % 2 == 0:\n",
    "        if i != 0:\n",
    "            colourA.append('A' + str(i))\n",
    "            \n",
    "wb = load_workbook('output_file.xlsx')\n",
    "ws = wb['Auckland Aero Rainfall Data']\n",
    "for i in range(len(colourA)):\n",
    "    ws[(colourA[i])].fill = PatternFill(start_color = 'FCCA88', end_color = 'FCCA88', fill_type = 'solid')\n",
    "wb.save('output_file.xlsx')\n",
    "wb.close()"
   ]
  },
  {
   "cell_type": "code",
   "execution_count": 212,
   "id": "052a0b8c",
   "metadata": {},
   "outputs": [],
   "source": [
    "colourB = []\n",
    "for i in range(len(rainfall_data_df)+2):\n",
    "    if i % 2 == 0:\n",
    "        if i != 0:\n",
    "            colourB.append('B' + str(i))\n",
    "            \n",
    "wb = load_workbook('output_file.xlsx')\n",
    "ws = wb['Auckland Aero Rainfall Data']\n",
    "for i in range(len(colourB)):\n",
    "    ws[(colourB[i])].fill = PatternFill(start_color = 'FCCA88', end_color = 'FCCA88', fill_type = 'solid')\n",
    "wb.save('output_file.xlsx')\n",
    "wb.close()"
   ]
  },
  {
   "cell_type": "code",
   "execution_count": 213,
   "id": "6facfdbe",
   "metadata": {},
   "outputs": [],
   "source": [
    "colourC = []\n",
    "for i in range(len(rainfall_data_df)+2):\n",
    "    if i % 2 == 0:\n",
    "        if i != 0:\n",
    "            colourC.append('C' + str(i))\n",
    "            \n",
    "wb = load_workbook('output_file.xlsx')\n",
    "ws = wb['Auckland Aero Rainfall Data']\n",
    "for i in range(len(colourC)):\n",
    "    ws[(colourC[i])].fill = PatternFill(start_color = 'FCCA88', end_color = 'FCCA88', fill_type = 'solid')\n",
    "wb.save('output_file.xlsx')\n",
    "wb.close()"
   ]
  },
  {
   "cell_type": "markdown",
   "id": "de820201",
   "metadata": {},
   "source": [
    "###### Monthly Rainfall"
   ]
  },
  {
   "cell_type": "code",
   "execution_count": 214,
   "id": "a45ff286",
   "metadata": {},
   "outputs": [],
   "source": [
    "colourD = []\n",
    "for i in range(len(monthly_rainfall_df)+2):\n",
    "    if i % 2 == 0:\n",
    "        if i != 0:\n",
    "            colourD.append('A' + str(i))\n",
    "            \n",
    "wb = load_workbook('output_file.xlsx')\n",
    "ws = wb['Monthly Rainfall']\n",
    "for i in range(len(colourD)):\n",
    "    ws[(colourD[i])].fill = PatternFill(start_color = 'FCCA88', end_color = 'FCCA88', fill_type = 'solid')\n",
    "wb.save('output_file.xlsx')\n",
    "wb.close()"
   ]
  },
  {
   "cell_type": "code",
   "execution_count": 215,
   "id": "c8cc465f",
   "metadata": {},
   "outputs": [],
   "source": [
    "colourE = []\n",
    "for i in range(len(monthly_rainfall_df)+2):\n",
    "    if i % 2 == 0:\n",
    "        if i != 0:\n",
    "            colourE.append('B' + str(i))\n",
    "            \n",
    "wb = load_workbook('output_file.xlsx')\n",
    "ws = wb['Monthly Rainfall']\n",
    "for i in range(len(colourE)):\n",
    "    ws[(colourE[i])].fill = PatternFill(start_color = 'FCCA88', end_color = 'FCCA88', fill_type = 'solid')\n",
    "wb.save('output_file.xlsx')\n",
    "wb.close()"
   ]
  },
  {
   "cell_type": "code",
   "execution_count": 216,
   "id": "4cdd0c0e",
   "metadata": {},
   "outputs": [],
   "source": [
    "colourF = []\n",
    "for i in range(len(monthly_rainfall_df)+2):\n",
    "    if i % 2 == 0:\n",
    "        if i != 0:\n",
    "            colourF.append('C' + str(i))\n",
    "            \n",
    "wb = load_workbook('output_file.xlsx')\n",
    "ws = wb['Monthly Rainfall']\n",
    "for i in range(len(colourF)):\n",
    "    ws[(colourF[i])].fill = PatternFill(start_color = 'FCCA88', end_color = 'FCCA88', fill_type = 'solid')\n",
    "wb.save('output_file.xlsx')\n",
    "wb.close()"
   ]
  },
  {
   "cell_type": "code",
   "execution_count": 217,
   "id": "07808517",
   "metadata": {},
   "outputs": [],
   "source": [
    "colourG = []\n",
    "for i in range(len(monthly_rainfall_df)+2):\n",
    "    if i % 2 == 0:\n",
    "        if i != 0:\n",
    "            colourG.append('D' + str(i))\n",
    "            \n",
    "wb = load_workbook('output_file.xlsx')\n",
    "ws = wb['Monthly Rainfall']\n",
    "for i in range(len(colourG)):\n",
    "    ws[(colourG[i])].fill = PatternFill(start_color = 'FCCA88', end_color = 'FCCA88', fill_type = 'solid')\n",
    "wb.save('output_file.xlsx')\n",
    "wb.close()"
   ]
  },
  {
   "cell_type": "code",
   "execution_count": 218,
   "id": "a99ed921",
   "metadata": {},
   "outputs": [],
   "source": [
    "colourH = []\n",
    "for i in range(len(monthly_rainfall_df)+2):\n",
    "    if i % 2 == 0:\n",
    "        if i != 0:\n",
    "            colourH.append('E' + str(i))\n",
    "            \n",
    "wb = load_workbook('output_file.xlsx')\n",
    "ws = wb['Monthly Rainfall']\n",
    "for i in range(len(colourH)):\n",
    "    ws[(colourH[i])].fill = PatternFill(start_color = 'FCCA88', end_color = 'FCCA88', fill_type = 'solid')\n",
    "wb.save('output_file.xlsx')\n",
    "wb.close()"
   ]
  },
  {
   "cell_type": "code",
   "execution_count": 219,
   "id": "72908e98",
   "metadata": {},
   "outputs": [],
   "source": [
    "colourI = []\n",
    "for i in range(len(monthly_rainfall_df)+2):\n",
    "    if i % 2 == 0:\n",
    "        if i != 0:\n",
    "            colourI.append('F' + str(i))\n",
    "            \n",
    "wb = load_workbook('output_file.xlsx')\n",
    "ws = wb['Monthly Rainfall']\n",
    "for i in range(len(colourI)):\n",
    "    ws[(colourI[i])].fill = PatternFill(start_color = 'FCCA88', end_color = 'FCCA88', fill_type = 'solid')\n",
    "wb.save('output_file.xlsx')\n",
    "wb.close()"
   ]
  },
  {
   "cell_type": "code",
   "execution_count": 220,
   "id": "c71e0abd",
   "metadata": {},
   "outputs": [],
   "source": [
    "colourJ = []\n",
    "for i in range(len(monthly_rainfall_df)+2):\n",
    "    if i % 2 == 0:\n",
    "        if i != 0:\n",
    "            colourJ.append('G' + str(i))\n",
    "            \n",
    "wb = load_workbook('output_file.xlsx')\n",
    "ws = wb['Monthly Rainfall']\n",
    "for i in range(len(colourJ)):\n",
    "    ws[(colourJ[i])].fill = PatternFill(start_color = 'FCCA88', end_color = 'FCCA88', fill_type = 'solid')\n",
    "wb.save('output_file.xlsx')\n",
    "wb.close()"
   ]
  },
  {
   "cell_type": "code",
   "execution_count": 221,
   "id": "cb89b94d",
   "metadata": {},
   "outputs": [],
   "source": [
    "colourK = []\n",
    "for i in range(len(monthly_rainfall_df)+2):\n",
    "    if i % 2 == 0:\n",
    "        if i != 0:\n",
    "            colourK.append('H' + str(i))\n",
    "            \n",
    "wb = load_workbook('output_file.xlsx')\n",
    "ws = wb['Monthly Rainfall']\n",
    "for i in range(len(colourK)):\n",
    "    ws[(colourK[i])].fill = PatternFill(start_color = 'FCCA88', end_color = 'FCCA88', fill_type = 'solid')\n",
    "wb.save('output_file.xlsx')\n",
    "wb.close()"
   ]
  },
  {
   "cell_type": "code",
   "execution_count": 222,
   "id": "81692194",
   "metadata": {},
   "outputs": [],
   "source": [
    "colourL = []\n",
    "for i in range(len(monthly_rainfall_df)+2):\n",
    "    if i % 2 == 0:\n",
    "        if i != 0:\n",
    "            colourL.append('I' + str(i))\n",
    "            \n",
    "wb = load_workbook('output_file.xlsx')\n",
    "ws = wb['Monthly Rainfall']\n",
    "for i in range(len(colourL)):\n",
    "    ws[(colourL[i])].fill = PatternFill(start_color = 'FCCA88', end_color = 'FCCA88', fill_type = 'solid')\n",
    "wb.save('output_file.xlsx')\n",
    "wb.close()"
   ]
  },
  {
   "cell_type": "code",
   "execution_count": 223,
   "id": "49970648",
   "metadata": {},
   "outputs": [],
   "source": [
    "colourM = []\n",
    "for i in range(len(monthly_rainfall_df)+2):\n",
    "    if i % 2 == 0:\n",
    "        if i != 0:\n",
    "            colourM.append('J' + str(i))\n",
    "            \n",
    "wb = load_workbook('output_file.xlsx')\n",
    "ws = wb['Monthly Rainfall']\n",
    "for i in range(len(colourM)):\n",
    "    ws[(colourM[i])].fill = PatternFill(start_color = 'FCCA88', end_color = 'FCCA88', fill_type = 'solid')\n",
    "wb.save('output_file.xlsx')\n",
    "wb.close()"
   ]
  },
  {
   "cell_type": "code",
   "execution_count": 224,
   "id": "b4731fb7",
   "metadata": {},
   "outputs": [],
   "source": [
    "colourN = []\n",
    "for i in range(len(monthly_rainfall_df)+2):\n",
    "    if i % 2 == 0:\n",
    "        if i != 0:\n",
    "            colourN.append('K' + str(i))\n",
    "            \n",
    "wb = load_workbook('output_file.xlsx')\n",
    "ws = wb['Monthly Rainfall']\n",
    "for i in range(len(colourN)):\n",
    "    ws[(colourN[i])].fill = PatternFill(start_color = 'FCCA88', end_color = 'FCCA88', fill_type = 'solid')\n",
    "wb.save('output_file.xlsx')\n",
    "wb.close()"
   ]
  },
  {
   "cell_type": "code",
   "execution_count": 225,
   "id": "bdad2599",
   "metadata": {},
   "outputs": [],
   "source": [
    "colourO = []\n",
    "for i in range(len(monthly_rainfall_df)+2):\n",
    "    if i % 2 == 0:\n",
    "        if i != 0:\n",
    "            colourO.append('L' + str(i))\n",
    "            \n",
    "wb = load_workbook('output_file.xlsx')\n",
    "ws = wb['Monthly Rainfall']\n",
    "for i in range(len(colourO)):\n",
    "    ws[(colourO[i])].fill = PatternFill(start_color = 'FCCA88', end_color = 'FCCA88', fill_type = 'solid')\n",
    "wb.save('output_file.xlsx')\n",
    "wb.close()"
   ]
  },
  {
   "cell_type": "code",
   "execution_count": 226,
   "id": "17cf2eae",
   "metadata": {},
   "outputs": [],
   "source": [
    "colourP = []\n",
    "for i in range(len(monthly_rainfall_df)+2):\n",
    "    if i % 2 == 0:\n",
    "        if i != 0:\n",
    "            colourP.append('M' + str(i))\n",
    "            \n",
    "wb = load_workbook('output_file.xlsx')\n",
    "ws = wb['Monthly Rainfall']\n",
    "for i in range(len(colourP)):\n",
    "    ws[(colourP[i])].fill = PatternFill(start_color = 'FCCA88', end_color = 'FCCA88', fill_type = 'solid')\n",
    "wb.save('output_file.xlsx')\n",
    "wb.close()"
   ]
  },
  {
   "cell_type": "code",
   "execution_count": 227,
   "id": "63a8f8ac",
   "metadata": {},
   "outputs": [],
   "source": [
    "colourQ = []\n",
    "for i in range(len(monthly_rainfall_df)+2):\n",
    "    if i % 2 == 0:\n",
    "        if i != 0:\n",
    "            colourQ.append('N' + str(i))\n",
    "            \n",
    "wb = load_workbook('output_file.xlsx')\n",
    "ws = wb['Monthly Rainfall']\n",
    "for i in range(len(colourQ)):\n",
    "    ws[(colourQ[i])].fill = PatternFill(start_color = 'FCCA88', end_color = 'FCCA88', fill_type = 'solid')\n",
    "wb.save('output_file.xlsx')\n",
    "wb.close()"
   ]
  },
  {
   "cell_type": "markdown",
   "id": "a7120063",
   "metadata": {},
   "source": [
    "###### Monthly Statistics"
   ]
  },
  {
   "cell_type": "code",
   "execution_count": 228,
   "id": "99711f7d",
   "metadata": {},
   "outputs": [],
   "source": [
    "colourR = []\n",
    "for i in range(len(monthly_stats_df)+2):\n",
    "    if i % 2 == 0:\n",
    "        if i != 0:\n",
    "            colourR.append('A' + str(i))\n",
    "            \n",
    "wb = load_workbook('output_file.xlsx')\n",
    "ws = wb['Monthly Statistics']\n",
    "for i in range(len(colourR)):\n",
    "    ws[(colourR[i])].fill = PatternFill(start_color = 'FCCA88', end_color = 'FCCA88', fill_type = 'solid')\n",
    "wb.save('output_file.xlsx')\n",
    "wb.close()"
   ]
  },
  {
   "cell_type": "code",
   "execution_count": 229,
   "id": "cd025517",
   "metadata": {},
   "outputs": [],
   "source": [
    "colourS = []\n",
    "for i in range(len(monthly_stats_df)+2):\n",
    "    if i % 2 == 0:\n",
    "        if i != 0:\n",
    "            colourS.append('B' + str(i))\n",
    "            \n",
    "wb = load_workbook('output_file.xlsx')\n",
    "ws = wb['Monthly Statistics']\n",
    "for i in range(len(colourS)):\n",
    "    ws[(colourS[i])].fill = PatternFill(start_color = 'FCCA88', end_color = 'FCCA88', fill_type = 'solid')\n",
    "wb.save('output_file.xlsx')\n",
    "wb.close()"
   ]
  },
  {
   "cell_type": "code",
   "execution_count": 230,
   "id": "4c8d4a97",
   "metadata": {},
   "outputs": [],
   "source": [
    "colourT = []\n",
    "for i in range(len(monthly_stats_df)+2):\n",
    "    if i % 2 == 0:\n",
    "        if i != 0:\n",
    "            colourT.append('C' + str(i))\n",
    "            \n",
    "wb = load_workbook('output_file.xlsx')\n",
    "ws = wb['Monthly Statistics']\n",
    "for i in range(len(colourT)):\n",
    "    ws[(colourT[i])].fill = PatternFill(start_color = 'FCCA88', end_color = 'FCCA88', fill_type = 'solid')\n",
    "wb.save('output_file.xlsx')\n",
    "wb.close()"
   ]
  },
  {
   "cell_type": "code",
   "execution_count": 231,
   "id": "b85d2822",
   "metadata": {},
   "outputs": [],
   "source": [
    "colourU = []\n",
    "for i in range(len(monthly_stats_df)+2):\n",
    "    if i % 2 == 0:\n",
    "        if i != 0:\n",
    "            colourU.append('D' + str(i))\n",
    "            \n",
    "wb = load_workbook('output_file.xlsx')\n",
    "ws = wb['Monthly Statistics']\n",
    "for i in range(len(colourU)):\n",
    "    ws[(colourU[i])].fill = PatternFill(start_color = 'FCCA88', end_color = 'FCCA88', fill_type = 'solid')\n",
    "wb.save('output_file.xlsx')\n",
    "wb.close()"
   ]
  },
  {
   "cell_type": "code",
   "execution_count": 232,
   "id": "1551844c",
   "metadata": {},
   "outputs": [],
   "source": [
    "colourV = []\n",
    "for i in range(len(monthly_stats_df)+2):\n",
    "    if i % 2 == 0:\n",
    "        if i != 0:\n",
    "            colourV.append('E' + str(i))\n",
    "            \n",
    "wb = load_workbook('output_file.xlsx')\n",
    "ws = wb['Monthly Statistics']\n",
    "for i in range(len(colourV)):\n",
    "    ws[(colourV[i])].fill = PatternFill(start_color = 'FCCA88', end_color = 'FCCA88', fill_type = 'solid')\n",
    "wb.save('output_file.xlsx')\n",
    "wb.close()"
   ]
  },
  {
   "cell_type": "code",
   "execution_count": 233,
   "id": "1b600819",
   "metadata": {},
   "outputs": [],
   "source": [
    "colourW = []\n",
    "for i in range(len(monthly_stats_df)+2):\n",
    "    if i % 2 == 0:\n",
    "        if i != 0:\n",
    "            colourW.append('F' + str(i))\n",
    "            \n",
    "wb = load_workbook('output_file.xlsx')\n",
    "ws = wb['Monthly Statistics']\n",
    "for i in range(len(colourW)):\n",
    "    ws[(colourW[i])].fill = PatternFill(start_color = 'FCCA88', end_color = 'FCCA88', fill_type = 'solid')\n",
    "wb.save('output_file.xlsx')\n",
    "wb.close()"
   ]
  },
  {
   "cell_type": "markdown",
   "id": "b66b6a42",
   "metadata": {},
   "source": [
    "###### Seasonal Rainfall"
   ]
  },
  {
   "cell_type": "code",
   "execution_count": 234,
   "id": "e04bc17b",
   "metadata": {},
   "outputs": [],
   "source": [
    "colourY = []\n",
    "for i in range(len(seasonal_rainfall_df)+2):\n",
    "    if i % 2 == 0:\n",
    "        if i != 0:\n",
    "            colourY.append('A' + str(i))\n",
    "            \n",
    "wb = load_workbook('output_file.xlsx')\n",
    "ws = wb['Seasonal Rainfall']\n",
    "for i in range(len(colourY)):\n",
    "    ws[(colourY[i])].fill = PatternFill(start_color = 'FCCA88', end_color = 'FCCA88', fill_type = 'solid')\n",
    "wb.save('output_file.xlsx')\n",
    "wb.close()"
   ]
  },
  {
   "cell_type": "code",
   "execution_count": 235,
   "id": "dc0265be",
   "metadata": {},
   "outputs": [],
   "source": [
    "colourZ = []\n",
    "for i in range(len(seasonal_rainfall_df)+2):\n",
    "    if i % 2 == 0:\n",
    "        if i != 0:\n",
    "            colourZ.append('B' + str(i))\n",
    "            \n",
    "wb = load_workbook('output_file.xlsx')\n",
    "ws = wb['Seasonal Rainfall']\n",
    "for i in range(len(colourZ)):\n",
    "    ws[(colourZ[i])].fill = PatternFill(start_color = 'FCCA88', end_color = 'FCCA88', fill_type = 'solid')\n",
    "wb.save('output_file.xlsx')\n",
    "wb.close()"
   ]
  },
  {
   "cell_type": "code",
   "execution_count": 236,
   "id": "23611403",
   "metadata": {},
   "outputs": [],
   "source": [
    "colourAA = []\n",
    "for i in range(len(seasonal_rainfall_df)+2):\n",
    "    if i % 2 == 0:\n",
    "        if i != 0:\n",
    "            colourAA.append('C' + str(i))\n",
    "            \n",
    "wb = load_workbook('output_file.xlsx')\n",
    "ws = wb['Seasonal Rainfall']\n",
    "for i in range(len(colourAA)):\n",
    "    ws[(colourAA[i])].fill = PatternFill(start_color = 'FCCA88', end_color = 'FCCA88', fill_type = 'solid')\n",
    "wb.save('output_file.xlsx')\n",
    "wb.close()"
   ]
  },
  {
   "cell_type": "code",
   "execution_count": 237,
   "id": "346b89bf",
   "metadata": {},
   "outputs": [],
   "source": [
    "colourAB = []\n",
    "for i in range(len(seasonal_rainfall_df)+2):\n",
    "    if i % 2 == 0:\n",
    "        if i != 0:\n",
    "            colourAB.append('D' + str(i))\n",
    "            \n",
    "wb = load_workbook('output_file.xlsx')\n",
    "ws = wb['Seasonal Rainfall']\n",
    "for i in range(len(colourAB)):\n",
    "    ws[(colourAB[i])].fill = PatternFill(start_color = 'FCCA88', end_color = 'FCCA88', fill_type = 'solid')\n",
    "wb.save('output_file.xlsx')\n",
    "wb.close()"
   ]
  },
  {
   "cell_type": "code",
   "execution_count": 238,
   "id": "aeb6d50e",
   "metadata": {},
   "outputs": [],
   "source": [
    "colourAC = []\n",
    "for i in range(len(seasonal_rainfall_df)+2):\n",
    "    if i % 2 == 0:\n",
    "        if i != 0:\n",
    "            colourAC.append('E' + str(i))\n",
    "            \n",
    "wb = load_workbook('output_file.xlsx')\n",
    "ws = wb['Seasonal Rainfall']\n",
    "for i in range(len(colourAC)):\n",
    "    ws[(colourAC[i])].fill = PatternFill(start_color = 'FCCA88', end_color = 'FCCA88', fill_type = 'solid')\n",
    "wb.save('output_file.xlsx')\n",
    "wb.close()"
   ]
  },
  {
   "cell_type": "markdown",
   "id": "d99a28aa",
   "metadata": {},
   "source": [
    "###### Seasonal Statistics"
   ]
  },
  {
   "cell_type": "code",
   "execution_count": 239,
   "id": "2f8e8b1e",
   "metadata": {},
   "outputs": [],
   "source": [
    "colourAD = []\n",
    "for i in range(len(seasonal_stats_df)+2):\n",
    "    if i % 2 == 0:\n",
    "        if i != 0:\n",
    "            colourAD.append('A' + str(i))\n",
    "            \n",
    "wb = load_workbook('output_file.xlsx')\n",
    "ws = wb['Seasonal Statistics']\n",
    "for i in range(len(colourAD)):\n",
    "    ws[(colourAD[i])].fill = PatternFill(start_color = 'FCCA88', end_color = 'FCCA88', fill_type = 'solid')\n",
    "wb.save('output_file.xlsx')\n",
    "wb.close()"
   ]
  },
  {
   "cell_type": "code",
   "execution_count": 240,
   "id": "4a347cd1",
   "metadata": {},
   "outputs": [],
   "source": [
    "colourAE = []\n",
    "for i in range(len(seasonal_stats_df)+2):\n",
    "    if i % 2 == 0:\n",
    "        if i != 0:\n",
    "            colourAE.append('B' + str(i))\n",
    "            \n",
    "wb = load_workbook('output_file.xlsx')\n",
    "ws = wb['Seasonal Statistics']\n",
    "for i in range(len(colourAE)):\n",
    "    ws[(colourAE[i])].fill = PatternFill(start_color = 'FCCA88', end_color = 'FCCA88', fill_type = 'solid')\n",
    "wb.save('output_file.xlsx')\n",
    "wb.close()"
   ]
  },
  {
   "cell_type": "code",
   "execution_count": 241,
   "id": "496ccaca",
   "metadata": {},
   "outputs": [],
   "source": [
    "colourAF = []\n",
    "for i in range(len(seasonal_stats_df)+2):\n",
    "    if i % 2 == 0:\n",
    "        if i != 0:\n",
    "            colourAF.append('C' + str(i))\n",
    "            \n",
    "wb = load_workbook('output_file.xlsx')\n",
    "ws = wb['Seasonal Statistics']\n",
    "for i in range(len(colourAF)):\n",
    "    ws[(colourAF[i])].fill = PatternFill(start_color = 'FCCA88', end_color = 'FCCA88', fill_type = 'solid')\n",
    "wb.save('output_file.xlsx')\n",
    "wb.close()"
   ]
  },
  {
   "cell_type": "code",
   "execution_count": 242,
   "id": "571d89ef",
   "metadata": {},
   "outputs": [],
   "source": [
    "colourAG = []\n",
    "for i in range(len(seasonal_stats_df)+2):\n",
    "    if i % 2 == 0:\n",
    "        if i != 0:\n",
    "            colourAG.append('D' + str(i))\n",
    "            \n",
    "wb = load_workbook('output_file.xlsx')\n",
    "ws = wb['Seasonal Statistics']\n",
    "for i in range(len(colourAG)):\n",
    "    ws[(colourAG[i])].fill = PatternFill(start_color = 'FCCA88', end_color = 'FCCA88', fill_type = 'solid')\n",
    "wb.save('output_file.xlsx')\n",
    "wb.close()"
   ]
  },
  {
   "cell_type": "code",
   "execution_count": 243,
   "id": "0ed5e301",
   "metadata": {},
   "outputs": [],
   "source": [
    "colourAH = []\n",
    "for i in range(len(seasonal_stats_df)+2):\n",
    "    if i % 2 == 0:\n",
    "        if i != 0:\n",
    "            colourAH.append('E' + str(i))\n",
    "            \n",
    "wb = load_workbook('output_file.xlsx')\n",
    "ws = wb['Seasonal Statistics']\n",
    "for i in range(len(colourAH)):\n",
    "    ws[(colourAH[i])].fill = PatternFill(start_color = 'FCCA88', end_color = 'FCCA88', fill_type = 'solid')\n",
    "wb.save('output_file.xlsx')\n",
    "wb.close()"
   ]
  },
  {
   "cell_type": "code",
   "execution_count": 244,
   "id": "ec183ec3",
   "metadata": {},
   "outputs": [],
   "source": [
    "colourAI = []\n",
    "for i in range(len(seasonal_stats_df)+2):\n",
    "    if i % 2 == 0:\n",
    "        if i != 0:\n",
    "            colourAI.append('F' + str(i))\n",
    "            \n",
    "wb = load_workbook('output_file.xlsx')\n",
    "ws = wb['Seasonal Statistics']\n",
    "for i in range(len(colourAI)):\n",
    "    ws[(colourAI[i])].fill = PatternFill(start_color = 'FCCA88', end_color = 'FCCA88', fill_type = 'solid')\n",
    "wb.save('output_file.xlsx')\n",
    "wb.close()"
   ]
  },
  {
   "cell_type": "markdown",
   "id": "f9768cef",
   "metadata": {},
   "source": [
    "###### Gumbel Estimate"
   ]
  },
  {
   "cell_type": "code",
   "execution_count": 245,
   "id": "8e577a46",
   "metadata": {},
   "outputs": [],
   "source": [
    "colourAJ = []\n",
    "for i in range(len(gumbel_est_calculations_df)+2):\n",
    "    if i % 2 == 0:\n",
    "        if i != 0:\n",
    "            colourAJ.append('A' + str(i))\n",
    "            \n",
    "wb = load_workbook('output_file.xlsx')\n",
    "ws = wb['Gumbel Estimate']\n",
    "for i in range(len(colourAJ)):\n",
    "    ws[(colourAJ[i])].fill = PatternFill(start_color = 'FCCA88', end_color = 'FCCA88', fill_type = 'solid')\n",
    "wb.save('output_file.xlsx')\n",
    "wb.close()"
   ]
  },
  {
   "cell_type": "code",
   "execution_count": 246,
   "id": "1879a62e",
   "metadata": {},
   "outputs": [],
   "source": [
    "colourAK = []\n",
    "for i in range(len(gumbel_est_calculations_df)+2):\n",
    "    if i % 2 == 0:\n",
    "        if i != 0:\n",
    "            colourAK.append('B' + str(i))\n",
    "            \n",
    "wb = load_workbook('output_file.xlsx')\n",
    "ws = wb['Gumbel Estimate']\n",
    "for i in range(len(colourAK)):\n",
    "    ws[(colourAK[i])].fill = PatternFill(start_color = 'FCCA88', end_color = 'FCCA88', fill_type = 'solid')\n",
    "wb.save('output_file.xlsx')\n",
    "wb.close()"
   ]
  },
  {
   "cell_type": "code",
   "execution_count": 247,
   "id": "6822d6c5",
   "metadata": {},
   "outputs": [],
   "source": [
    "colourAL = []\n",
    "for i in range(len(gumbel_est_calculations_df)+2):\n",
    "    if i % 2 == 0:\n",
    "        if i != 0:\n",
    "            colourAL.append('C' + str(i))\n",
    "            \n",
    "wb = load_workbook('output_file.xlsx')\n",
    "ws = wb['Gumbel Estimate']\n",
    "for i in range(len(colourAL)):\n",
    "    ws[(colourAL[i])].fill = PatternFill(start_color = 'FCCA88', end_color = 'FCCA88', fill_type = 'solid')\n",
    "wb.save('output_file.xlsx')\n",
    "wb.close()"
   ]
  },
  {
   "cell_type": "code",
   "execution_count": 248,
   "id": "d994ecb0",
   "metadata": {},
   "outputs": [],
   "source": [
    "colourAM = []\n",
    "for i in range(len(gumbel_est_calculations_df)+2):\n",
    "    if i % 2 == 0:\n",
    "        if i != 0:\n",
    "            colourAM.append('D' + str(i))\n",
    "            \n",
    "wb = load_workbook('output_file.xlsx')\n",
    "ws = wb['Gumbel Estimate']\n",
    "for i in range(len(colourAM)):\n",
    "    ws[(colourAM[i])].fill = PatternFill(start_color = 'FCCA88', end_color = 'FCCA88', fill_type = 'solid')\n",
    "wb.save('output_file.xlsx')\n",
    "wb.close()"
   ]
  },
  {
   "cell_type": "code",
   "execution_count": 249,
   "id": "6a500747",
   "metadata": {},
   "outputs": [],
   "source": [
    "colourAN = []\n",
    "for i in range(len(gumbel_est_calculations_df)+2):\n",
    "    if i % 2 == 0:\n",
    "        if i != 0:\n",
    "            colourAN.append('E' + str(i))\n",
    "            \n",
    "wb = load_workbook('output_file.xlsx')\n",
    "ws = wb['Gumbel Estimate']\n",
    "for i in range(len(colourAN)):\n",
    "    ws[(colourAN[i])].fill = PatternFill(start_color = 'FCCA88', end_color = 'FCCA88', fill_type = 'solid')\n",
    "wb.save('output_file.xlsx')\n",
    "wb.close()"
   ]
  },
  {
   "cell_type": "code",
   "execution_count": 250,
   "id": "2f1b7dcc",
   "metadata": {},
   "outputs": [],
   "source": [
    "colourAO = []\n",
    "for i in range(len(gumbel_est_calculations_df)+2):\n",
    "    if i % 2 == 0:\n",
    "        if i != 0:\n",
    "            colourAO.append('F' + str(i))\n",
    "            \n",
    "wb = load_workbook('output_file.xlsx')\n",
    "ws = wb['Gumbel Estimate']\n",
    "for i in range(len(colourAO)):\n",
    "    ws[(colourAO[i])].fill = PatternFill(start_color = 'FCCA88', end_color = 'FCCA88', fill_type = 'solid')\n",
    "wb.save('output_file.xlsx')\n",
    "wb.close()"
   ]
  },
  {
   "cell_type": "code",
   "execution_count": 251,
   "id": "440e8028",
   "metadata": {},
   "outputs": [],
   "source": [
    "colourAP = []\n",
    "for i in range(len(gumbel_est_calculations_df)+2):\n",
    "    if i % 2 == 0:\n",
    "        if i != 0:\n",
    "            colourAP.append('G' + str(i))\n",
    "            \n",
    "wb = load_workbook('output_file.xlsx')\n",
    "ws = wb['Gumbel Estimate']\n",
    "for i in range(len(colourAP)):\n",
    "    ws[(colourAP[i])].fill = PatternFill(start_color = 'FCCA88', end_color = 'FCCA88', fill_type = 'solid')\n",
    "wb.save('output_file.xlsx')\n",
    "wb.close()"
   ]
  },
  {
   "cell_type": "code",
   "execution_count": 252,
   "id": "393944c2",
   "metadata": {},
   "outputs": [],
   "source": [
    "colourAQ = []\n",
    "for i in range(len(gumbel_est_calculations_df)+2):\n",
    "    if i % 2 == 0:\n",
    "        if i != 0:\n",
    "            colourAQ.append('H' + str(i))\n",
    "            \n",
    "wb = load_workbook('output_file.xlsx')\n",
    "ws = wb['Gumbel Estimate']\n",
    "for i in range(len(colourAQ)):\n",
    "    ws[(colourAQ[i])].fill = PatternFill(start_color = 'FCCA88', end_color = 'FCCA88', fill_type = 'solid')\n",
    "wb.save('output_file.xlsx')\n",
    "wb.close()"
   ]
  },
  {
   "cell_type": "code",
   "execution_count": 253,
   "id": "cd7c72d2",
   "metadata": {},
   "outputs": [],
   "source": [
    "colourAR = []\n",
    "for i in range(len(gumbel_est_calculations_df)+2):\n",
    "    if i % 2 == 0:\n",
    "        if i != 0:\n",
    "            colourAR.append('I' + str(i))\n",
    "            \n",
    "wb = load_workbook('output_file.xlsx')\n",
    "ws = wb['Gumbel Estimate']\n",
    "for i in range(len(colourAR)):\n",
    "    ws[(colourAR[i])].fill = PatternFill(start_color = 'FCCA88', end_color = 'FCCA88', fill_type = 'solid')\n",
    "wb.save('output_file.xlsx')\n",
    "wb.close()"
   ]
  },
  {
   "cell_type": "markdown",
   "id": "b87046cc",
   "metadata": {},
   "source": [
    "###### Auckland Jan 2023 Stats"
   ]
  },
  {
   "cell_type": "code",
   "execution_count": 254,
   "id": "68d74815",
   "metadata": {},
   "outputs": [],
   "source": [
    "colourAS = []\n",
    "for i in range(len(january_2023_stats_df)+2):\n",
    "    if i % 2 == 0:\n",
    "        if i != 0:\n",
    "            colourAS.append('A' + str(i))\n",
    "            \n",
    "wb = load_workbook('output_file.xlsx')\n",
    "ws = wb['Auckland Jan 2023 Stats']\n",
    "for i in range(len(colourAS)):\n",
    "    ws[(colourAS[i])].fill = PatternFill(start_color = 'FCCA88', end_color = 'FCCA88', fill_type = 'solid')\n",
    "wb.save('output_file.xlsx')\n",
    "wb.close()"
   ]
  },
  {
   "cell_type": "code",
   "execution_count": 255,
   "id": "cb4d3f17",
   "metadata": {},
   "outputs": [],
   "source": [
    "colourAT = []\n",
    "for i in range(len(january_2023_stats_df)+2):\n",
    "    if i % 2 == 0:\n",
    "        if i != 0:\n",
    "            colourAT.append('B' + str(i))\n",
    "            \n",
    "wb = load_workbook('output_file.xlsx')\n",
    "ws = wb['Auckland Jan 2023 Stats']\n",
    "for i in range(len(colourAT)):\n",
    "    ws[(colourAT[i])].fill = PatternFill(start_color = 'FCCA88', end_color = 'FCCA88', fill_type = 'solid')\n",
    "wb.save('output_file.xlsx')\n",
    "wb.close()"
   ]
  },
  {
   "cell_type": "code",
   "execution_count": 256,
   "id": "30b17c30",
   "metadata": {},
   "outputs": [],
   "source": [
    "colourAU = []\n",
    "for i in range(len(january_2023_stats_df)+2):\n",
    "    if i % 2 == 0:\n",
    "        if i != 0:\n",
    "            colourAU.append('C' + str(i))\n",
    "            \n",
    "wb = load_workbook('output_file.xlsx')\n",
    "ws = wb['Auckland Jan 2023 Stats']\n",
    "for i in range(len(colourAU)):\n",
    "    ws[(colourAU[i])].fill = PatternFill(start_color = 'FCCA88', end_color = 'FCCA88', fill_type = 'solid')\n",
    "wb.save('output_file.xlsx')\n",
    "wb.close()"
   ]
  },
  {
   "cell_type": "markdown",
   "id": "459869cf",
   "metadata": {},
   "source": [
    "### 5.3.4 Insert Excel Headers and Information Boxes (.png)"
   ]
  },
  {
   "cell_type": "markdown",
   "id": "7ee72566",
   "metadata": {},
   "source": [
    "###### Auckland Aero Rainfall Data"
   ]
  },
  {
   "cell_type": "code",
   "execution_count": 257,
   "id": "7062ac8c",
   "metadata": {},
   "outputs": [],
   "source": [
    "wb = load_workbook('output_file.xlsx')\n",
    "ws = wb['Auckland Aero Rainfall Data']\n",
    "\n",
    "img = openpyxl.drawing.image.Image('info_headers/info_headers (1).png')\n",
    "img.width = 640\n",
    "img.height = 345\n",
    "img.anchor = 'H1'\n",
    "ws.add_image(img)\n",
    "\n",
    "wb.save('output_file.xlsx')\n",
    "wb.close()"
   ]
  },
  {
   "cell_type": "markdown",
   "id": "9db680b3",
   "metadata": {},
   "source": [
    "###### Monthly Rainfall"
   ]
  },
  {
   "cell_type": "code",
   "execution_count": 258,
   "id": "a63dc9d5",
   "metadata": {},
   "outputs": [],
   "source": [
    "wb = load_workbook('output_file.xlsx')\n",
    "ws = wb['Monthly Rainfall']\n",
    "\n",
    "img = openpyxl.drawing.image.Image('info_headers/info_headers (2).png')\n",
    "img.width = 640\n",
    "img.height = 345\n",
    "img.anchor = 'S1'\n",
    "ws.add_image(img)\n",
    "\n",
    "wb.save('output_file.xlsx')\n",
    "wb.close()"
   ]
  },
  {
   "cell_type": "markdown",
   "id": "cf342475",
   "metadata": {},
   "source": [
    "###### Monthly Statistics"
   ]
  },
  {
   "cell_type": "code",
   "execution_count": 259,
   "id": "d3b02d2f",
   "metadata": {},
   "outputs": [],
   "source": [
    "wb = load_workbook('output_file.xlsx')\n",
    "ws = wb['Monthly Statistics']\n",
    "\n",
    "img = openpyxl.drawing.image.Image('info_headers/info_headers (3).png')\n",
    "img.width = 640\n",
    "img.height = 345\n",
    "img.anchor = 'K1'\n",
    "ws.add_image(img)\n",
    "\n",
    "wb.save('output_file.xlsx')\n",
    "wb.close()"
   ]
  },
  {
   "cell_type": "markdown",
   "id": "8dbe70ae",
   "metadata": {},
   "source": [
    "###### Seasonal Rainfall"
   ]
  },
  {
   "cell_type": "code",
   "execution_count": 260,
   "id": "91ffa54e",
   "metadata": {},
   "outputs": [],
   "source": [
    "wb = load_workbook('output_file.xlsx')\n",
    "ws = wb['Seasonal Rainfall']\n",
    "\n",
    "img = openpyxl.drawing.image.Image('info_headers/info_headers (4).png')\n",
    "img.width = 640\n",
    "img.height = 345\n",
    "img.anchor = 'J1'\n",
    "ws.add_image(img)\n",
    "\n",
    "wb.save('output_file.xlsx')\n",
    "wb.close()"
   ]
  },
  {
   "cell_type": "markdown",
   "id": "77878ddd",
   "metadata": {},
   "source": [
    "###### Seasonal Statistics"
   ]
  },
  {
   "cell_type": "code",
   "execution_count": 261,
   "id": "dbcab37b",
   "metadata": {},
   "outputs": [],
   "source": [
    "wb = load_workbook('output_file.xlsx')\n",
    "ws = wb['Seasonal Statistics']\n",
    "\n",
    "img = openpyxl.drawing.image.Image('info_headers/info_headers (5).png')\n",
    "img.width = 640\n",
    "img.height = 345\n",
    "img.anchor = 'K1'\n",
    "ws.add_image(img)\n",
    "\n",
    "wb.save('output_file.xlsx')\n",
    "wb.close()"
   ]
  },
  {
   "cell_type": "markdown",
   "id": "95fe3c8f",
   "metadata": {},
   "source": [
    "###### Gumbel Estimate"
   ]
  },
  {
   "cell_type": "code",
   "execution_count": 262,
   "id": "e1fc33ac",
   "metadata": {},
   "outputs": [],
   "source": [
    "wb = load_workbook('output_file.xlsx')\n",
    "ws = wb['Gumbel Estimate']\n",
    "\n",
    "img = openpyxl.drawing.image.Image('info_headers/info_headers (6).png')\n",
    "img.width = 640\n",
    "img.height = 345\n",
    "img.anchor = 'N1'\n",
    "ws.add_image(img)\n",
    "\n",
    "wb.save('output_file.xlsx')\n",
    "wb.close()"
   ]
  },
  {
   "cell_type": "code",
   "execution_count": 263,
   "id": "8ced2b06",
   "metadata": {},
   "outputs": [],
   "source": [
    "wb = load_workbook('output_file.xlsx')\n",
    "ws = wb['Gumbel Estimate']\n",
    "\n",
    "img = openpyxl.drawing.image.Image('gumbel_variables.png')\n",
    "img.width = 450\n",
    "img.height = 225\n",
    "img.anchor = 'Q43'\n",
    "ws.add_image(img)\n",
    "\n",
    "wb.save('output_file.xlsx')\n",
    "wb.close()"
   ]
  },
  {
   "cell_type": "code",
   "execution_count": 264,
   "id": "625ca642",
   "metadata": {},
   "outputs": [],
   "source": [
    "wb = load_workbook('output_file.xlsx')\n",
    "ws = wb['Gumbel Estimate']\n",
    "\n",
    "img = openpyxl.drawing.image.Image('gumbel_est.png')\n",
    "img.width = 700\n",
    "img.height = 400\n",
    "img.anchor = 'M57'\n",
    "ws.add_image(img)\n",
    "\n",
    "wb.save('output_file.xlsx')\n",
    "wb.close()"
   ]
  },
  {
   "cell_type": "markdown",
   "id": "cb6a65b8",
   "metadata": {},
   "source": [
    "###### Auckland Jan 2023 Stats"
   ]
  },
  {
   "cell_type": "code",
   "execution_count": 265,
   "id": "d3341d9b",
   "metadata": {},
   "outputs": [],
   "source": [
    "wb = load_workbook('output_file.xlsx')\n",
    "ws = wb['Auckland Jan 2023 Stats']\n",
    "\n",
    "img = openpyxl.drawing.image.Image('info_headers/info_headers (7).png')\n",
    "img.width = 640\n",
    "img.height = 345\n",
    "img.anchor = 'H1'\n",
    "ws.add_image(img)\n",
    "\n",
    "wb.save('output_file.xlsx')\n",
    "wb.close()"
   ]
  },
  {
   "cell_type": "markdown",
   "id": "058d6e97",
   "metadata": {},
   "source": [
    "**************************************************************************************************"
   ]
  },
  {
   "cell_type": "markdown",
   "id": "03c1264d",
   "metadata": {},
   "source": [
    "## 5.4 Add Graphs to Excel Spreadsheet"
   ]
  },
  {
   "cell_type": "markdown",
   "id": "35d31080",
   "metadata": {},
   "source": [
    "###### Auckland Aero Rainfall Data"
   ]
  },
  {
   "cell_type": "code",
   "execution_count": 266,
   "id": "ae2ee4a0",
   "metadata": {},
   "outputs": [],
   "source": [
    "a = len(rainfall_data_df)+1"
   ]
  },
  {
   "cell_type": "code",
   "execution_count": 267,
   "id": "64036b18",
   "metadata": {},
   "outputs": [],
   "source": [
    "wb = load_workbook('output_file.xlsx')\n",
    "ws = wb['Auckland Aero Rainfall Data']\n",
    "\n",
    "# Data for plotting\n",
    "y_values = Reference(ws, min_col=3, max_col=3, min_row=3, max_row=a)\n",
    "x_values = Reference(ws, min_col=2, max_col=2, min_row=2, max_row=a)\n",
    "\n",
    "# Create object of BarChart class\n",
    "chart = BarChart()\n",
    "chart.style = 3 #Style Modification\n",
    "chart.add_data(y_values)\n",
    "chart.set_categories(x_values)\n",
    "\n",
    "# set the title of the chart\n",
    "chart.title = 'Auckland Areo Rainfall (mm/d) (1962/07/01 - 2023/06/29)'\n",
    "\n",
    "# set the title of the x-axis\n",
    "chart.x_axis.title = 'Date'\n",
    "\n",
    "# set the title of the y-axis\n",
    "chart.y_axis.title = 'Rainfall (mm/d)'\n",
    "\n",
    "# Change bar filling and line color \n",
    "s = chart.series[0]\n",
    "s.graphicalProperties.line.solidFill = 'D1831A'\n",
    "s.graphicalProperties.solidFill = 'D1831A'\n",
    "\n",
    "# Change bar size \n",
    "chart.height = 11  # default is 7.5\n",
    "chart.width = 22  # default is 15\n",
    "\n",
    "#Delete Legend\n",
    "chart.legend = None\n",
    "\n",
    "# the top-left corner of the chart\n",
    "ws.add_chart(chart,\"E20\")\n",
    "\n",
    "wb.save('output_file.xlsx')\n",
    "wb.close()"
   ]
  },
  {
   "cell_type": "markdown",
   "id": "fc8f272a",
   "metadata": {},
   "source": [
    "###### Monthly Rainfall"
   ]
  },
  {
   "cell_type": "code",
   "execution_count": 268,
   "id": "43772e88",
   "metadata": {},
   "outputs": [],
   "source": [
    "trace0 = go.Box(\n",
    "    y = monthly_rainfall_df['January'],\n",
    "    name = 'January'\n",
    ")\n",
    "trace1 = go.Box(\n",
    "    y = monthly_rainfall_df['February'],\n",
    "    name = 'February'\n",
    ")\n",
    "trace2 = go.Box(\n",
    "    y = monthly_rainfall_df['March'],\n",
    "    name = 'March'\n",
    ")\n",
    "trace3 = go.Box(\n",
    "    y = monthly_rainfall_df['April'],\n",
    "    name = 'April'\n",
    ")\n",
    "trace4 = go.Box(\n",
    "    y = monthly_rainfall_df['May'],\n",
    "    name = 'May'\n",
    ")\n",
    "trace5 = go.Box(\n",
    "    y = monthly_rainfall_df['June'],\n",
    "    name = 'June'\n",
    ")\n",
    "trace6 = go.Box(\n",
    "    y = monthly_rainfall_df['July'],\n",
    "    name = 'July'\n",
    ")\n",
    "trace7 = go.Box(\n",
    "    y = monthly_rainfall_df['August'],\n",
    "    name = 'August'\n",
    ")\n",
    "trace8 = go.Box(\n",
    "    y = monthly_rainfall_df['September'],\n",
    "    name = 'September'\n",
    ")\n",
    "trace9 = go.Box(\n",
    "    y = monthly_rainfall_df['October'],\n",
    "    name = 'October'\n",
    ")\n",
    "trace10 = go.Box(\n",
    "    y = monthly_rainfall_df['November'],\n",
    "    name = 'November'\n",
    ")\n",
    "trace11 = go.Box(\n",
    "    y = monthly_rainfall_df['December'],\n",
    "    name = 'December'\n",
    ")\n",
    "\n",
    "data = [trace0, trace1, trace2, trace3, trace4, trace5, trace6, trace7, trace8, trace9, trace10, trace11]\n",
    "layout = go.Layout(title = 'Box and Whisker: Monthly Rainfall (mm)')\n",
    "\n",
    "fig = go.Figure(data=data, layout=layout)\n",
    "pyo.plot(fig)\n",
    "\n",
    "img_bytes = fig.to_image(format=\"png\", width=832, height=567, scale=2)\n",
    "Image(img_bytes)\n",
    "fig.write_image('monthly_box_whisker.png')"
   ]
  },
  {
   "cell_type": "code",
   "execution_count": 269,
   "id": "4d22138d",
   "metadata": {},
   "outputs": [],
   "source": [
    "wb = load_workbook('output_file.xlsx')\n",
    "ws = wb['Monthly Rainfall']\n",
    "\n",
    "img = openpyxl.drawing.image.Image('monthly_box_whisker.png')\n",
    "img.width = 832\n",
    "img.height = 567\n",
    "img.anchor = 'P20'\n",
    "ws.add_image(img)\n",
    "\n",
    "wb.save('output_file.xlsx')\n",
    "wb.close()"
   ]
  },
  {
   "cell_type": "markdown",
   "id": "2cdf8f3e",
   "metadata": {},
   "source": [
    "###### Monthly Statistics"
   ]
  },
  {
   "cell_type": "code",
   "execution_count": 270,
   "id": "4b360288",
   "metadata": {},
   "outputs": [],
   "source": [
    "c = len(monthly_stats_df)+1"
   ]
  },
  {
   "cell_type": "code",
   "execution_count": 271,
   "id": "dfd8847e",
   "metadata": {},
   "outputs": [],
   "source": [
    "wb = load_workbook('output_file.xlsx')\n",
    "ws = wb['Monthly Statistics']\n",
    "\n",
    "# Data for plotting\n",
    "y_values = Reference(ws, min_col=2, max_col=6, min_row=1, max_row=c)\n",
    "x_values = Reference(ws, min_col=1, max_col=1, min_row=2, max_row=c)\n",
    "\n",
    "# Create object of LineChart class\n",
    "chart = LineChart()\n",
    "chart.style = 3 #Style Modification\n",
    "chart.add_data(data=y_values, titles_from_data=True)\n",
    "chart.set_categories(x_values)\n",
    "\n",
    "# set the title of the chart\n",
    "chart.title = 'Monthly Statistics'\n",
    "\n",
    "# set the title of the x-axis\n",
    "chart.x_axis.title = 'Month'\n",
    "\n",
    "# set the title of the y-axis\n",
    "chart.y_axis.title = 'Rainfall (mm)'\n",
    "\n",
    "# Change bar filling and line color \n",
    "s = chart.series[0]\n",
    "s.graphicalProperties.line.solidFill = 'D1831A'\n",
    "s.graphicalProperties.solidFill = 'D1831A'\n",
    "\n",
    "# Change bar size \n",
    "chart.height = 11  # default is 7.5\n",
    "chart.width = 22  # default is 15\n",
    "\n",
    "# the top-left corner of the chart\n",
    "ws.add_chart(chart,\"H20\")\n",
    "\n",
    "wb.save('output_file.xlsx')\n",
    "wb.close()\n",
    "\n",
    "time.sleep(5)"
   ]
  },
  {
   "cell_type": "markdown",
   "id": "a2eafc59",
   "metadata": {},
   "source": [
    "###### Seasonal Rainfall"
   ]
  },
  {
   "cell_type": "code",
   "execution_count": 272,
   "id": "7e7274d7",
   "metadata": {},
   "outputs": [],
   "source": [
    "trace0 = go.Box(\n",
    "    y = seasonal_rainfall_df['Summer (Dec - Feb)'],\n",
    "    name = 'Summer (Dec - Feb)'\n",
    ")\n",
    "trace1 = go.Box(\n",
    "    y = seasonal_rainfall_df['Autumn (March - May)'],\n",
    "    name = 'Autumn (March - May)'\n",
    ")\n",
    "trace2 = go.Box(\n",
    "    y = seasonal_rainfall_df['Winter (Jun - Aug)'],\n",
    "    name = 'Winter (Jun - Aug)'\n",
    ")\n",
    "trace3 = go.Box(\n",
    "    y = seasonal_rainfall_df['Spring (Sep - Nov)'],\n",
    "    name = 'Spring (Sep - Nov)'\n",
    ")\n",
    "\n",
    "data = [trace0, trace1, trace2, trace3]\n",
    "layout = go.Layout(title = 'Box and Whisker: Seasonal Rainfall (mm)')\n",
    "\n",
    "fig = go.Figure(data=data, layout=layout)\n",
    "pyo.plot(fig)\n",
    "\n",
    "img_bytes = fig.to_image(format=\"png\", width=832, height=567, scale=2)\n",
    "Image(img_bytes)\n",
    "fig.write_image('seasonal_box_whisker.png')"
   ]
  },
  {
   "cell_type": "code",
   "execution_count": 273,
   "id": "e9d4cea7",
   "metadata": {},
   "outputs": [],
   "source": [
    "wb = load_workbook('output_file.xlsx')\n",
    "ws = wb['Seasonal Rainfall']\n",
    "\n",
    "img = openpyxl.drawing.image.Image('seasonal_box_whisker.png')\n",
    "img.width = 832\n",
    "img.height = 567\n",
    "img.anchor = 'G20'\n",
    "ws.add_image(img)\n",
    "\n",
    "wb.save('output_file.xlsx')\n",
    "wb.close()"
   ]
  },
  {
   "cell_type": "markdown",
   "id": "b378fa19",
   "metadata": {},
   "source": [
    "###### Seasonal Statistics"
   ]
  },
  {
   "cell_type": "code",
   "execution_count": 274,
   "id": "552f1777",
   "metadata": {},
   "outputs": [],
   "source": [
    "e = len(seasonal_stats_df)+1"
   ]
  },
  {
   "cell_type": "code",
   "execution_count": 275,
   "id": "69cb3f6a",
   "metadata": {},
   "outputs": [],
   "source": [
    "wb = load_workbook('output_file.xlsx')\n",
    "ws = wb['Seasonal Statistics']\n",
    "\n",
    "# Data for plotting\n",
    "y_values = Reference(ws, min_col=2, max_col=6, min_row=1, max_row=e)\n",
    "x_values = Reference(ws, min_col=1, max_col=1, min_row=2, max_row=e)\n",
    "\n",
    "# Create object of LineChart class\n",
    "chart = LineChart()\n",
    "chart.style = 3 #Style Modification\n",
    "chart.add_data(data=y_values, titles_from_data=True)\n",
    "chart.set_categories(x_values)\n",
    "\n",
    "# set the title of the chart\n",
    "chart.title = 'Seasonal Statistics'\n",
    "\n",
    "# set the title of the x-axis\n",
    "chart.x_axis.title = 'Seasons'\n",
    "\n",
    "# set the title of the y-axis\n",
    "chart.y_axis.title = 'Rainfall (mm)'\n",
    "\n",
    "# Change bar filling and line color \n",
    "s = chart.series[0]\n",
    "s.graphicalProperties.line.solidFill = 'D1831A'\n",
    "s.graphicalProperties.solidFill = 'D1831A'\n",
    "\n",
    "# Change bar size \n",
    "chart.height = 11  # default is 7.5\n",
    "chart.width = 22  # default is 15\n",
    "\n",
    "# the top-left corner of the chart\n",
    "ws.add_chart(chart,\"H20\")\n",
    "\n",
    "wb.save('output_file.xlsx')\n",
    "wb.close()\n",
    "\n",
    "time.sleep(5)"
   ]
  },
  {
   "cell_type": "markdown",
   "id": "43ee797f",
   "metadata": {},
   "source": [
    "###### Gumbel Estimate"
   ]
  },
  {
   "cell_type": "code",
   "execution_count": 276,
   "id": "e1f7f57e",
   "metadata": {},
   "outputs": [],
   "source": [
    "g = len(gumbel_est_calculations_df)+1"
   ]
  },
  {
   "cell_type": "code",
   "execution_count": 277,
   "id": "148d5a94",
   "metadata": {},
   "outputs": [],
   "source": [
    "wb = load_workbook('output_file.xlsx')\n",
    "ws = wb['Gumbel Estimate']\n",
    "\n",
    "# Data for plotting\n",
    "y_values = Reference(ws, min_col=7, max_col=7, min_row=1, max_row=g)\n",
    "x_values = Reference(ws, min_col=1, max_col=1, min_row=2, max_row=g)\n",
    "\n",
    "# Create object of BarChart class\n",
    "chart = BarChart()\n",
    "chart.style = 3 #Style Modification\n",
    "chart.add_data(data=y_values, titles_from_data=True)\n",
    "chart.set_categories(x_values)\n",
    "\n",
    "# set the title of the chart\n",
    "chart.title = 'Return Period'\n",
    "\n",
    "# set the title of the x-axis\n",
    "chart.x_axis.title = 'Year'\n",
    "\n",
    "# set the title of the y-axis\n",
    "chart.y_axis.title = 'Return Period'\n",
    "\n",
    "# Change bar filling and line color \n",
    "s = chart.series[0]\n",
    "s.graphicalProperties.line.solidFill = 'D1831A'\n",
    "s.graphicalProperties.solidFill = 'D1831A'\n",
    "\n",
    "# Change bar size \n",
    "chart.height = 11  # default is 7.5\n",
    "chart.width = 22  # default is 15\n",
    "\n",
    "# the top-left corner of the chart\n",
    "ws.add_chart(chart,\"K20\")\n",
    "\n",
    "wb.save('output_file.xlsx')\n",
    "wb.close()\n",
    "\n",
    "time.sleep(5)"
   ]
  },
  {
   "cell_type": "markdown",
   "id": "0c0752c2",
   "metadata": {},
   "source": [
    "###### Auckland Jan 2023 Stats"
   ]
  },
  {
   "cell_type": "code",
   "execution_count": 278,
   "id": "61e67200",
   "metadata": {},
   "outputs": [],
   "source": [
    "h = len(january_2023_stats_df)+1"
   ]
  },
  {
   "cell_type": "code",
   "execution_count": 279,
   "id": "a83a9ca9",
   "metadata": {},
   "outputs": [],
   "source": [
    "wb = load_workbook('output_file.xlsx')\n",
    "ws = wb['Auckland Jan 2023 Stats']\n",
    "\n",
    "# Data for plotting\n",
    "y_values = Reference(ws, min_col=2, max_col=3, min_row=1, max_row=h)\n",
    "x_values = Reference(ws, min_col=1, max_col=1, min_row=2, max_row=h)\n",
    "\n",
    "# Create object of LineChart class\n",
    "chart = LineChart()\n",
    "chart.style = 3 #Style Modification\n",
    "chart.add_data(data=y_values, titles_from_data=True)\n",
    "chart.set_categories(x_values)\n",
    "\n",
    "# set the title of the chart\n",
    "chart.title = 'January (1963 - 2022) vs. January 2023'\n",
    "\n",
    "# set the title of the x-axis\n",
    "chart.x_axis.title = 'Statistic Description'\n",
    "\n",
    "# set the title of the y-axis\n",
    "chart.y_axis.title = 'Rainfall (mm)'\n",
    "\n",
    "# Change bar filling and line color \n",
    "s = chart.series[0]\n",
    "s.graphicalProperties.line.solidFill = 'D1831A'\n",
    "s.graphicalProperties.solidFill = 'D1831A'\n",
    "\n",
    "# Change bar size \n",
    "chart.height = 11  # default is 7.5\n",
    "chart.width = 22  # default is 15\n",
    "\n",
    "# the top-left corner of the chart\n",
    "ws.add_chart(chart,\"E20\")\n",
    "\n",
    "wb.save('output_file.xlsx')\n",
    "wb.close()\n",
    "\n",
    "time.sleep(5)"
   ]
  },
  {
   "cell_type": "markdown",
   "id": "1d62dcde",
   "metadata": {},
   "source": [
    "**************************************************************************************************"
   ]
  },
  {
   "cell_type": "markdown",
   "id": "9ab4bb06",
   "metadata": {},
   "source": [
    "## 5.5 Save Excel to Folder"
   ]
  },
  {
   "cell_type": "code",
   "execution_count": 280,
   "id": "dd3f48d0",
   "metadata": {},
   "outputs": [],
   "source": [
    "os.remove('seasonal_box_whisker.png')\n",
    "os.remove('temp-plot.html')\n",
    "os.remove('monthly_box_whisker.png')\n",
    "os.remove('gumbel_est.png')\n",
    "os.remove('gumbel_variables.png')"
   ]
  },
  {
   "cell_type": "markdown",
   "id": "8a077a72",
   "metadata": {},
   "source": [
    "**************************************************************************************************\n",
    "**************************************************************************************************"
   ]
  }
 ],
 "metadata": {
  "kernelspec": {
   "display_name": "Python 3 (ipykernel)",
   "language": "python",
   "name": "python3"
  },
  "language_info": {
   "codemirror_mode": {
    "name": "ipython",
    "version": 3
   },
   "file_extension": ".py",
   "mimetype": "text/x-python",
   "name": "python",
   "nbconvert_exporter": "python",
   "pygments_lexer": "ipython3",
   "version": "3.8.12"
  }
 },
 "nbformat": 4,
 "nbformat_minor": 5
}
